{
  "cells": [
    {
      "cell_type": "code",
      "execution_count": null,
      "metadata": {
        "id": "RPx7oiPXHZ1g"
      },
      "outputs": [],
      "source": [
        "import pandas as pd\n",
        "import numpy as np\n",
        "from sklearn.preprocessing import OneHotEncoder\n",
        "from sklearn.ensemble import RandomForestClassifier\n",
        "from datetime import datetime as dt\n",
        "import warnings\n",
        "warnings.simplefilter(action='ignore', category=FutureWarning)\n",
        "warnings.simplefilter(action='ignore', category=UserWarning)"
      ]
    },
    {
      "cell_type": "code",
      "execution_count": null,
      "metadata": {
        "id": "Le4JZtmiHZ1n",
        "outputId": "b5378e2c-bbf2-4665-ea5f-5cf9f78210b0"
      },
      "outputs": [
        {
          "name": "stderr",
          "output_type": "stream",
          "text": [
            "E:\\anaconda3\\lib\\site-packages\\IPython\\core\\interactiveshell.py:3165: DtypeWarning: Columns (2) have mixed types.Specify dtype option on import or set low_memory=False.\n",
            "  has_raised = await self.run_ast_nodes(code_ast.body, cell_name,\n"
          ]
        }
      ],
      "source": [
        "df= pd.read_csv(r'train.csv',parse_dates=['Crash Date/Time'])\n",
        "tst_data = pd.read_csv(r'test (1).csv',parse_dates=['Crash Date/Time'])\n"
      ]
    },
    {
      "cell_type": "code",
      "execution_count": null,
      "metadata": {
        "scrolled": true,
        "id": "8TOu_kl7HZ1p",
        "outputId": "045254bf-3aa9-4988-ea6b-596732aef113"
      },
      "outputs": [
        {
          "name": "stdout",
          "output_type": "stream",
          "text": [
            "<class 'pandas.core.frame.DataFrame'>\n",
            "RangeIndex: 51490 entries, 0 to 51489\n",
            "Data columns (total 42 columns):\n",
            " #   Column                          Non-Null Count  Dtype         \n",
            "---  ------                          --------------  -----         \n",
            " 0   Report Number                   51490 non-null  object        \n",
            " 1   Local Case Number               45037 non-null  object        \n",
            " 2   Agency Name                     51490 non-null  object        \n",
            " 3   ACRS Report Type                51490 non-null  object        \n",
            " 4   Crash Date/Time                 51490 non-null  datetime64[ns]\n",
            " 5   Route Type                      46522 non-null  object        \n",
            " 6   Road Name                       46988 non-null  object        \n",
            " 7   Cross-Street Type               46471 non-null  object        \n",
            " 8   Cross-Street Name               46968 non-null  object        \n",
            " 9   Off-Road Description            6950 non-null   object        \n",
            " 10  Municipality                    7567 non-null   object        \n",
            " 11  Related Non-Motorist            3648 non-null   object        \n",
            " 12  Collision Type                  51191 non-null  object        \n",
            " 13  Weather                         47461 non-null  object        \n",
            " 14  Surface Condition               45611 non-null  object        \n",
            " 15  Light                           50786 non-null  object        \n",
            " 16  Traffic Control                 43716 non-null  object        \n",
            " 17  Driver Substance Abuse          42395 non-null  object        \n",
            " 18  Non-Motorist Substance Abuse    3384 non-null   object        \n",
            " 19  Person ID                       51490 non-null  object        \n",
            " 20  Injury Severity                 51490 non-null  object        \n",
            " 21  Circumstance                    11752 non-null  object        \n",
            " 22  Drivers License State           48962 non-null  object        \n",
            " 23  Vehicle ID                      51490 non-null  object        \n",
            " 24  Vehicle Damage Extent           51093 non-null  object        \n",
            " 25  Vehicle First Impact Location   51268 non-null  object        \n",
            " 26  Vehicle Second Impact Location  51256 non-null  object        \n",
            " 27  Vehicle Body Type               50705 non-null  object        \n",
            " 28  Vehicle Movement                51292 non-null  object        \n",
            " 29  Vehicle Continuing Dir          50361 non-null  object        \n",
            " 30  Vehicle Going Dir               50377 non-null  object        \n",
            " 31  Speed Limit                     51490 non-null  int64         \n",
            " 32  Driverless Vehicle              51490 non-null  object        \n",
            " 33  Parked Vehicle                  51490 non-null  object        \n",
            " 34  Vehicle Year                    51490 non-null  int64         \n",
            " 35  Vehicle Make                    51482 non-null  object        \n",
            " 36  Vehicle Model                   51471 non-null  object        \n",
            " 37  Equipment Problems              40824 non-null  object        \n",
            " 38  Latitude                        51490 non-null  float64       \n",
            " 39  Longitude                       51490 non-null  float64       \n",
            " 40  Location                        51490 non-null  object        \n",
            " 41  Fault                           51490 non-null  int64         \n",
            "dtypes: datetime64[ns](1), float64(2), int64(3), object(36)\n",
            "memory usage: 16.5+ MB\n"
          ]
        }
      ],
      "source": [
        "df.info()"
      ]
    },
    {
      "cell_type": "code",
      "execution_count": null,
      "metadata": {
        "id": "38GrGVKAHZ1q",
        "outputId": "94aeb37c-302d-4db4-823f-18f94f036581"
      },
      "outputs": [
        {
          "name": "stdout",
          "output_type": "stream",
          "text": [
            "<class 'pandas.core.frame.DataFrame'>\n",
            "RangeIndex: 77235 entries, 0 to 77234\n",
            "Data columns (total 42 columns):\n",
            " #   Column                          Non-Null Count  Dtype         \n",
            "---  ------                          --------------  -----         \n",
            " 0   Id                              77235 non-null  int64         \n",
            " 1   Report Number                   77235 non-null  object        \n",
            " 2   Local Case Number               67162 non-null  object        \n",
            " 3   Agency Name                     77235 non-null  object        \n",
            " 4   ACRS Report Type                77235 non-null  object        \n",
            " 5   Crash Date/Time                 77235 non-null  datetime64[ns]\n",
            " 6   Route Type                      69768 non-null  object        \n",
            " 7   Road Name                       70166 non-null  object        \n",
            " 8   Cross-Street Type               69755 non-null  object        \n",
            " 9   Cross-Street Name               70164 non-null  object        \n",
            " 10  Off-Road Description            7069 non-null   object        \n",
            " 11  Municipality                    8498 non-null   object        \n",
            " 12  Related Non-Motorist            2248 non-null   object        \n",
            " 13  Collision Type                  76990 non-null  object        \n",
            " 14  Weather                         71239 non-null  object        \n",
            " 15  Surface Condition               68182 non-null  object        \n",
            " 16  Light                           76615 non-null  object        \n",
            " 17  Traffic Control                 65185 non-null  object        \n",
            " 18  Driver Substance Abuse          63152 non-null  object        \n",
            " 19  Non-Motorist Substance Abuse    1777 non-null   object        \n",
            " 20  Person ID                       77235 non-null  object        \n",
            " 21  Injury Severity                 77235 non-null  object        \n",
            " 22  Circumstance                    14545 non-null  object        \n",
            " 23  Drivers License State           73315 non-null  object        \n",
            " 24  Vehicle ID                      77235 non-null  object        \n",
            " 25  Vehicle Damage Extent           77099 non-null  object        \n",
            " 26  Vehicle First Impact Location   77154 non-null  object        \n",
            " 27  Vehicle Second Impact Location  77096 non-null  object        \n",
            " 28  Vehicle Body Type               76128 non-null  object        \n",
            " 29  Vehicle Movement                77082 non-null  object        \n",
            " 30  Vehicle Continuing Dir          76034 non-null  object        \n",
            " 31  Vehicle Going Dir               76034 non-null  object        \n",
            " 32  Speed Limit                     77235 non-null  int64         \n",
            " 33  Driverless Vehicle              77235 non-null  object        \n",
            " 34  Parked Vehicle                  77235 non-null  object        \n",
            " 35  Vehicle Year                    77235 non-null  int64         \n",
            " 36  Vehicle Make                    77222 non-null  object        \n",
            " 37  Vehicle Model                   77201 non-null  object        \n",
            " 38  Equipment Problems              60811 non-null  object        \n",
            " 39  Latitude                        77235 non-null  float64       \n",
            " 40  Longitude                       77235 non-null  float64       \n",
            " 41  Location                        77235 non-null  object        \n",
            "dtypes: datetime64[ns](1), float64(2), int64(3), object(36)\n",
            "memory usage: 24.7+ MB\n"
          ]
        }
      ],
      "source": [
        "tst_data.info()"
      ]
    },
    {
      "cell_type": "code",
      "execution_count": null,
      "metadata": {
        "id": "o27ImfW5HZ1q",
        "outputId": "064e674d-e2e8-4f6d-bac1-9cc2cc9150a2"
      },
      "outputs": [
        {
          "data": {
            "text/plain": [
              "Non-Motorist Substance Abuse      93.427850\n",
              "Related Non-Motorist              92.915129\n",
              "Off-Road Description              86.502233\n",
              "Municipality                      85.303943\n",
              "Circumstance                      77.176151\n",
              "Equipment Problems                20.714702\n",
              "Driver Substance Abuse            17.663624\n",
              "Traffic Control                   15.098077\n",
              "Local Case Number                 12.532531\n",
              "Surface Condition                 11.417751\n",
              "Cross-Street Type                  9.747524\n",
              "Route Type                         9.648475\n",
              "Cross-Street Name                  8.782288\n",
              "Road Name                          8.743445\n",
              "Weather                            7.824820\n",
              "Drivers License State              4.909691\n",
              "Vehicle Continuing Dir             2.192659\n",
              "Vehicle Going Dir                  2.161585\n",
              "Vehicle Body Type                  1.524568\n",
              "Light                              1.367256\n",
              "Vehicle Damage Extent              0.771023\n",
              "Collision Type                     0.580695\n",
              "Vehicle Second Impact Location     0.454457\n",
              "Vehicle First Impact Location      0.431152\n",
              "Vehicle Movement                   0.384541\n",
              "Vehicle Model                      0.036900\n",
              "Vehicle Make                       0.015537\n",
              "Location                           0.000000\n",
              "Longitude                          0.000000\n",
              "Latitude                           0.000000\n",
              "Parked Vehicle                     0.000000\n",
              "Vehicle Year                       0.000000\n",
              "Report Number                      0.000000\n",
              "Driverless Vehicle                 0.000000\n",
              "Speed Limit                        0.000000\n",
              "Vehicle ID                         0.000000\n",
              "Injury Severity                    0.000000\n",
              "Person ID                          0.000000\n",
              "Crash Date/Time                    0.000000\n",
              "ACRS Report Type                   0.000000\n",
              "Agency Name                        0.000000\n",
              "Fault                              0.000000\n",
              "dtype: float64"
            ]
          },
          "execution_count": 21,
          "metadata": {},
          "output_type": "execute_result"
        }
      ],
      "source": [
        "df.isnull().sum().sort_values(ascending = False)/len(df)*100"
      ]
    },
    {
      "cell_type": "code",
      "execution_count": null,
      "metadata": {
        "id": "NMqGlrOGHZ1r",
        "outputId": "ac528891-5932-4518-ec67-fcf882bd6887"
      },
      "outputs": [
        {
          "data": {
            "text/plain": [
              "Non-Motorist Substance Abuse      146.548844\n",
              "Related Non-Motorist              145.634104\n",
              "Off-Road Description              136.271121\n",
              "Municipality                      133.495824\n",
              "Circumstance                      121.751796\n",
              "Equipment Problems                 31.897456\n",
              "Driver Substance Abuse             27.350942\n",
              "Traffic Control                    23.402602\n",
              "Local Case Number                  19.563022\n",
              "Surface Condition                  17.582055\n",
              "Cross-Street Type                  14.527093\n",
              "Route Type                         14.501845\n",
              "Cross-Street Name                  13.732764\n",
              "Road Name                          13.728879\n",
              "Weather                            11.644980\n",
              "Drivers License State               7.613129\n",
              "Vehicle Going Dir                   2.332492\n",
              "Vehicle Continuing Dir              2.332492\n",
              "Vehicle Body Type                   2.149932\n",
              "Light                               1.204117\n",
              "Collision Type                      0.475821\n",
              "Vehicle Movement                    0.297145\n",
              "Vehicle Second Impact Location      0.269955\n",
              "Vehicle Damage Extent               0.264129\n",
              "Vehicle First Impact Location       0.157312\n",
              "Vehicle Model                       0.066032\n",
              "Vehicle Make                        0.025248\n",
              "Id                                  0.000000\n",
              "Vehicle Year                        0.000000\n",
              "Driverless Vehicle                  0.000000\n",
              "Latitude                            0.000000\n",
              "Longitude                           0.000000\n",
              "Parked Vehicle                      0.000000\n",
              "Injury Severity                     0.000000\n",
              "Speed Limit                         0.000000\n",
              "Vehicle ID                          0.000000\n",
              "Report Number                       0.000000\n",
              "Person ID                           0.000000\n",
              "Crash Date/Time                     0.000000\n",
              "ACRS Report Type                    0.000000\n",
              "Agency Name                         0.000000\n",
              "Location                            0.000000\n",
              "dtype: float64"
            ]
          },
          "execution_count": 22,
          "metadata": {},
          "output_type": "execute_result"
        }
      ],
      "source": [
        "tst_data.isnull().sum().sort_values(ascending = False)/len(df)*100"
      ]
    },
    {
      "cell_type": "code",
      "execution_count": null,
      "metadata": {
        "id": "Z7hCRSa2HZ1s",
        "outputId": "08b2cc19-4ae3-4a85-d4f6-c8fcebee8a94"
      },
      "outputs": [
        {
          "data": {
            "text/plain": [
              "0                       NaN\n",
              "1                       NaN\n",
              "2                       NaN\n",
              "3                       NaN\n",
              "4        MEDICATION PRESENT\n",
              "                ...        \n",
              "51485                   NaN\n",
              "51486                   NaN\n",
              "51487                   NaN\n",
              "51488    N/A, NONE DETECTED\n",
              "51489                   NaN\n",
              "Name: Non-Motorist Substance Abuse, Length: 51490, dtype: object"
            ]
          },
          "execution_count": 23,
          "metadata": {},
          "output_type": "execute_result"
        }
      ],
      "source": [
        "df['Non-Motorist Substance Abuse']\n"
      ]
    },
    {
      "cell_type": "code",
      "execution_count": null,
      "metadata": {
        "id": "efXj3k95HZ1s",
        "outputId": "cfc5e4ce-a63a-46aa-dfac-bd6b76381582"
      },
      "outputs": [
        {
          "data": {
            "text/plain": [
              "48106"
            ]
          },
          "execution_count": 24,
          "metadata": {},
          "output_type": "execute_result"
        }
      ],
      "source": [
        "df['Non-Motorist Substance Abuse'].isnull().sum()"
      ]
    },
    {
      "cell_type": "code",
      "execution_count": null,
      "metadata": {
        "id": "FuF0mNrLHZ1t",
        "outputId": "d226bdab-8a31-4b3f-a8b0-cd865c667d99"
      },
      "outputs": [
        {
          "data": {
            "text/plain": [
              "75458"
            ]
          },
          "execution_count": 25,
          "metadata": {},
          "output_type": "execute_result"
        }
      ],
      "source": [
        "tst_data['Non-Motorist Substance Abuse'].isnull().sum()"
      ]
    },
    {
      "cell_type": "code",
      "execution_count": null,
      "metadata": {
        "id": "wqwXCkbHHZ1u",
        "outputId": "f1b6a1d1-1475-4d69-c8ce-4d354f451edc"
      },
      "outputs": [
        {
          "data": {
            "text/plain": [
              "NONE DETECTED                     1333\n",
              "N/A, NONE DETECTED                 275\n",
              "ALCOHOL PRESENT                    275\n",
              "MEDICATION PRESENT                 267\n",
              "ILLEGAL DRUG PRESENT               262\n",
              "UNKNOWN                            258\n",
              "ALCOHOL PRESENT, NONE DETECTED     248\n",
              "NONE DETECTED, UNKNOWN             241\n",
              "ALCOHOL CONTRIBUTED                225\n",
              "Name: Non-Motorist Substance Abuse, dtype: int64"
            ]
          },
          "execution_count": 26,
          "metadata": {},
          "output_type": "execute_result"
        }
      ],
      "source": [
        "df['Non-Motorist Substance Abuse'].value_counts()"
      ]
    },
    {
      "cell_type": "code",
      "execution_count": null,
      "metadata": {
        "id": "8ysn9wYGHZ1v",
        "outputId": "e667f670-31a1-4160-f152-50a0bf6cf76a"
      },
      "outputs": [
        {
          "data": {
            "text/plain": [
              "NONE DETECTED                 1615\n",
              "UNKNOWN                         70\n",
              "ALCOHOL PRESENT                 61\n",
              "ALCOHOL CONTRIBUTED             18\n",
              "N/A, NONE DETECTED               5\n",
              "MEDICATION PRESENT               2\n",
              "OTHER                            1\n",
              "ILLEGAL DRUG CONTRIBUTED         1\n",
              "NONE DETECTED, UNKNOWN           1\n",
              "ILLEGAL DRUG PRESENT             1\n",
              "COMBINATION CONTRIBUTED          1\n",
              "COMBINED SUBSTANCE PRESENT       1\n",
              "Name: Non-Motorist Substance Abuse, dtype: int64"
            ]
          },
          "execution_count": 27,
          "metadata": {},
          "output_type": "execute_result"
        }
      ],
      "source": [
        "tst_data['Non-Motorist Substance Abuse'].value_counts()"
      ]
    },
    {
      "cell_type": "code",
      "execution_count": null,
      "metadata": {
        "id": "bY8BCMWiHZ1v"
      },
      "outputs": [],
      "source": [
        "df.drop(['Non-Motorist Substance Abuse'],axis=1,inplace=True)\n",
        "tst_data.drop(['Non-Motorist Substance Abuse'],axis=1,inplace=True)"
      ]
    },
    {
      "cell_type": "code",
      "execution_count": null,
      "metadata": {
        "id": "69E1MiRVHZ1w"
      },
      "outputs": [],
      "source": [
        "df.drop(['Related Non-Motorist'],axis=1,inplace=True)\n",
        "tst_data.drop(['Related Non-Motorist'],axis=1,inplace=True)\n"
      ]
    },
    {
      "cell_type": "code",
      "execution_count": null,
      "metadata": {
        "id": "PAxD2Po7HZ1w"
      },
      "outputs": [],
      "source": []
    },
    {
      "cell_type": "code",
      "execution_count": null,
      "metadata": {
        "id": "gIA6uA5sHZ1x"
      },
      "outputs": [],
      "source": [
        "df.drop(['Off-Road Description','Municipality','Circumstance'],axis=1,inplace=True)\n",
        "tst_data.drop(['Off-Road Description','Municipality','Circumstance'],axis=1,inplace=True)"
      ]
    },
    {
      "cell_type": "code",
      "execution_count": null,
      "metadata": {
        "scrolled": true,
        "id": "VmRIJ3uqHZ1x",
        "outputId": "ab72d0fa-229e-4d0e-d6f8-e1da4eef6d3a"
      },
      "outputs": [
        {
          "data": {
            "text/plain": [
              "Equipment Problems                20.714702\n",
              "Driver Substance Abuse            17.663624\n",
              "Traffic Control                   15.098077\n",
              "Local Case Number                 12.532531\n",
              "Surface Condition                 11.417751\n",
              "Cross-Street Type                  9.747524\n",
              "Route Type                         9.648475\n",
              "Cross-Street Name                  8.782288\n",
              "Road Name                          8.743445\n",
              "Weather                            7.824820\n",
              "Drivers License State              4.909691\n",
              "Vehicle Continuing Dir             2.192659\n",
              "Vehicle Going Dir                  2.161585\n",
              "Vehicle Body Type                  1.524568\n",
              "Light                              1.367256\n",
              "Vehicle Damage Extent              0.771023\n",
              "Collision Type                     0.580695\n",
              "Vehicle Second Impact Location     0.454457\n",
              "Vehicle First Impact Location      0.431152\n",
              "Vehicle Movement                   0.384541\n",
              "Vehicle Model                      0.036900\n",
              "Vehicle Make                       0.015537\n",
              "Report Number                      0.000000\n",
              "Parked Vehicle                     0.000000\n",
              "Latitude                           0.000000\n",
              "Longitude                          0.000000\n",
              "Location                           0.000000\n",
              "Vehicle Year                       0.000000\n",
              "Vehicle ID                         0.000000\n",
              "Driverless Vehicle                 0.000000\n",
              "Speed Limit                        0.000000\n",
              "Injury Severity                    0.000000\n",
              "Person ID                          0.000000\n",
              "Crash Date/Time                    0.000000\n",
              "ACRS Report Type                   0.000000\n",
              "Agency Name                        0.000000\n",
              "Fault                              0.000000\n",
              "dtype: float64"
            ]
          },
          "execution_count": 31,
          "metadata": {},
          "output_type": "execute_result"
        }
      ],
      "source": [
        "df.isnull().sum().sort_values(ascending = False)/len(df)*100"
      ]
    },
    {
      "cell_type": "code",
      "execution_count": null,
      "metadata": {
        "id": "uK0ToA6hHZ1y",
        "outputId": "aa3ba8c0-089e-41d2-9c08-e7bd4a50c18c"
      },
      "outputs": [
        {
          "data": {
            "text/plain": [
              "Equipment Problems                31.897456\n",
              "Driver Substance Abuse            27.350942\n",
              "Traffic Control                   23.402602\n",
              "Local Case Number                 19.563022\n",
              "Surface Condition                 17.582055\n",
              "Cross-Street Type                 14.527093\n",
              "Route Type                        14.501845\n",
              "Cross-Street Name                 13.732764\n",
              "Road Name                         13.728879\n",
              "Weather                           11.644980\n",
              "Drivers License State              7.613129\n",
              "Vehicle Continuing Dir             2.332492\n",
              "Vehicle Going Dir                  2.332492\n",
              "Vehicle Body Type                  2.149932\n",
              "Light                              1.204117\n",
              "Collision Type                     0.475821\n",
              "Vehicle Movement                   0.297145\n",
              "Vehicle Second Impact Location     0.269955\n",
              "Vehicle Damage Extent              0.264129\n",
              "Vehicle First Impact Location      0.157312\n",
              "Vehicle Model                      0.066032\n",
              "Vehicle Make                       0.025248\n",
              "Driverless Vehicle                 0.000000\n",
              "Latitude                           0.000000\n",
              "Vehicle Year                       0.000000\n",
              "Parked Vehicle                     0.000000\n",
              "Longitude                          0.000000\n",
              "Id                                 0.000000\n",
              "Speed Limit                        0.000000\n",
              "Vehicle ID                         0.000000\n",
              "Report Number                      0.000000\n",
              "Injury Severity                    0.000000\n",
              "Person ID                          0.000000\n",
              "Crash Date/Time                    0.000000\n",
              "ACRS Report Type                   0.000000\n",
              "Agency Name                        0.000000\n",
              "Location                           0.000000\n",
              "dtype: float64"
            ]
          },
          "execution_count": 32,
          "metadata": {},
          "output_type": "execute_result"
        }
      ],
      "source": [
        "tst_data.isnull().sum().sort_values(ascending = False)/len(df)*100"
      ]
    },
    {
      "cell_type": "code",
      "execution_count": null,
      "metadata": {
        "id": "NbG3_s2GHZ1z",
        "outputId": "86f7e5a2-dc23-4fa6-890d-613a63ad7732"
      },
      "outputs": [
        {
          "data": {
            "text/plain": [
              "NO MISUSE              35041\n",
              "UNKNOWN                 4072\n",
              "OTHER                    325\n",
              "AIR BAG FAILED           315\n",
              "BELT(S) MISUSED          286\n",
              "BELTS/ANCHORS BROKE      265\n",
              "FACING WRONG WAY         264\n",
              "STRAP/TETHER LOOSE       256\n",
              "Name: Equipment Problems, dtype: int64"
            ]
          },
          "execution_count": 33,
          "metadata": {},
          "output_type": "execute_result"
        }
      ],
      "source": [
        "df['Equipment Problems'].value_counts()"
      ]
    },
    {
      "cell_type": "code",
      "execution_count": null,
      "metadata": {
        "id": "hJAONqTpHZ1z"
      },
      "outputs": [],
      "source": [
        "df_train = df\n",
        "df_test = tst_data\n",
        "Colns_null_count = dict(df_train.isnull().sum())\n",
        "Colns_null_count_t = dict(df_test.isnull().sum())\n",
        "for key, value in Colns_null_count_t.items():\n",
        "    if value != 0:\n",
        "        tst_data[key] = tst_data[key].astype(str)\n",
        "        tst_data[key].fillna(tst_data[key].mode(), inplace=True)\n",
        "for key, value in Colns_null_count.items():\n",
        "    if value != 0:\n",
        "        df[key] = df[key].astype(str)\n",
        "        df[key].fillna(df[key].mode(), inplace=True)\n"
      ]
    },
    {
      "cell_type": "code",
      "execution_count": null,
      "metadata": {
        "id": "l1f1oRdZHZ10",
        "outputId": "3e7880e7-f7db-4402-f71c-d0567e6053ff"
      },
      "outputs": [
        {
          "data": {
            "text/plain": [
              "Report Number                     0\n",
              "Local Case Number                 0\n",
              "Agency Name                       0\n",
              "ACRS Report Type                  0\n",
              "Crash Date/Time                   0\n",
              "Route Type                        0\n",
              "Road Name                         0\n",
              "Cross-Street Type                 0\n",
              "Cross-Street Name                 0\n",
              "Collision Type                    0\n",
              "Weather                           0\n",
              "Surface Condition                 0\n",
              "Light                             0\n",
              "Traffic Control                   0\n",
              "Driver Substance Abuse            0\n",
              "Person ID                         0\n",
              "Injury Severity                   0\n",
              "Drivers License State             0\n",
              "Vehicle ID                        0\n",
              "Vehicle Damage Extent             0\n",
              "Vehicle First Impact Location     0\n",
              "Vehicle Second Impact Location    0\n",
              "Vehicle Body Type                 0\n",
              "Vehicle Movement                  0\n",
              "Vehicle Continuing Dir            0\n",
              "Vehicle Going Dir                 0\n",
              "Speed Limit                       0\n",
              "Driverless Vehicle                0\n",
              "Parked Vehicle                    0\n",
              "Vehicle Year                      0\n",
              "Vehicle Make                      0\n",
              "Vehicle Model                     0\n",
              "Equipment Problems                0\n",
              "Latitude                          0\n",
              "Longitude                         0\n",
              "Location                          0\n",
              "Fault                             0\n",
              "dtype: int64"
            ]
          },
          "execution_count": 35,
          "metadata": {},
          "output_type": "execute_result"
        }
      ],
      "source": [
        "df.isnull().sum()"
      ]
    },
    {
      "cell_type": "code",
      "execution_count": null,
      "metadata": {
        "id": "SmFOPqDFHZ10"
      },
      "outputs": [],
      "source": []
    },
    {
      "cell_type": "code",
      "execution_count": null,
      "metadata": {
        "id": "XYasEujhHZ11",
        "outputId": "f46fa4b3-7679-482a-d650-716971613363"
      },
      "outputs": [
        {
          "name": "stdout",
          "output_type": "stream",
          "text": [
            "(37,)\n"
          ]
        },
        {
          "data": {
            "text/plain": [
              "(37,)"
            ]
          },
          "execution_count": 36,
          "metadata": {},
          "output_type": "execute_result"
        }
      ],
      "source": [
        "print(df.isnull().sum().sort_values(ascending = False).shape)\n",
        "tst_data.isnull().sum().sort_values(ascending = False).shape"
      ]
    },
    {
      "cell_type": "code",
      "execution_count": null,
      "metadata": {
        "id": "gga_NkpFHZ11",
        "outputId": "dd52547f-5696-4faf-af30-60aabe8341c6"
      },
      "outputs": [
        {
          "data": {
            "text/plain": [
              "Report Number                     0.0\n",
              "Vehicle Damage Extent             0.0\n",
              "Vehicle Second Impact Location    0.0\n",
              "Vehicle Body Type                 0.0\n",
              "Vehicle Movement                  0.0\n",
              "Vehicle Continuing Dir            0.0\n",
              "Vehicle Going Dir                 0.0\n",
              "Speed Limit                       0.0\n",
              "Driverless Vehicle                0.0\n",
              "Parked Vehicle                    0.0\n",
              "Vehicle Year                      0.0\n",
              "Vehicle Make                      0.0\n",
              "Vehicle Model                     0.0\n",
              "Equipment Problems                0.0\n",
              "Latitude                          0.0\n",
              "Longitude                         0.0\n",
              "Location                          0.0\n",
              "Vehicle First Impact Location     0.0\n",
              "Vehicle ID                        0.0\n",
              "Local Case Number                 0.0\n",
              "Drivers License State             0.0\n",
              "Agency Name                       0.0\n",
              "ACRS Report Type                  0.0\n",
              "Crash Date/Time                   0.0\n",
              "Route Type                        0.0\n",
              "Road Name                         0.0\n",
              "Cross-Street Type                 0.0\n",
              "Cross-Street Name                 0.0\n",
              "Collision Type                    0.0\n",
              "Weather                           0.0\n",
              "Surface Condition                 0.0\n",
              "Light                             0.0\n",
              "Traffic Control                   0.0\n",
              "Driver Substance Abuse            0.0\n",
              "Person ID                         0.0\n",
              "Injury Severity                   0.0\n",
              "Fault                             0.0\n",
              "dtype: float64"
            ]
          },
          "execution_count": 37,
          "metadata": {},
          "output_type": "execute_result"
        }
      ],
      "source": [
        "df.isnull().sum().sort_values(ascending = False)/len(df)*100"
      ]
    },
    {
      "cell_type": "code",
      "execution_count": null,
      "metadata": {
        "id": "1wsiTMp7HZ12",
        "outputId": "7df85ae8-ad98-4976-c665-993dea806a4b"
      },
      "outputs": [
        {
          "data": {
            "text/plain": [
              "Id                                0.0\n",
              "Vehicle ID                        0.0\n",
              "Vehicle First Impact Location     0.0\n",
              "Vehicle Second Impact Location    0.0\n",
              "Vehicle Body Type                 0.0\n",
              "Vehicle Movement                  0.0\n",
              "Vehicle Continuing Dir            0.0\n",
              "Vehicle Going Dir                 0.0\n",
              "Speed Limit                       0.0\n",
              "Driverless Vehicle                0.0\n",
              "Parked Vehicle                    0.0\n",
              "Vehicle Year                      0.0\n",
              "Vehicle Make                      0.0\n",
              "Vehicle Model                     0.0\n",
              "Equipment Problems                0.0\n",
              "Latitude                          0.0\n",
              "Longitude                         0.0\n",
              "Vehicle Damage Extent             0.0\n",
              "Drivers License State             0.0\n",
              "Report Number                     0.0\n",
              "Injury Severity                   0.0\n",
              "Local Case Number                 0.0\n",
              "Agency Name                       0.0\n",
              "ACRS Report Type                  0.0\n",
              "Crash Date/Time                   0.0\n",
              "Route Type                        0.0\n",
              "Road Name                         0.0\n",
              "Cross-Street Type                 0.0\n",
              "Cross-Street Name                 0.0\n",
              "Collision Type                    0.0\n",
              "Weather                           0.0\n",
              "Surface Condition                 0.0\n",
              "Light                             0.0\n",
              "Traffic Control                   0.0\n",
              "Driver Substance Abuse            0.0\n",
              "Person ID                         0.0\n",
              "Location                          0.0\n",
              "dtype: float64"
            ]
          },
          "execution_count": 38,
          "metadata": {},
          "output_type": "execute_result"
        }
      ],
      "source": [
        "tst_data.isnull().sum().sort_values(ascending = False)/len(df)*100"
      ]
    },
    {
      "cell_type": "code",
      "execution_count": null,
      "metadata": {
        "id": "FRaVXlXdHZ12",
        "outputId": "da6d0b77-4ebe-4e88-dc53-202ed7584cfd"
      },
      "outputs": [
        {
          "name": "stdout",
          "output_type": "stream",
          "text": [
            "<class 'pandas.core.frame.DataFrame'>\n",
            "RangeIndex: 51490 entries, 0 to 51489\n",
            "Data columns (total 37 columns):\n",
            " #   Column                          Non-Null Count  Dtype         \n",
            "---  ------                          --------------  -----         \n",
            " 0   Report Number                   51490 non-null  object        \n",
            " 1   Local Case Number               51490 non-null  object        \n",
            " 2   Agency Name                     51490 non-null  object        \n",
            " 3   ACRS Report Type                51490 non-null  object        \n",
            " 4   Crash Date/Time                 51490 non-null  datetime64[ns]\n",
            " 5   Route Type                      51490 non-null  object        \n",
            " 6   Road Name                       51490 non-null  object        \n",
            " 7   Cross-Street Type               51490 non-null  object        \n",
            " 8   Cross-Street Name               51490 non-null  object        \n",
            " 9   Collision Type                  51490 non-null  object        \n",
            " 10  Weather                         51490 non-null  object        \n",
            " 11  Surface Condition               51490 non-null  object        \n",
            " 12  Light                           51490 non-null  object        \n",
            " 13  Traffic Control                 51490 non-null  object        \n",
            " 14  Driver Substance Abuse          51490 non-null  object        \n",
            " 15  Person ID                       51490 non-null  object        \n",
            " 16  Injury Severity                 51490 non-null  object        \n",
            " 17  Drivers License State           51490 non-null  object        \n",
            " 18  Vehicle ID                      51490 non-null  object        \n",
            " 19  Vehicle Damage Extent           51490 non-null  object        \n",
            " 20  Vehicle First Impact Location   51490 non-null  object        \n",
            " 21  Vehicle Second Impact Location  51490 non-null  object        \n",
            " 22  Vehicle Body Type               51490 non-null  object        \n",
            " 23  Vehicle Movement                51490 non-null  object        \n",
            " 24  Vehicle Continuing Dir          51490 non-null  object        \n",
            " 25  Vehicle Going Dir               51490 non-null  object        \n",
            " 26  Speed Limit                     51490 non-null  int64         \n",
            " 27  Driverless Vehicle              51490 non-null  object        \n",
            " 28  Parked Vehicle                  51490 non-null  object        \n",
            " 29  Vehicle Year                    51490 non-null  int64         \n",
            " 30  Vehicle Make                    51490 non-null  object        \n",
            " 31  Vehicle Model                   51490 non-null  object        \n",
            " 32  Equipment Problems              51490 non-null  object        \n",
            " 33  Latitude                        51490 non-null  float64       \n",
            " 34  Longitude                       51490 non-null  float64       \n",
            " 35  Location                        51490 non-null  object        \n",
            " 36  Fault                           51490 non-null  int64         \n",
            "dtypes: datetime64[ns](1), float64(2), int64(3), object(31)\n",
            "memory usage: 14.5+ MB\n"
          ]
        }
      ],
      "source": [
        "df.info()"
      ]
    },
    {
      "cell_type": "code",
      "execution_count": null,
      "metadata": {
        "id": "BX7Ck8MuHZ12",
        "outputId": "06ae8e42-b4e2-4f81-8228-dcebd584451d"
      },
      "outputs": [
        {
          "name": "stdout",
          "output_type": "stream",
          "text": [
            "<class 'pandas.core.frame.DataFrame'>\n",
            "RangeIndex: 77235 entries, 0 to 77234\n",
            "Data columns (total 37 columns):\n",
            " #   Column                          Non-Null Count  Dtype         \n",
            "---  ------                          --------------  -----         \n",
            " 0   Id                              77235 non-null  int64         \n",
            " 1   Report Number                   77235 non-null  object        \n",
            " 2   Local Case Number               77235 non-null  object        \n",
            " 3   Agency Name                     77235 non-null  object        \n",
            " 4   ACRS Report Type                77235 non-null  object        \n",
            " 5   Crash Date/Time                 77235 non-null  datetime64[ns]\n",
            " 6   Route Type                      77235 non-null  object        \n",
            " 7   Road Name                       77235 non-null  object        \n",
            " 8   Cross-Street Type               77235 non-null  object        \n",
            " 9   Cross-Street Name               77235 non-null  object        \n",
            " 10  Collision Type                  77235 non-null  object        \n",
            " 11  Weather                         77235 non-null  object        \n",
            " 12  Surface Condition               77235 non-null  object        \n",
            " 13  Light                           77235 non-null  object        \n",
            " 14  Traffic Control                 77235 non-null  object        \n",
            " 15  Driver Substance Abuse          77235 non-null  object        \n",
            " 16  Person ID                       77235 non-null  object        \n",
            " 17  Injury Severity                 77235 non-null  object        \n",
            " 18  Drivers License State           77235 non-null  object        \n",
            " 19  Vehicle ID                      77235 non-null  object        \n",
            " 20  Vehicle Damage Extent           77235 non-null  object        \n",
            " 21  Vehicle First Impact Location   77235 non-null  object        \n",
            " 22  Vehicle Second Impact Location  77235 non-null  object        \n",
            " 23  Vehicle Body Type               77235 non-null  object        \n",
            " 24  Vehicle Movement                77235 non-null  object        \n",
            " 25  Vehicle Continuing Dir          77235 non-null  object        \n",
            " 26  Vehicle Going Dir               77235 non-null  object        \n",
            " 27  Speed Limit                     77235 non-null  int64         \n",
            " 28  Driverless Vehicle              77235 non-null  object        \n",
            " 29  Parked Vehicle                  77235 non-null  object        \n",
            " 30  Vehicle Year                    77235 non-null  int64         \n",
            " 31  Vehicle Make                    77235 non-null  object        \n",
            " 32  Vehicle Model                   77235 non-null  object        \n",
            " 33  Equipment Problems              77235 non-null  object        \n",
            " 34  Latitude                        77235 non-null  float64       \n",
            " 35  Longitude                       77235 non-null  float64       \n",
            " 36  Location                        77235 non-null  object        \n",
            "dtypes: datetime64[ns](1), float64(2), int64(3), object(31)\n",
            "memory usage: 21.8+ MB\n"
          ]
        }
      ],
      "source": [
        "tst_data.info()"
      ]
    },
    {
      "cell_type": "code",
      "execution_count": null,
      "metadata": {
        "id": "F7jnUXAmHZ13"
      },
      "outputs": [],
      "source": [
        "#Report number columns skipped"
      ]
    },
    {
      "cell_type": "code",
      "execution_count": null,
      "metadata": {
        "id": "KtEFlly2HZ13",
        "outputId": "e6f2618a-adb0-417d-e8f1-162def1de6c9"
      },
      "outputs": [
        {
          "data": {
            "text/plain": [
              "0        1\n",
              "1        1\n",
              "2        0\n",
              "3        1\n",
              "4        0\n",
              "        ..\n",
              "51485    0\n",
              "51486    1\n",
              "51487    0\n",
              "51488    0\n",
              "51489    0\n",
              "Name: Fault, Length: 51490, dtype: int64"
            ]
          },
          "execution_count": 42,
          "metadata": {},
          "output_type": "execute_result"
        }
      ],
      "source": [
        "df['Fault'] \n",
        "#Target columns"
      ]
    },
    {
      "cell_type": "code",
      "execution_count": null,
      "metadata": {
        "id": "1rNzP_-YHZ13",
        "outputId": "7b659ed0-5835-4b64-a1d9-bb442404f8e0"
      },
      "outputs": [
        {
          "data": {
            "text/plain": [
              "49160"
            ]
          },
          "execution_count": 43,
          "metadata": {},
          "output_type": "execute_result"
        }
      ],
      "source": [
        "np.count_nonzero(df['Vehicle ID'].unique())"
      ]
    },
    {
      "cell_type": "code",
      "execution_count": null,
      "metadata": {
        "id": "aMlreYzEHZ14",
        "outputId": "9fb355b0-d764-415e-b3fb-c1d2b7db72c7"
      },
      "outputs": [
        {
          "data": {
            "text/plain": [
              "77235"
            ]
          },
          "execution_count": 44,
          "metadata": {},
          "output_type": "execute_result"
        }
      ],
      "source": [
        "np.count_nonzero(tst_data['Vehicle ID'].unique())"
      ]
    },
    {
      "cell_type": "code",
      "execution_count": null,
      "metadata": {
        "id": "oICCdOD0HZ14",
        "outputId": "b1e437b2-231d-46c4-dad0-a5078db70121"
      },
      "outputs": [
        {
          "data": {
            "text/plain": [
              "C22943-CC22F    4\n",
              "5799AF-0001B    3\n",
              "978E10-66358    3\n",
              "D39AC5-F8B1A    3\n",
              "5B842C-8724D    3\n",
              "               ..\n",
              "71550C-2199F    1\n",
              "8B1253-5D3FC    1\n",
              "7CD6E6-79A48    1\n",
              "179B64-0F0C4    1\n",
              "F93136-9251E    1\n",
              "Name: Vehicle ID, Length: 49160, dtype: int64"
            ]
          },
          "execution_count": 45,
          "metadata": {},
          "output_type": "execute_result"
        }
      ],
      "source": [
        "df['Vehicle ID'].value_counts()"
      ]
    },
    {
      "cell_type": "code",
      "execution_count": null,
      "metadata": {
        "id": "0GxPxcN-HZ14"
      },
      "outputs": [],
      "source": [
        "df.drop(['Vehicle ID'],axis=1,inplace=True)\n",
        "tst_data.drop(['Vehicle ID'],axis=1,inplace=True)\n"
      ]
    },
    {
      "cell_type": "code",
      "execution_count": null,
      "metadata": {
        "id": "c-tSoCrWHZ15",
        "outputId": "12a0f5cb-14af-44e3-ba29-b0f31ed25bbe"
      },
      "outputs": [
        {
          "name": "stdout",
          "output_type": "stream",
          "text": [
            "38953\n"
          ]
        },
        {
          "data": {
            "text/plain": [
              "53350"
            ]
          },
          "execution_count": 47,
          "metadata": {},
          "output_type": "execute_result"
        }
      ],
      "source": [
        "print(np.count_nonzero(df['Location'].unique()))\n",
        "np.count_nonzero(tst_data['Location'].unique())"
      ]
    },
    {
      "cell_type": "code",
      "execution_count": null,
      "metadata": {
        "id": "UCUgLh6tHZ15",
        "outputId": "6c1157cd-1fb0-46b1-c2ce-e6a0d618a1dd"
      },
      "outputs": [
        {
          "name": "stdout",
          "output_type": "stream",
          "text": [
            "<class 'pandas.core.frame.DataFrame'>\n",
            "RangeIndex: 77235 entries, 0 to 77234\n",
            "Data columns (total 36 columns):\n",
            " #   Column                          Non-Null Count  Dtype         \n",
            "---  ------                          --------------  -----         \n",
            " 0   Id                              77235 non-null  int64         \n",
            " 1   Report Number                   77235 non-null  object        \n",
            " 2   Local Case Number               77235 non-null  object        \n",
            " 3   Agency Name                     77235 non-null  object        \n",
            " 4   ACRS Report Type                77235 non-null  object        \n",
            " 5   Crash Date/Time                 77235 non-null  datetime64[ns]\n",
            " 6   Route Type                      77235 non-null  object        \n",
            " 7   Road Name                       77235 non-null  object        \n",
            " 8   Cross-Street Type               77235 non-null  object        \n",
            " 9   Cross-Street Name               77235 non-null  object        \n",
            " 10  Collision Type                  77235 non-null  object        \n",
            " 11  Weather                         77235 non-null  object        \n",
            " 12  Surface Condition               77235 non-null  object        \n",
            " 13  Light                           77235 non-null  object        \n",
            " 14  Traffic Control                 77235 non-null  object        \n",
            " 15  Driver Substance Abuse          77235 non-null  object        \n",
            " 16  Person ID                       77235 non-null  object        \n",
            " 17  Injury Severity                 77235 non-null  object        \n",
            " 18  Drivers License State           77235 non-null  object        \n",
            " 19  Vehicle Damage Extent           77235 non-null  object        \n",
            " 20  Vehicle First Impact Location   77235 non-null  object        \n",
            " 21  Vehicle Second Impact Location  77235 non-null  object        \n",
            " 22  Vehicle Body Type               77235 non-null  object        \n",
            " 23  Vehicle Movement                77235 non-null  object        \n",
            " 24  Vehicle Continuing Dir          77235 non-null  object        \n",
            " 25  Vehicle Going Dir               77235 non-null  object        \n",
            " 26  Speed Limit                     77235 non-null  int64         \n",
            " 27  Driverless Vehicle              77235 non-null  object        \n",
            " 28  Parked Vehicle                  77235 non-null  object        \n",
            " 29  Vehicle Year                    77235 non-null  int64         \n",
            " 30  Vehicle Make                    77235 non-null  object        \n",
            " 31  Vehicle Model                   77235 non-null  object        \n",
            " 32  Equipment Problems              77235 non-null  object        \n",
            " 33  Latitude                        77235 non-null  float64       \n",
            " 34  Longitude                       77235 non-null  float64       \n",
            " 35  Location                        77235 non-null  object        \n",
            "dtypes: datetime64[ns](1), float64(2), int64(3), object(30)\n",
            "memory usage: 21.2+ MB\n"
          ]
        }
      ],
      "source": [
        "tst_data.info()"
      ]
    },
    {
      "cell_type": "code",
      "execution_count": null,
      "metadata": {
        "scrolled": true,
        "id": "0EMA8Yl1HZ15",
        "outputId": "a2bf69b0-c703-44c9-faa7-817252159ed1"
      },
      "outputs": [
        {
          "data": {
            "text/plain": [
              "(51490, 36)"
            ]
          },
          "execution_count": 49,
          "metadata": {},
          "output_type": "execute_result"
        }
      ],
      "source": [
        "df.shape"
      ]
    },
    {
      "cell_type": "code",
      "execution_count": null,
      "metadata": {
        "id": "RzvAG9rbHZ15",
        "outputId": "c917697b-81a3-49e4-8e5c-67c399dbb920"
      },
      "outputs": [
        {
          "data": {
            "text/plain": [
              "(77235, 36)"
            ]
          },
          "execution_count": 50,
          "metadata": {},
          "output_type": "execute_result"
        }
      ],
      "source": [
        "tst_data.shape"
      ]
    },
    {
      "cell_type": "code",
      "execution_count": null,
      "metadata": {
        "id": "fp9u9OfVHZ16",
        "outputId": "005627b5-0656-48b0-d3f6-0b0352f2bc28"
      },
      "outputs": [
        {
          "data": {
            "text/html": [
              "<div>\n",
              "<style scoped>\n",
              "    .dataframe tbody tr th:only-of-type {\n",
              "        vertical-align: middle;\n",
              "    }\n",
              "\n",
              "    .dataframe tbody tr th {\n",
              "        vertical-align: top;\n",
              "    }\n",
              "\n",
              "    .dataframe thead th {\n",
              "        text-align: right;\n",
              "    }\n",
              "</style>\n",
              "<table border=\"1\" class=\"dataframe\">\n",
              "  <thead>\n",
              "    <tr style=\"text-align: right;\">\n",
              "      <th></th>\n",
              "      <th>Report Number</th>\n",
              "      <th>Local Case Number</th>\n",
              "      <th>Agency Name</th>\n",
              "      <th>ACRS Report Type</th>\n",
              "      <th>Crash Date/Time</th>\n",
              "      <th>Route Type</th>\n",
              "      <th>Road Name</th>\n",
              "      <th>Cross-Street Type</th>\n",
              "      <th>Cross-Street Name</th>\n",
              "      <th>Collision Type</th>\n",
              "      <th>...</th>\n",
              "      <th>Driverless Vehicle</th>\n",
              "      <th>Parked Vehicle</th>\n",
              "      <th>Vehicle Year</th>\n",
              "      <th>Vehicle Make</th>\n",
              "      <th>Vehicle Model</th>\n",
              "      <th>Equipment Problems</th>\n",
              "      <th>Latitude</th>\n",
              "      <th>Longitude</th>\n",
              "      <th>Location</th>\n",
              "      <th>Fault</th>\n",
              "    </tr>\n",
              "  </thead>\n",
              "  <tbody>\n",
              "    <tr>\n",
              "      <th>0</th>\n",
              "      <td>MP060D</td>\n",
              "      <td>10196</td>\n",
              "      <td>Montgomery County Police</td>\n",
              "      <td>Injury Crash</td>\n",
              "      <td>2017-06-05 16:27:00</td>\n",
              "      <td>Maryland (State)</td>\n",
              "      <td>OLD HUNDRED RD</td>\n",
              "      <td>County</td>\n",
              "      <td>THURSTON RD</td>\n",
              "      <td>SINGLE VEHICLE</td>\n",
              "      <td>...</td>\n",
              "      <td>No</td>\n",
              "      <td>No</td>\n",
              "      <td>2005</td>\n",
              "      <td>GMC</td>\n",
              "      <td>TRUCK</td>\n",
              "      <td>NO MISUSE</td>\n",
              "      <td>39.263378</td>\n",
              "      <td>-77.344203</td>\n",
              "      <td>3.6383 7.4233</td>\n",
              "      <td>1</td>\n",
              "    </tr>\n",
              "    <tr>\n",
              "      <th>1</th>\n",
              "      <td>MP000X</td>\n",
              "      <td>20080</td>\n",
              "      <td>Montgomery County Police</td>\n",
              "      <td>Injury Crash</td>\n",
              "      <td>2020-02-22 10:00:00</td>\n",
              "      <td>County</td>\n",
              "      <td>JANET RD</td>\n",
              "      <td>County</td>\n",
              "      <td>FLACK ST</td>\n",
              "      <td>STRAIGHT MOVEMENT ANGLE</td>\n",
              "      <td>...</td>\n",
              "      <td>No</td>\n",
              "      <td>Yes</td>\n",
              "      <td>2018</td>\n",
              "      <td>FORD</td>\n",
              "      <td>FIESTA</td>\n",
              "      <td>NO MISUSE</td>\n",
              "      <td>39.068913</td>\n",
              "      <td>-77.063227</td>\n",
              "      <td>3.0862 7.324</td>\n",
              "      <td>1</td>\n",
              "    </tr>\n",
              "    <tr>\n",
              "      <th>2</th>\n",
              "      <td>MP070N</td>\n",
              "      <td>10103</td>\n",
              "      <td>Montgomery County Police</td>\n",
              "      <td>Property Damage Crash</td>\n",
              "      <td>2017-06-11 08:21:00</td>\n",
              "      <td>Maryland (State)</td>\n",
              "      <td>COLESVILLE RD</td>\n",
              "      <td>Maryland (State)</td>\n",
              "      <td>STRUC #15082</td>\n",
              "      <td>SAME DIRECTION RIGHT TURN</td>\n",
              "      <td>...</td>\n",
              "      <td>No</td>\n",
              "      <td>No</td>\n",
              "      <td>2016</td>\n",
              "      <td>NEW FLYER</td>\n",
              "      <td>TBU</td>\n",
              "      <td>NO MISUSE</td>\n",
              "      <td>38.993578</td>\n",
              "      <td>-77.032718</td>\n",
              "      <td>3.9583 7.3783</td>\n",
              "      <td>0</td>\n",
              "    </tr>\n",
              "    <tr>\n",
              "      <th>3</th>\n",
              "      <td>MP130Y</td>\n",
              "      <td>10208</td>\n",
              "      <td>Montgomery County Police</td>\n",
              "      <td>Injury Crash</td>\n",
              "      <td>2019-05-10 07:30:00</td>\n",
              "      <td>County</td>\n",
              "      <td>PARKLAND DR</td>\n",
              "      <td>County</td>\n",
              "      <td>FRANKFORT DR</td>\n",
              "      <td>OTHER</td>\n",
              "      <td>...</td>\n",
              "      <td>No</td>\n",
              "      <td>No</td>\n",
              "      <td>2001</td>\n",
              "      <td>CHEV</td>\n",
              "      <td>SUBURBAN</td>\n",
              "      <td>OTHER</td>\n",
              "      <td>39.083480</td>\n",
              "      <td>-77.086933</td>\n",
              "      <td>3.84,-70633</td>\n",
              "      <td>1</td>\n",
              "    </tr>\n",
              "    <tr>\n",
              "      <th>4</th>\n",
              "      <td>MP770Y</td>\n",
              "      <td>1091</td>\n",
              "      <td>Montgomery County Police</td>\n",
              "      <td>Injury Crash</td>\n",
              "      <td>2016-08-02 17:00:00</td>\n",
              "      <td>Maryland (State)</td>\n",
              "      <td>OLD GEORGETOWN RD</td>\n",
              "      <td>County</td>\n",
              "      <td>MCKINLEY ST</td>\n",
              "      <td>SAME DIR REAR END</td>\n",
              "      <td>...</td>\n",
              "      <td>No</td>\n",
              "      <td>No</td>\n",
              "      <td>2013</td>\n",
              "      <td>KIA</td>\n",
              "      <td>RIO</td>\n",
              "      <td>NO MISUSE</td>\n",
              "      <td>38.996942</td>\n",
              "      <td>-77.109168</td>\n",
              "      <td>3.9917 7.0183</td>\n",
              "      <td>0</td>\n",
              "    </tr>\n",
              "    <tr>\n",
              "      <th>...</th>\n",
              "      <td>...</td>\n",
              "      <td>...</td>\n",
              "      <td>...</td>\n",
              "      <td>...</td>\n",
              "      <td>...</td>\n",
              "      <td>...</td>\n",
              "      <td>...</td>\n",
              "      <td>...</td>\n",
              "      <td>...</td>\n",
              "      <td>...</td>\n",
              "      <td>...</td>\n",
              "      <td>...</td>\n",
              "      <td>...</td>\n",
              "      <td>...</td>\n",
              "      <td>...</td>\n",
              "      <td>...</td>\n",
              "      <td>...</td>\n",
              "      <td>...</td>\n",
              "      <td>...</td>\n",
              "      <td>...</td>\n",
              "      <td>...</td>\n",
              "    </tr>\n",
              "    <tr>\n",
              "      <th>51485</th>\n",
              "      <td>MP6308</td>\n",
              "      <td>10034</td>\n",
              "      <td>Montgomery County Police</td>\n",
              "      <td>Injury Crash</td>\n",
              "      <td>2019-02-27 10:58:00</td>\n",
              "      <td>Maryland (State)</td>\n",
              "      <td>GEORGIA AVE</td>\n",
              "      <td>County</td>\n",
              "      <td>GOLD MINE RD</td>\n",
              "      <td>SAME DIRECTION LEFT TURN</td>\n",
              "      <td>...</td>\n",
              "      <td>No</td>\n",
              "      <td>Yes</td>\n",
              "      <td>2001</td>\n",
              "      <td>CAT</td>\n",
              "      <td>IT38H</td>\n",
              "      <td>NO MISUSE</td>\n",
              "      <td>39.175678</td>\n",
              "      <td>-77.058543</td>\n",
              "      <td>3.7683 7.5533</td>\n",
              "      <td>0</td>\n",
              "    </tr>\n",
              "    <tr>\n",
              "      <th>51486</th>\n",
              "      <td>MP2104</td>\n",
              "      <td>20221</td>\n",
              "      <td>Montgomery County Police</td>\n",
              "      <td>Injury Crash</td>\n",
              "      <td>2020-06-29 13:29:00</td>\n",
              "      <td>Maryland (State)</td>\n",
              "      <td>FREDERICK RD</td>\n",
              "      <td>County</td>\n",
              "      <td>E GUDE DR</td>\n",
              "      <td>SAME DIR REAR END</td>\n",
              "      <td>...</td>\n",
              "      <td>No</td>\n",
              "      <td>No</td>\n",
              "      <td>2006</td>\n",
              "      <td>LEXUS</td>\n",
              "      <td>SC430</td>\n",
              "      <td>NO MISUSE</td>\n",
              "      <td>39.105883</td>\n",
              "      <td>-77.157818</td>\n",
              "      <td>3.0833 7.5887</td>\n",
              "      <td>1</td>\n",
              "    </tr>\n",
              "    <tr>\n",
              "      <th>51487</th>\n",
              "      <td>MP240M</td>\n",
              "      <td>1007</td>\n",
              "      <td>Montgomery County Police</td>\n",
              "      <td>Injury Crash</td>\n",
              "      <td>2016-10-04 15:17:00</td>\n",
              "      <td>Maryland (State)</td>\n",
              "      <td>FREDERICK RD</td>\n",
              "      <td>County</td>\n",
              "      <td>BRINK RD</td>\n",
              "      <td>HEAD ON LEFT TURN</td>\n",
              "      <td>...</td>\n",
              "      <td>No</td>\n",
              "      <td>No</td>\n",
              "      <td>2005</td>\n",
              "      <td>PONTIAC</td>\n",
              "      <td>VAN</td>\n",
              "      <td>NO MISUSE</td>\n",
              "      <td>39.191402</td>\n",
              "      <td>-77.266897</td>\n",
              "      <td>3.9417 7.6867</td>\n",
              "      <td>0</td>\n",
              "    </tr>\n",
              "    <tr>\n",
              "      <th>51488</th>\n",
              "      <td>D5102</td>\n",
              "      <td>1034</td>\n",
              "      <td>Rockville Police Departme</td>\n",
              "      <td>Injury Crash</td>\n",
              "      <td>2016-07-05 09:52:00</td>\n",
              "      <td>Municipality</td>\n",
              "      <td>WOOTTON PKWY</td>\n",
              "      <td>Municipality</td>\n",
              "      <td>TOWER OAKS BLVD</td>\n",
              "      <td>SAME DIRECTION RIGHT TURN</td>\n",
              "      <td>...</td>\n",
              "      <td>No</td>\n",
              "      <td>No</td>\n",
              "      <td>2009</td>\n",
              "      <td>FORD</td>\n",
              "      <td>FLEX</td>\n",
              "      <td>NO MISUSE</td>\n",
              "      <td>39.066993</td>\n",
              "      <td>-77.153778</td>\n",
              "      <td>3.6933 7.5783</td>\n",
              "      <td>0</td>\n",
              "    </tr>\n",
              "    <tr>\n",
              "      <th>51489</th>\n",
              "      <td>MP560L</td>\n",
              "      <td>10006</td>\n",
              "      <td>Montgomery County Police</td>\n",
              "      <td>Property Damage Crash</td>\n",
              "      <td>2017-05-16 05:37:00</td>\n",
              "      <td>County</td>\n",
              "      <td>RANDOLPH RD</td>\n",
              "      <td>County</td>\n",
              "      <td>GLENALLAN AVE</td>\n",
              "      <td>STRAIGHT MOVEMENT ANGLE</td>\n",
              "      <td>...</td>\n",
              "      <td>No</td>\n",
              "      <td>No</td>\n",
              "      <td>2016</td>\n",
              "      <td>MACK</td>\n",
              "      <td>TRUCK</td>\n",
              "      <td>NO MISUSE</td>\n",
              "      <td>39.060417</td>\n",
              "      <td>-77.044988</td>\n",
              "      <td>3.2733 7.12</td>\n",
              "      <td>0</td>\n",
              "    </tr>\n",
              "  </tbody>\n",
              "</table>\n",
              "<p>51490 rows × 36 columns</p>\n",
              "</div>"
            ],
            "text/plain": [
              "      Report Number Local Case Number                Agency Name  \\\n",
              "0            MP060D             10196   Montgomery County Police   \n",
              "1            MP000X             20080   Montgomery County Police   \n",
              "2            MP070N             10103   Montgomery County Police   \n",
              "3            MP130Y             10208   Montgomery County Police   \n",
              "4            MP770Y              1091   Montgomery County Police   \n",
              "...             ...               ...                        ...   \n",
              "51485        MP6308             10034   Montgomery County Police   \n",
              "51486        MP2104             20221   Montgomery County Police   \n",
              "51487        MP240M              1007   Montgomery County Police   \n",
              "51488         D5102              1034  Rockville Police Departme   \n",
              "51489        MP560L             10006   Montgomery County Police   \n",
              "\n",
              "            ACRS Report Type     Crash Date/Time        Route Type  \\\n",
              "0               Injury Crash 2017-06-05 16:27:00  Maryland (State)   \n",
              "1               Injury Crash 2020-02-22 10:00:00            County   \n",
              "2      Property Damage Crash 2017-06-11 08:21:00  Maryland (State)   \n",
              "3               Injury Crash 2019-05-10 07:30:00            County   \n",
              "4               Injury Crash 2016-08-02 17:00:00  Maryland (State)   \n",
              "...                      ...                 ...               ...   \n",
              "51485           Injury Crash 2019-02-27 10:58:00  Maryland (State)   \n",
              "51486           Injury Crash 2020-06-29 13:29:00  Maryland (State)   \n",
              "51487           Injury Crash 2016-10-04 15:17:00  Maryland (State)   \n",
              "51488           Injury Crash 2016-07-05 09:52:00      Municipality   \n",
              "51489  Property Damage Crash 2017-05-16 05:37:00            County   \n",
              "\n",
              "               Road Name Cross-Street Type Cross-Street Name  \\\n",
              "0         OLD HUNDRED RD            County       THURSTON RD   \n",
              "1               JANET RD            County          FLACK ST   \n",
              "2          COLESVILLE RD  Maryland (State)      STRUC #15082   \n",
              "3            PARKLAND DR            County      FRANKFORT DR   \n",
              "4      OLD GEORGETOWN RD            County       MCKINLEY ST   \n",
              "...                  ...               ...               ...   \n",
              "51485        GEORGIA AVE            County      GOLD MINE RD   \n",
              "51486       FREDERICK RD            County         E GUDE DR   \n",
              "51487       FREDERICK RD            County          BRINK RD   \n",
              "51488       WOOTTON PKWY      Municipality   TOWER OAKS BLVD   \n",
              "51489        RANDOLPH RD            County     GLENALLAN AVE   \n",
              "\n",
              "                  Collision Type  ... Driverless Vehicle Parked Vehicle  \\\n",
              "0                 SINGLE VEHICLE  ...                 No             No   \n",
              "1        STRAIGHT MOVEMENT ANGLE  ...                 No            Yes   \n",
              "2      SAME DIRECTION RIGHT TURN  ...                 No             No   \n",
              "3                          OTHER  ...                 No             No   \n",
              "4              SAME DIR REAR END  ...                 No             No   \n",
              "...                          ...  ...                ...            ...   \n",
              "51485   SAME DIRECTION LEFT TURN  ...                 No            Yes   \n",
              "51486          SAME DIR REAR END  ...                 No             No   \n",
              "51487          HEAD ON LEFT TURN  ...                 No             No   \n",
              "51488  SAME DIRECTION RIGHT TURN  ...                 No             No   \n",
              "51489    STRAIGHT MOVEMENT ANGLE  ...                 No             No   \n",
              "\n",
              "      Vehicle Year Vehicle Make Vehicle Model Equipment Problems   Latitude  \\\n",
              "0             2005          GMC         TRUCK          NO MISUSE  39.263378   \n",
              "1             2018         FORD        FIESTA          NO MISUSE  39.068913   \n",
              "2             2016    NEW FLYER           TBU          NO MISUSE  38.993578   \n",
              "3             2001         CHEV      SUBURBAN              OTHER  39.083480   \n",
              "4             2013          KIA           RIO          NO MISUSE  38.996942   \n",
              "...            ...          ...           ...                ...        ...   \n",
              "51485         2001          CAT         IT38H          NO MISUSE  39.175678   \n",
              "51486         2006        LEXUS         SC430          NO MISUSE  39.105883   \n",
              "51487         2005      PONTIAC           VAN          NO MISUSE  39.191402   \n",
              "51488         2009         FORD          FLEX          NO MISUSE  39.066993   \n",
              "51489         2016         MACK         TRUCK          NO MISUSE  39.060417   \n",
              "\n",
              "       Longitude       Location Fault  \n",
              "0     -77.344203  3.6383 7.4233     1  \n",
              "1     -77.063227   3.0862 7.324     1  \n",
              "2     -77.032718  3.9583 7.3783     0  \n",
              "3     -77.086933    3.84,-70633     1  \n",
              "4     -77.109168  3.9917 7.0183     0  \n",
              "...          ...            ...   ...  \n",
              "51485 -77.058543  3.7683 7.5533     0  \n",
              "51486 -77.157818  3.0833 7.5887     1  \n",
              "51487 -77.266897  3.9417 7.6867     0  \n",
              "51488 -77.153778  3.6933 7.5783     0  \n",
              "51489 -77.044988    3.2733 7.12     0  \n",
              "\n",
              "[51490 rows x 36 columns]"
            ]
          },
          "execution_count": 51,
          "metadata": {},
          "output_type": "execute_result"
        }
      ],
      "source": [
        "df"
      ]
    },
    {
      "cell_type": "code",
      "execution_count": null,
      "metadata": {
        "id": "hSnz0x_HHZ16",
        "outputId": "46e54bc9-2d1f-4b0c-cbd9-0edc7205b349"
      },
      "outputs": [
        {
          "data": {
            "text/plain": [
              "DISABLING      17970\n",
              "FUNCTIONAL     13350\n",
              "SUPERFICIAL    12963\n",
              "DESTROYED       2377\n",
              "NO DAMAGE       2056\n",
              "UNKNOWN         2025\n",
              "nan              397\n",
              "OTHER            352\n",
              "Name: Vehicle Damage Extent, dtype: int64"
            ]
          },
          "execution_count": 52,
          "metadata": {},
          "output_type": "execute_result"
        }
      ],
      "source": [
        "df['Vehicle Damage Extent'].value_counts()"
      ]
    },
    {
      "cell_type": "code",
      "execution_count": null,
      "metadata": {
        "id": "zpJJ_bneHZ16"
      },
      "outputs": [],
      "source": [
        "# one hot encoding\n",
        "def onehot(df,col,tst_data):\n",
        "    enc = OneHotEncoder(sparse=False,handle_unknown='ignore')\n",
        "    color_onehot = enc.fit_transform(df[[col]])\n",
        "    test_onehot=enc.transform(tst_data[[col]])\n",
        "    #to print the encoded features for train data\n",
        "    new=pd.DataFrame(color_onehot, columns=list(col+enc.categories_[0]))\n",
        "    new_test= pd.DataFrame(test_onehot, columns=list(col+enc.categories_[0]))\n",
        "    df.reset_index(drop=True, inplace=True)\n",
        "    new.reset_index(drop=True, inplace=True)\n",
        "    new_test.reset_index(drop=True, inplace=True)\n",
        "    tst_data.reset_index(drop=True, inplace=True)\n",
        "    #print(new)\n",
        "    #print(df)\n",
        "    df.drop([col],axis=1,inplace=True)\n",
        "    tst_data.drop([col],axis=1,inplace=True)\n",
        "    return(df,new,tst_data,new_test)\n",
        "# tranform encoding for test data\n",
        "#test_onehot = enc.transform(X_test[['color']])\n",
        "#to print the encoded features for train data\n",
        "#pd.DataFrame(test_onehot, columns=list(enc.categories_[0]))\n"
      ]
    },
    {
      "cell_type": "code",
      "execution_count": null,
      "metadata": {
        "id": "eJaZmaWrHZ17",
        "outputId": "299de1f6-ef6c-432a-e7e9-8e35d9e35429"
      },
      "outputs": [
        {
          "data": {
            "text/plain": [
              "Report Number                     0\n",
              "Local Case Number                 0\n",
              "Agency Name                       0\n",
              "ACRS Report Type                  0\n",
              "Crash Date/Time                   0\n",
              "Route Type                        0\n",
              "Road Name                         0\n",
              "Cross-Street Type                 0\n",
              "Cross-Street Name                 0\n",
              "Collision Type                    0\n",
              "Weather                           0\n",
              "Surface Condition                 0\n",
              "Light                             0\n",
              "Traffic Control                   0\n",
              "Driver Substance Abuse            0\n",
              "Person ID                         0\n",
              "Injury Severity                   0\n",
              "Drivers License State             0\n",
              "Vehicle Damage Extent             0\n",
              "Vehicle First Impact Location     0\n",
              "Vehicle Second Impact Location    0\n",
              "Vehicle Body Type                 0\n",
              "Vehicle Movement                  0\n",
              "Vehicle Continuing Dir            0\n",
              "Vehicle Going Dir                 0\n",
              "Speed Limit                       0\n",
              "Driverless Vehicle                0\n",
              "Parked Vehicle                    0\n",
              "Vehicle Year                      0\n",
              "Vehicle Make                      0\n",
              "Vehicle Model                     0\n",
              "Equipment Problems                0\n",
              "Latitude                          0\n",
              "Longitude                         0\n",
              "Location                          0\n",
              "Fault                             0\n",
              "dtype: int64"
            ]
          },
          "execution_count": 54,
          "metadata": {},
          "output_type": "execute_result"
        }
      ],
      "source": [
        "df.isnull().sum()"
      ]
    },
    {
      "cell_type": "code",
      "execution_count": null,
      "metadata": {
        "id": "i-FiucGhHZ17"
      },
      "outputs": [],
      "source": [
        "df,new,tst_data,new_test =onehot(df,'Vehicle Damage Extent',tst_data)\n",
        "df=pd.concat([df,new],axis=1)\n",
        "tst_data=pd.concat([tst_data,new_test],axis=1)\n"
      ]
    },
    {
      "cell_type": "code",
      "execution_count": null,
      "metadata": {
        "id": "vKqFjyQ9HZ17",
        "outputId": "9385b1be-cafe-4cb7-c37f-f0b46675db22"
      },
      "outputs": [
        {
          "data": {
            "text/plain": [
              "(77235, 43)"
            ]
          },
          "execution_count": 56,
          "metadata": {},
          "output_type": "execute_result"
        }
      ],
      "source": [
        "tst_data.shape"
      ]
    },
    {
      "cell_type": "code",
      "execution_count": null,
      "metadata": {
        "id": "mmqE5pnMHZ18",
        "outputId": "f68617cb-bb47-4207-b9a9-b31d22be5bd5"
      },
      "outputs": [
        {
          "data": {
            "text/plain": [
              "(51490, 43)"
            ]
          },
          "execution_count": 57,
          "metadata": {},
          "output_type": "execute_result"
        }
      ],
      "source": [
        "df.shape"
      ]
    },
    {
      "cell_type": "code",
      "execution_count": null,
      "metadata": {
        "id": "d6QkVAtIHZ18"
      },
      "outputs": [],
      "source": []
    },
    {
      "cell_type": "code",
      "execution_count": null,
      "metadata": {
        "id": "rYz2gaRvHZ18"
      },
      "outputs": [],
      "source": [
        "df['Parked Vehicle'] = [0 if x=='No' else 1 for x in df['Parked Vehicle']]\n",
        "tst_data['Parked Vehicle'] = [0 if x=='No' else 1 for x in tst_data['Parked Vehicle']]"
      ]
    },
    {
      "cell_type": "code",
      "execution_count": null,
      "metadata": {
        "scrolled": true,
        "id": "6DWyFTE3HZ18",
        "outputId": "783df807-cc0a-47ce-b1d7-f9a073c4e22b"
      },
      "outputs": [
        {
          "data": {
            "text/plain": [
              "0        0\n",
              "1        1\n",
              "2        0\n",
              "3        0\n",
              "4        0\n",
              "        ..\n",
              "51485    1\n",
              "51486    0\n",
              "51487    0\n",
              "51488    0\n",
              "51489    0\n",
              "Name: Parked Vehicle, Length: 51490, dtype: int64"
            ]
          },
          "execution_count": 59,
          "metadata": {},
          "output_type": "execute_result"
        }
      ],
      "source": [
        "df['Parked Vehicle']"
      ]
    },
    {
      "cell_type": "code",
      "execution_count": null,
      "metadata": {
        "id": "xoQ9OJRtHZ19",
        "outputId": "6696c528-3226-4bce-d47d-82d9ff9a86f4"
      },
      "outputs": [
        {
          "data": {
            "text/plain": [
              "0        0\n",
              "1        0\n",
              "2        0\n",
              "3        0\n",
              "4        0\n",
              "        ..\n",
              "77230    0\n",
              "77231    0\n",
              "77232    0\n",
              "77233    0\n",
              "77234    0\n",
              "Name: Parked Vehicle, Length: 77235, dtype: int64"
            ]
          },
          "execution_count": 60,
          "metadata": {},
          "output_type": "execute_result"
        }
      ],
      "source": [
        "tst_data['Parked Vehicle']"
      ]
    },
    {
      "cell_type": "code",
      "execution_count": null,
      "metadata": {
        "id": "j_GnlXBiHZ19"
      },
      "outputs": [],
      "source": [
        "df['Driverless Vehicle'] = [0 if x=='No' else 1 for x in df['Driverless Vehicle']]\n",
        "tst_data['Driverless Vehicle'] = [0 if x=='No' else 1 for x in tst_data['Driverless Vehicle']]"
      ]
    },
    {
      "cell_type": "code",
      "execution_count": null,
      "metadata": {
        "scrolled": true,
        "id": "Ik_jCKiaHZ19",
        "outputId": "7496b380-ccc8-43d8-daf6-f985716a0591"
      },
      "outputs": [
        {
          "data": {
            "text/plain": [
              "0        0\n",
              "1        0\n",
              "2        0\n",
              "3        0\n",
              "4        0\n",
              "        ..\n",
              "51485    0\n",
              "51486    0\n",
              "51487    0\n",
              "51488    0\n",
              "51489    0\n",
              "Name: Driverless Vehicle, Length: 51490, dtype: int64"
            ]
          },
          "execution_count": 62,
          "metadata": {},
          "output_type": "execute_result"
        }
      ],
      "source": [
        "df['Driverless Vehicle']"
      ]
    },
    {
      "cell_type": "code",
      "execution_count": null,
      "metadata": {
        "id": "6LYMNjyKHZ19",
        "outputId": "13a7fa85-66ce-4727-970a-995fff22b52d"
      },
      "outputs": [
        {
          "data": {
            "text/plain": [
              "0        0\n",
              "1        0\n",
              "2        0\n",
              "3        0\n",
              "4        0\n",
              "        ..\n",
              "77230    0\n",
              "77231    0\n",
              "77232    0\n",
              "77233    0\n",
              "77234    0\n",
              "Name: Driverless Vehicle, Length: 77235, dtype: int64"
            ]
          },
          "execution_count": 63,
          "metadata": {},
          "output_type": "execute_result"
        }
      ],
      "source": [
        "tst_data['Driverless Vehicle']"
      ]
    },
    {
      "cell_type": "code",
      "execution_count": null,
      "metadata": {
        "id": "9iKkuBSUHZ1-",
        "outputId": "ede4cd44-4607-4840-cccd-dabcfd7906ab"
      },
      "outputs": [
        {
          "data": {
            "text/plain": [
              "NO MISUSE              35041\n",
              "nan                    10666\n",
              "UNKNOWN                 4072\n",
              "OTHER                    325\n",
              "AIR BAG FAILED           315\n",
              "BELT(S) MISUSED          286\n",
              "BELTS/ANCHORS BROKE      265\n",
              "FACING WRONG WAY         264\n",
              "STRAP/TETHER LOOSE       256\n",
              "Name: Equipment Problems, dtype: int64"
            ]
          },
          "execution_count": 64,
          "metadata": {},
          "output_type": "execute_result"
        }
      ],
      "source": [
        "df['Equipment Problems'].value_counts()"
      ]
    },
    {
      "cell_type": "code",
      "execution_count": null,
      "metadata": {
        "id": "8F1xllXZHZ1-"
      },
      "outputs": [],
      "source": [
        "\n",
        "\n",
        "df,new,tst_data,new_test =onehot(df,'Equipment Problems',tst_data)\n",
        "df=pd.concat([df,new],axis=1)\n",
        "tst_data=pd.concat([tst_data,new_test],axis=1)\n"
      ]
    },
    {
      "cell_type": "code",
      "execution_count": null,
      "metadata": {
        "id": "qIac2WI5HZ1-"
      },
      "outputs": [],
      "source": [
        "\n"
      ]
    },
    {
      "cell_type": "code",
      "execution_count": null,
      "metadata": {
        "id": "J1PCJnuDHZ1-",
        "outputId": "67242119-0934-48d9-88da-4264a2acbb35"
      },
      "outputs": [
        {
          "data": {
            "text/plain": [
              "count    77235.000000\n",
              "mean        32.814916\n",
              "std         11.050466\n",
              "min          0.000000\n",
              "25%         30.000000\n",
              "50%         35.000000\n",
              "75%         40.000000\n",
              "max         70.000000\n",
              "Name: Speed Limit, dtype: float64"
            ]
          },
          "execution_count": 66,
          "metadata": {},
          "output_type": "execute_result"
        }
      ],
      "source": [
        "tst_data['Speed Limit'].describe()"
      ]
    },
    {
      "cell_type": "code",
      "execution_count": null,
      "metadata": {
        "id": "jJ-v_Rg1HZ1_",
        "outputId": "bc9c5ce0-1480-47b5-c25c-717670dad26a"
      },
      "outputs": [
        {
          "data": {
            "text/plain": [
              "count    51490.000000\n",
              "mean        32.895319\n",
              "std         11.696668\n",
              "min          0.000000\n",
              "25%         25.000000\n",
              "50%         35.000000\n",
              "75%         40.000000\n",
              "max         70.000000\n",
              "Name: Speed Limit, dtype: float64"
            ]
          },
          "execution_count": 67,
          "metadata": {},
          "output_type": "execute_result"
        }
      ],
      "source": [
        "df['Speed Limit'].describe()"
      ]
    },
    {
      "cell_type": "code",
      "execution_count": null,
      "metadata": {
        "id": "nxbRa4TGHZ1_",
        "outputId": "811f845a-2ec5-485a-a975-0b2adb76926a"
      },
      "outputs": [
        {
          "data": {
            "text/plain": [
              "(48824, 51)"
            ]
          },
          "execution_count": 68,
          "metadata": {},
          "output_type": "execute_result"
        }
      ],
      "source": [
        "df[(df['Vehicle Year']>1886)&(df['Vehicle Year']<2020)].shape"
      ]
    },
    {
      "cell_type": "code",
      "execution_count": null,
      "metadata": {
        "id": "YRYzccTMHZ1_",
        "outputId": "6f07d326-b6fb-4b3c-88b6-d69e7958bbe1"
      },
      "outputs": [
        {
          "data": {
            "text/plain": [
              "(74436, 51)"
            ]
          },
          "execution_count": 69,
          "metadata": {},
          "output_type": "execute_result"
        }
      ],
      "source": [
        "tst_data[(tst_data['Vehicle Year']>1886)&(tst_data['Vehicle Year']<2020)].shape"
      ]
    },
    {
      "cell_type": "code",
      "execution_count": null,
      "metadata": {
        "id": "W6GOgC-7HZ1_",
        "outputId": "e791e03d-b557-4145-d31b-bfa5dc73b50e"
      },
      "outputs": [
        {
          "data": {
            "text/plain": [
              "count    51490.000000\n",
              "mean      1974.545465\n",
              "std        483.279428\n",
              "min          0.000000\n",
              "25%       2005.000000\n",
              "50%       2010.000000\n",
              "75%       2014.000000\n",
              "max       9999.000000\n",
              "Name: Vehicle Year, dtype: float64"
            ]
          },
          "execution_count": 70,
          "metadata": {},
          "output_type": "execute_result"
        }
      ],
      "source": [
        "df['Vehicle Year'].describe()"
      ]
    },
    {
      "cell_type": "code",
      "execution_count": null,
      "metadata": {
        "id": "b2NkUKpYHZ2A"
      },
      "outputs": [],
      "source": [
        "df['Vehicle Year'] = [2015 if x>2021 else x for x in df['Vehicle Year']]\n",
        "df['Vehicle Year'] = [1990 if x<1886 else x for x in df['Vehicle Year']]"
      ]
    },
    {
      "cell_type": "code",
      "execution_count": null,
      "metadata": {
        "id": "vOCDVj4EHZ2A"
      },
      "outputs": [],
      "source": [
        "tst_data['Vehicle Year'] = [2015 if x>2021 else x for x in tst_data['Vehicle Year']]\n",
        "tst_data['Vehicle Year'] = [1990 if x<1886 else x for x in tst_data['Vehicle Year']]"
      ]
    },
    {
      "cell_type": "code",
      "execution_count": null,
      "metadata": {
        "scrolled": true,
        "id": "etDHIkc0HZ2A",
        "outputId": "a193aa06-a11d-4b57-cb0f-2bf488e7665d"
      },
      "outputs": [
        {
          "data": {
            "text/plain": [
              "(50808, 51)"
            ]
          },
          "execution_count": 73,
          "metadata": {},
          "output_type": "execute_result"
        }
      ],
      "source": [
        "df[(df['Vehicle Year']>1886)&(df['Vehicle Year']<2020)].shape"
      ]
    },
    {
      "cell_type": "code",
      "execution_count": null,
      "metadata": {
        "id": "2RN-l_ARHZ2A",
        "outputId": "37a552a6-eb5d-42c1-e656-ef1f2339e67b"
      },
      "outputs": [
        {
          "data": {
            "text/plain": [
              "(76198, 51)"
            ]
          },
          "execution_count": 74,
          "metadata": {},
          "output_type": "execute_result"
        }
      ],
      "source": [
        "tst_data[(tst_data['Vehicle Year']>1886)&(tst_data['Vehicle Year']<2020)].shape"
      ]
    },
    {
      "cell_type": "code",
      "execution_count": null,
      "metadata": {
        "id": "nE6nrKtvHZ2B",
        "outputId": "85c50d11-0a35-47e7-ee9e-540d0f02afbd"
      },
      "outputs": [
        {
          "data": {
            "text/plain": [
              "count    51490.000000\n",
              "mean      2008.463410\n",
              "std          8.994678\n",
              "min       1900.000000\n",
              "25%       2005.000000\n",
              "50%       2010.000000\n",
              "75%       2014.000000\n",
              "max       2021.000000\n",
              "Name: Vehicle Year, dtype: float64"
            ]
          },
          "execution_count": 75,
          "metadata": {},
          "output_type": "execute_result"
        }
      ],
      "source": [
        "df['Vehicle Year'].describe()"
      ]
    },
    {
      "cell_type": "code",
      "execution_count": null,
      "metadata": {
        "id": "-5acrWpWHZ2B",
        "outputId": "f4a3ac13-33f2-456b-eb3d-5f2a41a25b64"
      },
      "outputs": [
        {
          "data": {
            "text/plain": [
              "TOYOTA     10345\n",
              "HONDA       8436\n",
              "FORD        7814\n",
              "NISSAN      3939\n",
              "TOYT        3870\n",
              "           ...  \n",
              "MECEDEZ        1\n",
              "TURT           1\n",
              "CADALIC        1\n",
              "JEDEP          1\n",
              "FRGH           1\n",
              "Name: Vehicle Make, Length: 1189, dtype: int64"
            ]
          },
          "execution_count": 76,
          "metadata": {},
          "output_type": "execute_result"
        }
      ],
      "source": [
        "tst_data['Vehicle Make'].value_counts()"
      ]
    },
    {
      "cell_type": "code",
      "execution_count": null,
      "metadata": {
        "id": "6mS85pAZHZ2B",
        "outputId": "4eee7a67-d673-49ff-d91e-599a102d15e0"
      },
      "outputs": [
        {
          "data": {
            "text/plain": [
              "TOYOTA           6597\n",
              "HONDA            5432\n",
              "FORD             4945\n",
              "TOYT             2518\n",
              "NISSAN           2489\n",
              "                 ... \n",
              "SAFT                1\n",
              "FPRD                1\n",
              "JEEB                1\n",
              "GOLF                1\n",
              "GRUMMAN OLSEN       1\n",
              "Name: Vehicle Make, Length: 887, dtype: int64"
            ]
          },
          "execution_count": 77,
          "metadata": {},
          "output_type": "execute_result"
        }
      ],
      "source": [
        "df['Vehicle Make'].value_counts()\n",
        "#df['Vehicle Make'] = [x if (x=='TOYOTA' | x='HONDA'|x=='FORD' | x='TOYT'|x=='TOYOTA' | x='HONDA'|    else 'Others' for x in df['Vehicle Year']]\n"
      ]
    },
    {
      "cell_type": "code",
      "execution_count": null,
      "metadata": {
        "id": "CQ3IITrHHZ2B",
        "outputId": "d1d25bf7-a957-4abc-c48b-bea0222e8014"
      },
      "outputs": [
        {
          "data": {
            "text/html": [
              "<div>\n",
              "<style scoped>\n",
              "    .dataframe tbody tr th:only-of-type {\n",
              "        vertical-align: middle;\n",
              "    }\n",
              "\n",
              "    .dataframe tbody tr th {\n",
              "        vertical-align: top;\n",
              "    }\n",
              "\n",
              "    .dataframe thead th {\n",
              "        text-align: right;\n",
              "    }\n",
              "</style>\n",
              "<table border=\"1\" class=\"dataframe\">\n",
              "  <thead>\n",
              "    <tr style=\"text-align: right;\">\n",
              "      <th></th>\n",
              "      <th>Report Number</th>\n",
              "      <th>Local Case Number</th>\n",
              "      <th>Agency Name</th>\n",
              "      <th>ACRS Report Type</th>\n",
              "      <th>Crash Date/Time</th>\n",
              "      <th>Route Type</th>\n",
              "      <th>Road Name</th>\n",
              "      <th>Cross-Street Type</th>\n",
              "      <th>Cross-Street Name</th>\n",
              "      <th>Collision Type</th>\n",
              "      <th>...</th>\n",
              "      <th>Vehicle Damage Extentnan</th>\n",
              "      <th>Equipment ProblemsAIR BAG FAILED</th>\n",
              "      <th>Equipment ProblemsBELT(S) MISUSED</th>\n",
              "      <th>Equipment ProblemsBELTS/ANCHORS BROKE</th>\n",
              "      <th>Equipment ProblemsFACING WRONG WAY</th>\n",
              "      <th>Equipment ProblemsNO MISUSE</th>\n",
              "      <th>Equipment ProblemsOTHER</th>\n",
              "      <th>Equipment ProblemsSTRAP/TETHER LOOSE</th>\n",
              "      <th>Equipment ProblemsUNKNOWN</th>\n",
              "      <th>Equipment Problemsnan</th>\n",
              "    </tr>\n",
              "  </thead>\n",
              "  <tbody>\n",
              "    <tr>\n",
              "      <th>10</th>\n",
              "      <td>MP9602</td>\n",
              "      <td>nan</td>\n",
              "      <td>Montgomery County Police</td>\n",
              "      <td>Injury Crash</td>\n",
              "      <td>2021-05-05 12:21:00</td>\n",
              "      <td>County</td>\n",
              "      <td>BRIGGS CHANEY RD</td>\n",
              "      <td>Ramp</td>\n",
              "      <td>RAMP 1 FR US29 NB TO BRIGGS CHANEY RD WB</td>\n",
              "      <td>STRAIGHT MOVEMENT ANGLE</td>\n",
              "      <td>...</td>\n",
              "      <td>0.0</td>\n",
              "      <td>0.0</td>\n",
              "      <td>0.0</td>\n",
              "      <td>0.0</td>\n",
              "      <td>0.0</td>\n",
              "      <td>0.0</td>\n",
              "      <td>0.0</td>\n",
              "      <td>0.0</td>\n",
              "      <td>1.0</td>\n",
              "      <td>0.0</td>\n",
              "    </tr>\n",
              "    <tr>\n",
              "      <th>23</th>\n",
              "      <td>MP190N</td>\n",
              "      <td>nan</td>\n",
              "      <td>Montgomery County Police</td>\n",
              "      <td>Property Damage Crash</td>\n",
              "      <td>2019-02-13 15:19:00</td>\n",
              "      <td>nan</td>\n",
              "      <td>NEW HAMPSHIRE AVE</td>\n",
              "      <td>nan</td>\n",
              "      <td>16201 NEW HAMPSHIRE AVE</td>\n",
              "      <td>STRAIGHT MOVEMENT ANGLE</td>\n",
              "      <td>...</td>\n",
              "      <td>0.0</td>\n",
              "      <td>0.0</td>\n",
              "      <td>0.0</td>\n",
              "      <td>0.0</td>\n",
              "      <td>0.0</td>\n",
              "      <td>0.0</td>\n",
              "      <td>0.0</td>\n",
              "      <td>0.0</td>\n",
              "      <td>0.0</td>\n",
              "      <td>1.0</td>\n",
              "    </tr>\n",
              "    <tr>\n",
              "      <th>27</th>\n",
              "      <td>MP110Y</td>\n",
              "      <td>nan</td>\n",
              "      <td>Montgomery County Police</td>\n",
              "      <td>Property Damage Crash</td>\n",
              "      <td>2021-01-12 17:14:00</td>\n",
              "      <td>County</td>\n",
              "      <td>GOSHEN RD</td>\n",
              "      <td>Maryland (State)</td>\n",
              "      <td>MIDCOUNTY HWY</td>\n",
              "      <td>HEAD ON</td>\n",
              "      <td>...</td>\n",
              "      <td>0.0</td>\n",
              "      <td>0.0</td>\n",
              "      <td>0.0</td>\n",
              "      <td>0.0</td>\n",
              "      <td>0.0</td>\n",
              "      <td>1.0</td>\n",
              "      <td>0.0</td>\n",
              "      <td>0.0</td>\n",
              "      <td>0.0</td>\n",
              "      <td>0.0</td>\n",
              "    </tr>\n",
              "    <tr>\n",
              "      <th>32</th>\n",
              "      <td>MP920C</td>\n",
              "      <td>nan</td>\n",
              "      <td>MONTGOMERY</td>\n",
              "      <td>Injury Crash</td>\n",
              "      <td>2015-12-07 14:51:00</td>\n",
              "      <td>Ramp</td>\n",
              "      <td>RAMP 6 FR IS 495 EB TO MD 650 SB</td>\n",
              "      <td>Maryland (State)</td>\n",
              "      <td>WHITTIER BLVD</td>\n",
              "      <td>SAME DIR REAR END</td>\n",
              "      <td>...</td>\n",
              "      <td>0.0</td>\n",
              "      <td>0.0</td>\n",
              "      <td>0.0</td>\n",
              "      <td>0.0</td>\n",
              "      <td>0.0</td>\n",
              "      <td>1.0</td>\n",
              "      <td>0.0</td>\n",
              "      <td>0.0</td>\n",
              "      <td>0.0</td>\n",
              "      <td>0.0</td>\n",
              "    </tr>\n",
              "    <tr>\n",
              "      <th>37</th>\n",
              "      <td>MP0706</td>\n",
              "      <td>nan</td>\n",
              "      <td>Montgomery County Police</td>\n",
              "      <td>Injury Crash</td>\n",
              "      <td>2021-05-21 22:54:00</td>\n",
              "      <td>US (State)</td>\n",
              "      <td>COLUMBIA PIKE</td>\n",
              "      <td>County</td>\n",
              "      <td>MUSGROVE RD</td>\n",
              "      <td>STRAIGHT MOVEMENT ANGLE</td>\n",
              "      <td>...</td>\n",
              "      <td>0.0</td>\n",
              "      <td>0.0</td>\n",
              "      <td>0.0</td>\n",
              "      <td>0.0</td>\n",
              "      <td>0.0</td>\n",
              "      <td>1.0</td>\n",
              "      <td>0.0</td>\n",
              "      <td>0.0</td>\n",
              "      <td>0.0</td>\n",
              "      <td>0.0</td>\n",
              "    </tr>\n",
              "    <tr>\n",
              "      <th>...</th>\n",
              "      <td>...</td>\n",
              "      <td>...</td>\n",
              "      <td>...</td>\n",
              "      <td>...</td>\n",
              "      <td>...</td>\n",
              "      <td>...</td>\n",
              "      <td>...</td>\n",
              "      <td>...</td>\n",
              "      <td>...</td>\n",
              "      <td>...</td>\n",
              "      <td>...</td>\n",
              "      <td>...</td>\n",
              "      <td>...</td>\n",
              "      <td>...</td>\n",
              "      <td>...</td>\n",
              "      <td>...</td>\n",
              "      <td>...</td>\n",
              "      <td>...</td>\n",
              "      <td>...</td>\n",
              "      <td>...</td>\n",
              "      <td>...</td>\n",
              "    </tr>\n",
              "    <tr>\n",
              "      <th>51425</th>\n",
              "      <td>MP110Z</td>\n",
              "      <td>nan</td>\n",
              "      <td>Montgomery County Police</td>\n",
              "      <td>Fatal Crash</td>\n",
              "      <td>2021-08-23 17:15:00</td>\n",
              "      <td>County</td>\n",
              "      <td>SHADY GROVE RD</td>\n",
              "      <td>County</td>\n",
              "      <td>BRIARDALE RD</td>\n",
              "      <td>SAME DIR REAR END</td>\n",
              "      <td>...</td>\n",
              "      <td>0.0</td>\n",
              "      <td>0.0</td>\n",
              "      <td>0.0</td>\n",
              "      <td>0.0</td>\n",
              "      <td>0.0</td>\n",
              "      <td>1.0</td>\n",
              "      <td>0.0</td>\n",
              "      <td>0.0</td>\n",
              "      <td>0.0</td>\n",
              "      <td>0.0</td>\n",
              "    </tr>\n",
              "    <tr>\n",
              "      <th>51433</th>\n",
              "      <td>MP010G</td>\n",
              "      <td>nan</td>\n",
              "      <td>Montgomery County Police</td>\n",
              "      <td>Injury Crash</td>\n",
              "      <td>2018-02-23 07:00:00</td>\n",
              "      <td>US (State)</td>\n",
              "      <td>COLUMBIA PIKE</td>\n",
              "      <td>County</td>\n",
              "      <td>STEWART LA</td>\n",
              "      <td>HEAD ON LEFT TURN</td>\n",
              "      <td>...</td>\n",
              "      <td>0.0</td>\n",
              "      <td>0.0</td>\n",
              "      <td>0.0</td>\n",
              "      <td>0.0</td>\n",
              "      <td>0.0</td>\n",
              "      <td>1.0</td>\n",
              "      <td>0.0</td>\n",
              "      <td>0.0</td>\n",
              "      <td>0.0</td>\n",
              "      <td>0.0</td>\n",
              "    </tr>\n",
              "    <tr>\n",
              "      <th>51448</th>\n",
              "      <td>MP2000</td>\n",
              "      <td>nan</td>\n",
              "      <td>Montgomery County Police</td>\n",
              "      <td>Property Damage Crash</td>\n",
              "      <td>2021-03-29 19:55:00</td>\n",
              "      <td>County</td>\n",
              "      <td>LINDEN LA</td>\n",
              "      <td>County</td>\n",
              "      <td>WARREN ST</td>\n",
              "      <td>HEAD ON</td>\n",
              "      <td>...</td>\n",
              "      <td>0.0</td>\n",
              "      <td>0.0</td>\n",
              "      <td>0.0</td>\n",
              "      <td>0.0</td>\n",
              "      <td>0.0</td>\n",
              "      <td>1.0</td>\n",
              "      <td>0.0</td>\n",
              "      <td>0.0</td>\n",
              "      <td>0.0</td>\n",
              "      <td>0.0</td>\n",
              "    </tr>\n",
              "    <tr>\n",
              "      <th>51456</th>\n",
              "      <td>MP850F</td>\n",
              "      <td>nan</td>\n",
              "      <td>MONTGOMERY</td>\n",
              "      <td>Property Damage Crash</td>\n",
              "      <td>2015-12-30 12:43:00</td>\n",
              "      <td>County</td>\n",
              "      <td>AVENEL RD</td>\n",
              "      <td>County</td>\n",
              "      <td>PAULA DR</td>\n",
              "      <td>OTHER</td>\n",
              "      <td>...</td>\n",
              "      <td>0.0</td>\n",
              "      <td>0.0</td>\n",
              "      <td>0.0</td>\n",
              "      <td>0.0</td>\n",
              "      <td>0.0</td>\n",
              "      <td>1.0</td>\n",
              "      <td>0.0</td>\n",
              "      <td>0.0</td>\n",
              "      <td>0.0</td>\n",
              "      <td>0.0</td>\n",
              "    </tr>\n",
              "    <tr>\n",
              "      <th>51468</th>\n",
              "      <td>D8900</td>\n",
              "      <td>nan</td>\n",
              "      <td>Takoma Park Police Depart</td>\n",
              "      <td>Property Damage Crash</td>\n",
              "      <td>2021-03-31 18:10:00</td>\n",
              "      <td>County</td>\n",
              "      <td>UNIVERSITY BLVD E SERV RD</td>\n",
              "      <td>Maryland (State)</td>\n",
              "      <td>UNIVERSITY BLVD E</td>\n",
              "      <td>SAME DIRECTION LEFT TURN</td>\n",
              "      <td>...</td>\n",
              "      <td>0.0</td>\n",
              "      <td>0.0</td>\n",
              "      <td>0.0</td>\n",
              "      <td>0.0</td>\n",
              "      <td>0.0</td>\n",
              "      <td>0.0</td>\n",
              "      <td>0.0</td>\n",
              "      <td>0.0</td>\n",
              "      <td>0.0</td>\n",
              "      <td>1.0</td>\n",
              "    </tr>\n",
              "  </tbody>\n",
              "</table>\n",
              "<p>6453 rows × 51 columns</p>\n",
              "</div>"
            ],
            "text/plain": [
              "      Report Number Local Case Number                Agency Name  \\\n",
              "10           MP9602               nan   Montgomery County Police   \n",
              "23           MP190N               nan   Montgomery County Police   \n",
              "27           MP110Y               nan   Montgomery County Police   \n",
              "32           MP920C               nan                 MONTGOMERY   \n",
              "37           MP0706               nan   Montgomery County Police   \n",
              "...             ...               ...                        ...   \n",
              "51425        MP110Z               nan   Montgomery County Police   \n",
              "51433        MP010G               nan   Montgomery County Police   \n",
              "51448        MP2000               nan   Montgomery County Police   \n",
              "51456        MP850F               nan                 MONTGOMERY   \n",
              "51468         D8900               nan  Takoma Park Police Depart   \n",
              "\n",
              "            ACRS Report Type     Crash Date/Time  Route Type  \\\n",
              "10              Injury Crash 2021-05-05 12:21:00      County   \n",
              "23     Property Damage Crash 2019-02-13 15:19:00         nan   \n",
              "27     Property Damage Crash 2021-01-12 17:14:00      County   \n",
              "32              Injury Crash 2015-12-07 14:51:00        Ramp   \n",
              "37              Injury Crash 2021-05-21 22:54:00  US (State)   \n",
              "...                      ...                 ...         ...   \n",
              "51425            Fatal Crash 2021-08-23 17:15:00      County   \n",
              "51433           Injury Crash 2018-02-23 07:00:00  US (State)   \n",
              "51448  Property Damage Crash 2021-03-29 19:55:00      County   \n",
              "51456  Property Damage Crash 2015-12-30 12:43:00      County   \n",
              "51468  Property Damage Crash 2021-03-31 18:10:00      County   \n",
              "\n",
              "                              Road Name Cross-Street Type  \\\n",
              "10                     BRIGGS CHANEY RD              Ramp   \n",
              "23                    NEW HAMPSHIRE AVE               nan   \n",
              "27                            GOSHEN RD  Maryland (State)   \n",
              "32     RAMP 6 FR IS 495 EB TO MD 650 SB  Maryland (State)   \n",
              "37                        COLUMBIA PIKE            County   \n",
              "...                                 ...               ...   \n",
              "51425                    SHADY GROVE RD            County   \n",
              "51433                     COLUMBIA PIKE            County   \n",
              "51448                         LINDEN LA            County   \n",
              "51456                         AVENEL RD            County   \n",
              "51468         UNIVERSITY BLVD E SERV RD  Maryland (State)   \n",
              "\n",
              "                              Cross-Street Name            Collision Type  \\\n",
              "10     RAMP 1 FR US29 NB TO BRIGGS CHANEY RD WB   STRAIGHT MOVEMENT ANGLE   \n",
              "23                      16201 NEW HAMPSHIRE AVE   STRAIGHT MOVEMENT ANGLE   \n",
              "27                                MIDCOUNTY HWY                   HEAD ON   \n",
              "32                                WHITTIER BLVD         SAME DIR REAR END   \n",
              "37                                  MUSGROVE RD   STRAIGHT MOVEMENT ANGLE   \n",
              "...                                         ...                       ...   \n",
              "51425                              BRIARDALE RD         SAME DIR REAR END   \n",
              "51433                                STEWART LA         HEAD ON LEFT TURN   \n",
              "51448                                 WARREN ST                   HEAD ON   \n",
              "51456                                  PAULA DR                     OTHER   \n",
              "51468                         UNIVERSITY BLVD E  SAME DIRECTION LEFT TURN   \n",
              "\n",
              "       ... Vehicle Damage Extentnan Equipment ProblemsAIR BAG FAILED  \\\n",
              "10     ...                      0.0                              0.0   \n",
              "23     ...                      0.0                              0.0   \n",
              "27     ...                      0.0                              0.0   \n",
              "32     ...                      0.0                              0.0   \n",
              "37     ...                      0.0                              0.0   \n",
              "...    ...                      ...                              ...   \n",
              "51425  ...                      0.0                              0.0   \n",
              "51433  ...                      0.0                              0.0   \n",
              "51448  ...                      0.0                              0.0   \n",
              "51456  ...                      0.0                              0.0   \n",
              "51468  ...                      0.0                              0.0   \n",
              "\n",
              "      Equipment ProblemsBELT(S) MISUSED Equipment ProblemsBELTS/ANCHORS BROKE  \\\n",
              "10                                  0.0                                   0.0   \n",
              "23                                  0.0                                   0.0   \n",
              "27                                  0.0                                   0.0   \n",
              "32                                  0.0                                   0.0   \n",
              "37                                  0.0                                   0.0   \n",
              "...                                 ...                                   ...   \n",
              "51425                               0.0                                   0.0   \n",
              "51433                               0.0                                   0.0   \n",
              "51448                               0.0                                   0.0   \n",
              "51456                               0.0                                   0.0   \n",
              "51468                               0.0                                   0.0   \n",
              "\n",
              "      Equipment ProblemsFACING WRONG WAY Equipment ProblemsNO MISUSE  \\\n",
              "10                                   0.0                         0.0   \n",
              "23                                   0.0                         0.0   \n",
              "27                                   0.0                         1.0   \n",
              "32                                   0.0                         1.0   \n",
              "37                                   0.0                         1.0   \n",
              "...                                  ...                         ...   \n",
              "51425                                0.0                         1.0   \n",
              "51433                                0.0                         1.0   \n",
              "51448                                0.0                         1.0   \n",
              "51456                                0.0                         1.0   \n",
              "51468                                0.0                         0.0   \n",
              "\n",
              "      Equipment ProblemsOTHER Equipment ProblemsSTRAP/TETHER LOOSE  \\\n",
              "10                        0.0                                  0.0   \n",
              "23                        0.0                                  0.0   \n",
              "27                        0.0                                  0.0   \n",
              "32                        0.0                                  0.0   \n",
              "37                        0.0                                  0.0   \n",
              "...                       ...                                  ...   \n",
              "51425                     0.0                                  0.0   \n",
              "51433                     0.0                                  0.0   \n",
              "51448                     0.0                                  0.0   \n",
              "51456                     0.0                                  0.0   \n",
              "51468                     0.0                                  0.0   \n",
              "\n",
              "      Equipment ProblemsUNKNOWN Equipment Problemsnan  \n",
              "10                          1.0                   0.0  \n",
              "23                          0.0                   1.0  \n",
              "27                          0.0                   0.0  \n",
              "32                          0.0                   0.0  \n",
              "37                          0.0                   0.0  \n",
              "...                         ...                   ...  \n",
              "51425                       0.0                   0.0  \n",
              "51433                       0.0                   0.0  \n",
              "51448                       0.0                   0.0  \n",
              "51456                       0.0                   0.0  \n",
              "51468                       0.0                   1.0  \n",
              "\n",
              "[6453 rows x 51 columns]"
            ]
          },
          "execution_count": 78,
          "metadata": {},
          "output_type": "execute_result"
        }
      ],
      "source": [
        "df[df['Local Case Number']=='nan']"
      ]
    },
    {
      "cell_type": "code",
      "execution_count": null,
      "metadata": {
        "id": "fwNlHkZdHZ2C"
      },
      "outputs": [],
      "source": [
        "df.drop(['Vehicle Make'],axis=1,inplace=True)"
      ]
    },
    {
      "cell_type": "code",
      "execution_count": null,
      "metadata": {
        "id": "tL2MS019HZ2C"
      },
      "outputs": [],
      "source": [
        "tst_data.drop(['Vehicle Make'],axis=1,inplace=True)"
      ]
    },
    {
      "cell_type": "code",
      "execution_count": null,
      "metadata": {
        "id": "hAqVIolFHZ2C"
      },
      "outputs": [],
      "source": [
        "tst_data.drop(['Vehicle Model'],axis=1, inplace=True)"
      ]
    },
    {
      "cell_type": "code",
      "execution_count": null,
      "metadata": {
        "id": "iODVodOnHZ2D"
      },
      "outputs": [],
      "source": [
        "df.drop(['Vehicle Model'],axis=1, inplace=True)"
      ]
    },
    {
      "cell_type": "code",
      "execution_count": null,
      "metadata": {
        "id": "SFcAxGwAHZ2D",
        "outputId": "96588148-6e4d-4a99-83b8-65241e0c3258"
      },
      "outputs": [
        {
          "data": {
            "text/plain": [
              "0        North\n",
              "1         West\n",
              "2        North\n",
              "3         West\n",
              "4        North\n",
              "         ...  \n",
              "77230     East\n",
              "77231    North\n",
              "77232    North\n",
              "77233     East\n",
              "77234    South\n",
              "Name: Vehicle Going Dir, Length: 77235, dtype: object"
            ]
          },
          "execution_count": 83,
          "metadata": {},
          "output_type": "execute_result"
        }
      ],
      "source": [
        "tst_data['Vehicle Going Dir']"
      ]
    },
    {
      "cell_type": "code",
      "execution_count": null,
      "metadata": {
        "scrolled": true,
        "id": "KL8S3WgzHZ2E",
        "outputId": "43f6f9e0-a3ae-477c-f88c-32b74dfe3451"
      },
      "outputs": [
        {
          "data": {
            "text/plain": [
              "0        Unknown\n",
              "1          South\n",
              "2           West\n",
              "3          South\n",
              "4          South\n",
              "          ...   \n",
              "51485      North\n",
              "51486      North\n",
              "51487      North\n",
              "51488      North\n",
              "51489       East\n",
              "Name: Vehicle Going Dir, Length: 51490, dtype: object"
            ]
          },
          "execution_count": 84,
          "metadata": {},
          "output_type": "execute_result"
        }
      ],
      "source": [
        "df['Vehicle Going Dir']"
      ]
    },
    {
      "cell_type": "code",
      "execution_count": null,
      "metadata": {
        "id": "JvcWVx9DHZ2E"
      },
      "outputs": [],
      "source": [
        "\n",
        "\n",
        "\n",
        "df,new,tst_data,new_test =onehot(df,'Vehicle Going Dir',tst_data)\n",
        "df=pd.concat([df,new],axis=1)\n",
        "tst_data=pd.concat([tst_data,new_test],axis=1)\n"
      ]
    },
    {
      "cell_type": "code",
      "execution_count": null,
      "metadata": {
        "id": "PbWmfVbZHZ2E"
      },
      "outputs": [],
      "source": []
    },
    {
      "cell_type": "code",
      "execution_count": null,
      "metadata": {
        "id": "-VC33KelHZ2F"
      },
      "outputs": [],
      "source": []
    },
    {
      "cell_type": "code",
      "execution_count": null,
      "metadata": {
        "id": "s2QUEy34HZ2F",
        "outputId": "68d42337-72fc-4e9a-914d-0a4d61e2acc0"
      },
      "outputs": [
        {
          "data": {
            "text/plain": [
              "(51490, 54)"
            ]
          },
          "execution_count": 86,
          "metadata": {},
          "output_type": "execute_result"
        }
      ],
      "source": [
        "df.shape"
      ]
    },
    {
      "cell_type": "code",
      "execution_count": null,
      "metadata": {
        "id": "tyh5KQzLHZ2F",
        "outputId": "ab610083-3e2f-4cc2-8e72-795cb758e560"
      },
      "outputs": [
        {
          "data": {
            "text/plain": [
              "(77235, 54)"
            ]
          },
          "execution_count": 87,
          "metadata": {},
          "output_type": "execute_result"
        }
      ],
      "source": [
        "tst_data.shape"
      ]
    },
    {
      "cell_type": "code",
      "execution_count": null,
      "metadata": {
        "id": "BcgGuNwYHZ2G"
      },
      "outputs": [],
      "source": []
    },
    {
      "cell_type": "code",
      "execution_count": null,
      "metadata": {
        "id": "ZKCRaMMAHZ2G"
      },
      "outputs": [],
      "source": [
        "\n",
        "\n",
        "\n",
        "\n",
        "df,new,tst_data,new_test =onehot(df,'Vehicle Continuing Dir',tst_data)\n",
        "df=pd.concat([df,new],axis=1)\n",
        "tst_data=pd.concat([tst_data,new_test],axis=1)\n"
      ]
    },
    {
      "cell_type": "code",
      "execution_count": null,
      "metadata": {
        "id": "3kDALPmZHZ2H"
      },
      "outputs": [],
      "source": []
    },
    {
      "cell_type": "code",
      "execution_count": null,
      "metadata": {
        "id": "hL7idlO8HZ2H"
      },
      "outputs": [],
      "source": []
    },
    {
      "cell_type": "code",
      "execution_count": null,
      "metadata": {
        "id": "HRspG7qCHZ2H"
      },
      "outputs": [],
      "source": [
        "df['Vehicle Movement'] = [x if ((x=='MOVING CONSTANT SPEED') | (x=='SLOWING OR STOPPING') |( x=='STOPPED IN TRAFFIC LANE')|(x=='MAKING LEFT TURN')|( x=='ACCELERATING')|(x=='MAKING RIGHT TURN')|( x=='STARTING FROM LANE')|(x=='CHANGING LANES')) else 'OTHER' for x in df['Vehicle Movement']]\n"
      ]
    },
    {
      "cell_type": "code",
      "execution_count": null,
      "metadata": {
        "id": "ExXg2G5xHZ2H"
      },
      "outputs": [],
      "source": [
        "tst_data['Vehicle Movement'] = [x if ((x=='MOVING CONSTANT SPEED') | (x=='SLOWING OR STOPPING') |( x=='STOPPED IN TRAFFIC LANE')|(x=='MAKING LEFT TURN')|( x=='ACCELERATING')|(x=='MAKING RIGHT TURN')|( x=='STARTING FROM LANE')|(x=='CHANGING LANES')) else 'OTHER' for x in tst_data['Vehicle Movement']]\n"
      ]
    },
    {
      "cell_type": "code",
      "execution_count": null,
      "metadata": {
        "id": "qKy9C1rPHZ2I"
      },
      "outputs": [],
      "source": [
        "\n",
        "\n",
        "df,new,tst_data,new_test =onehot(df,'Vehicle Movement',tst_data)\n",
        "df=pd.concat([df,new],axis=1)\n",
        "tst_data=pd.concat([tst_data,new_test],axis=1)"
      ]
    },
    {
      "cell_type": "code",
      "execution_count": null,
      "metadata": {
        "id": "Zkc7ZkIsHZ2I"
      },
      "outputs": [],
      "source": []
    },
    {
      "cell_type": "code",
      "execution_count": null,
      "metadata": {
        "id": "L3Z6wjjeHZ2I"
      },
      "outputs": [],
      "source": []
    },
    {
      "cell_type": "code",
      "execution_count": null,
      "metadata": {
        "id": "jug5JavxHZ2I",
        "outputId": "b0260ce7-cb3b-459b-cd4b-73ce163294e8"
      },
      "outputs": [
        {
          "data": {
            "text/plain": [
              "PASSENGER CAR                                                53553\n",
              "(SPORT) UTILITY VEHICLE                                       7078\n",
              "PICKUP TRUCK                                                  3020\n",
              "VAN                                                           2235\n",
              "TRANSIT BUS                                                   1549\n",
              "SCHOOL BUS                                                    1264\n",
              "nan                                                           1107\n",
              "POLICE VEHICLE/NON EMERGENCY                                   945\n",
              "OTHER LIGHT TRUCKS (10,000LBS (4,536KG) OR LESS)               944\n",
              "CARGO VAN/LIGHT TRUCK 2 AXLES (OVER 10,000LBS (4,536 KG))      835\n",
              "OTHER                                                          784\n",
              "POLICE VEHICLE/EMERGENCY                                       712\n",
              "MEDIUM/HEAVY TRUCKS 3 AXLES (OVER 10,000LBS (4,536KG))         640\n",
              "MOTORCYCLE                                                     418\n",
              "UNKNOWN                                                        407\n",
              "STATION WAGON                                                  340\n",
              "TRUCK TRACTOR                                                  233\n",
              "AMBULANCE/EMERGENCY                                            218\n",
              "FIRE VEHICLE/EMERGENCY                                         206\n",
              "OTHER BUS                                                      198\n",
              "FIRE VEHICLE/NON EMERGENCY                                     136\n",
              "RECREATIONAL VEHICLE                                            99\n",
              "AMBULANCE/NON EMERGENCY                                         82\n",
              "ALL TERRAIN VEHICLE (ATV)                                       65\n",
              "SNOWMOBILE                                                      58\n",
              "MOPED                                                           40\n",
              "AUTOCYCLE                                                       19\n",
              "LOW SPEED VEHICLE                                               16\n",
              "CROSS COUNTRY BUS                                               13\n",
              "FARM VEHICLE                                                    12\n",
              "LIMOUSINE                                                        9\n",
              "Name: Vehicle Body Type, dtype: int64"
            ]
          },
          "execution_count": 92,
          "metadata": {},
          "output_type": "execute_result"
        }
      ],
      "source": [
        "tst_data['Vehicle Body Type'].value_counts()"
      ]
    },
    {
      "cell_type": "code",
      "execution_count": null,
      "metadata": {
        "id": "wUhMO0PiHZ2I",
        "outputId": "e038bde7-78d4-402c-db7f-3c77c7333118"
      },
      "outputs": [
        {
          "data": {
            "text/plain": [
              "PASSENGER CAR                                                34162\n",
              "(SPORT) UTILITY VEHICLE                                       4493\n",
              "PICKUP TRUCK                                                  2060\n",
              "VAN                                                           1471\n",
              "TRANSIT BUS                                                   1124\n",
              "SCHOOL BUS                                                     869\n",
              "nan                                                            785\n",
              "POLICE VEHICLE/NON EMERGENCY                                   669\n",
              "OTHER LIGHT TRUCKS (10,000LBS (4,536KG) OR LESS)               629\n",
              "CARGO VAN/LIGHT TRUCK 2 AXLES (OVER 10,000LBS (4,536 KG))      600\n",
              "OTHER                                                          600\n",
              "POLICE VEHICLE/EMERGENCY                                       557\n",
              "MEDIUM/HEAVY TRUCKS 3 AXLES (OVER 10,000LBS (4,536KG))         512\n",
              "UNKNOWN                                                        353\n",
              "MOTORCYCLE                                                     312\n",
              "STATION WAGON                                                  298\n",
              "TRUCK TRACTOR                                                  221\n",
              "OTHER BUS                                                      214\n",
              "FIRE VEHICLE/EMERGENCY                                         188\n",
              "AMBULANCE/EMERGENCY                                            187\n",
              "FIRE VEHICLE/NON EMERGENCY                                     182\n",
              "RECREATIONAL VEHICLE                                           132\n",
              "AMBULANCE/NON EMERGENCY                                        125\n",
              "SNOWMOBILE                                                     116\n",
              "ALL TERRAIN VEHICLE (ATV)                                      108\n",
              "MOPED                                                           97\n",
              "AUTOCYCLE                                                       95\n",
              "LOW SPEED VEHICLE                                               92\n",
              "CROSS COUNTRY BUS                                               83\n",
              "FARM VEHICLE                                                    81\n",
              "LIMOUSINE                                                       75\n",
              "Name: Vehicle Body Type, dtype: int64"
            ]
          },
          "execution_count": 93,
          "metadata": {},
          "output_type": "execute_result"
        }
      ],
      "source": [
        "df['Vehicle Body Type'].value_counts()"
      ]
    },
    {
      "cell_type": "code",
      "execution_count": null,
      "metadata": {
        "id": "qlLyGMPhHZ2J"
      },
      "outputs": [],
      "source": [
        "df['Vehicle Body Type'] = [x if ((x=='PASSENGER CAR') | (x=='(SPORT) UTILITY VEHICLE') |( x=='PICKUP TRUCK')|(x=='VAN')|( x=='TRANSIT BUS')|(x=='SCHOOL BUS')|( x=='CARGO VAN/LIGHT TRUCK 2 AXLES (OVER 10,000LBS (4,536 KG))')) else 'OTHER' for x in df['Vehicle Body Type']]\n"
      ]
    },
    {
      "cell_type": "code",
      "execution_count": null,
      "metadata": {
        "id": "aysqYSE_HZ2J"
      },
      "outputs": [],
      "source": [
        "tst_data['Vehicle Body Type'] = [x if ((x=='PASSENGER CAR') | (x=='(SPORT) UTILITY VEHICLE') |( x=='PICKUP TRUCK')|(x=='VAN')|( x=='TRANSIT BUS')|(x=='SCHOOL BUS')|( x=='CARGO VAN/LIGHT TRUCK 2 AXLES (OVER 10,000LBS (4,536 KG))')) else 'OTHER' for x in tst_data['Vehicle Body Type']]\n"
      ]
    },
    {
      "cell_type": "code",
      "execution_count": null,
      "metadata": {
        "id": "asvW7bu5HZ2J"
      },
      "outputs": [],
      "source": []
    },
    {
      "cell_type": "code",
      "execution_count": null,
      "metadata": {
        "id": "VNhueu-UHZ2J",
        "outputId": "e56f278f-47ae-4563-e54f-8ac530702888"
      },
      "outputs": [
        {
          "data": {
            "text/plain": [
              "PASSENGER CAR                                                34162\n",
              "OTHER                                                         6711\n",
              "(SPORT) UTILITY VEHICLE                                       4493\n",
              "PICKUP TRUCK                                                  2060\n",
              "VAN                                                           1471\n",
              "TRANSIT BUS                                                   1124\n",
              "SCHOOL BUS                                                     869\n",
              "CARGO VAN/LIGHT TRUCK 2 AXLES (OVER 10,000LBS (4,536 KG))      600\n",
              "Name: Vehicle Body Type, dtype: int64"
            ]
          },
          "execution_count": 96,
          "metadata": {},
          "output_type": "execute_result"
        }
      ],
      "source": [
        "df['Vehicle Body Type'].value_counts()"
      ]
    },
    {
      "cell_type": "code",
      "execution_count": null,
      "metadata": {
        "id": "_bF69BP3HZ2J"
      },
      "outputs": [],
      "source": [
        "\n",
        "\n",
        "df,new,tst_data,new_test =onehot(df,'Vehicle Body Type',tst_data)\n",
        "df=pd.concat([df,new],axis=1)\n",
        "tst_data=pd.concat([tst_data,new_test],axis=1)"
      ]
    },
    {
      "cell_type": "code",
      "execution_count": null,
      "metadata": {
        "id": "7tHA5_7aHZ2K"
      },
      "outputs": [],
      "source": []
    },
    {
      "cell_type": "code",
      "execution_count": null,
      "metadata": {
        "id": "NNadeJxLHZ2K"
      },
      "outputs": [],
      "source": []
    },
    {
      "cell_type": "code",
      "execution_count": null,
      "metadata": {
        "id": "ddcY-e1HHZ2K"
      },
      "outputs": [],
      "source": [
        "df.drop(['Report Number'],axis=1,inplace=True)"
      ]
    },
    {
      "cell_type": "code",
      "execution_count": null,
      "metadata": {
        "id": "Mi-TDSXrHZ2K"
      },
      "outputs": [],
      "source": [
        "tst_data.drop(['Report Number'],axis=1,inplace=True)"
      ]
    },
    {
      "cell_type": "code",
      "execution_count": null,
      "metadata": {
        "id": "XKCyAbXrHZ2K",
        "outputId": "b585eb98-22d2-4ac4-cac4-19ea80f77103"
      },
      "outputs": [
        {
          "data": {
            "text/plain": [
              "TWELVE OCLOCK    19695\n",
              "SIX OCLOCK       10379\n",
              "ONE OCLOCK        4713\n",
              "ELEVEN OCLOCK     3975\n",
              "TWO OCLOCK        1825\n",
              "TEN OCLOCK        1815\n",
              "SEVEN OCLOCK      1391\n",
              "FIVE OCLOCK       1302\n",
              "FOUR OCLOCK       1251\n",
              "EIGHT OCLOCK      1143\n",
              "NINE OCLOCK       1064\n",
              "THREE OCLOCK      1042\n",
              "UNKNOWN            892\n",
              "UNDERSIDE          310\n",
              "NON-COLLISION      242\n",
              "ROOF TOP           229\n",
              "nan                222\n",
              "Name: Vehicle First Impact Location, dtype: int64"
            ]
          },
          "execution_count": 100,
          "metadata": {},
          "output_type": "execute_result"
        }
      ],
      "source": [
        "df['Vehicle First Impact Location'].value_counts()"
      ]
    },
    {
      "cell_type": "code",
      "execution_count": null,
      "metadata": {
        "id": "xCNZ7A8MHZ2L",
        "outputId": "b42d1b76-ac6e-4275-ba82-cb152ba3a13a"
      },
      "outputs": [
        {
          "data": {
            "text/plain": [
              "(51490, 73)"
            ]
          },
          "execution_count": 101,
          "metadata": {},
          "output_type": "execute_result"
        }
      ],
      "source": [
        "df.shape"
      ]
    },
    {
      "cell_type": "code",
      "execution_count": null,
      "metadata": {
        "id": "OTxokFRDHZ2L"
      },
      "outputs": [],
      "source": [
        "df['Vehicle First Impact Location'] = ['OTHER' if ((x=='UNDERSIDE') | (x=='UNKNOWN') |( x=='NON-COLLISION')|(x=='ROOF TOP')) else x for x in df['Vehicle First Impact Location']]\n"
      ]
    },
    {
      "cell_type": "code",
      "execution_count": null,
      "metadata": {
        "id": "4QWec25NHZ2L"
      },
      "outputs": [],
      "source": [
        "tst_data['Vehicle First Impact Location'] = ['OTHER' if ((x=='UNDERSIDE') | (x=='UNKNOWN') |( x=='NON-COLLISION')|(x=='ROOF TOP')) else x for x in tst_data['Vehicle First Impact Location']]\n"
      ]
    },
    {
      "cell_type": "code",
      "execution_count": null,
      "metadata": {
        "id": "hYbcaLl6HZ2L"
      },
      "outputs": [],
      "source": [
        "\n",
        "\n",
        "\n",
        "df,new,tst_data,new_test =onehot(df,'Vehicle First Impact Location',tst_data)\n",
        "df=pd.concat([df,new],axis=1)\n",
        "tst_data=pd.concat([tst_data,new_test],axis=1)"
      ]
    },
    {
      "cell_type": "code",
      "execution_count": null,
      "metadata": {
        "id": "2Fmt8fcCHZ2M"
      },
      "outputs": [],
      "source": []
    },
    {
      "cell_type": "code",
      "execution_count": null,
      "metadata": {
        "id": "cmjex5_QHZ2M",
        "outputId": "e4936d1d-d9e7-4c24-d91d-f7c52b124627"
      },
      "outputs": [
        {
          "data": {
            "text/plain": [
              "0        TWELVE OCLOCK\n",
              "1        TWELVE OCLOCK\n",
              "2           SIX OCLOCK\n",
              "3           TWO OCLOCK\n",
              "4           SIX OCLOCK\n",
              "             ...      \n",
              "51485    TWELVE OCLOCK\n",
              "51486    TWELVE OCLOCK\n",
              "51487    TWELVE OCLOCK\n",
              "51488    ELEVEN OCLOCK\n",
              "51489       TWO OCLOCK\n",
              "Name: Vehicle Second Impact Location, Length: 51490, dtype: object"
            ]
          },
          "execution_count": 105,
          "metadata": {},
          "output_type": "execute_result"
        }
      ],
      "source": [
        "df['Vehicle Second Impact Location']"
      ]
    },
    {
      "cell_type": "code",
      "execution_count": null,
      "metadata": {
        "id": "SwLXAh7DHZ2M",
        "outputId": "6a6dfe89-36d1-443a-c1df-e3412188d850"
      },
      "outputs": [
        {
          "data": {
            "text/plain": [
              "TWELVE OCLOCK    19583\n",
              "SIX OCLOCK       10252\n",
              "ONE OCLOCK        4629\n",
              "ELEVEN OCLOCK     3875\n",
              "TWO OCLOCK        1886\n",
              "TEN OCLOCK        1848\n",
              "SEVEN OCLOCK      1399\n",
              "FIVE OCLOCK       1310\n",
              "FOUR OCLOCK       1284\n",
              "EIGHT OCLOCK      1176\n",
              "THREE OCLOCK      1135\n",
              "NINE OCLOCK       1087\n",
              "UNKNOWN            898\n",
              "UNDERSIDE          349\n",
              "ROOF TOP           295\n",
              "NON-COLLISION      250\n",
              "nan                234\n",
              "Name: Vehicle Second Impact Location, dtype: int64"
            ]
          },
          "execution_count": 106,
          "metadata": {},
          "output_type": "execute_result"
        }
      ],
      "source": [
        "df['Vehicle Second Impact Location'].value_counts()"
      ]
    },
    {
      "cell_type": "code",
      "execution_count": null,
      "metadata": {
        "id": "tWvhrP87HZ2M"
      },
      "outputs": [],
      "source": [
        "df['Vehicle Second Impact Location'] = ['OTHER' if ((x=='UNDERSIDE') | (x=='UNKNOWN') |( x=='NON-COLLISION')|(x=='ROOF TOP')) else x for x in df['Vehicle Second Impact Location']]\n",
        "tst_data['Vehicle Second Impact Location'] = ['OTHER' if ((x=='UNDERSIDE') | (x=='UNKNOWN') |( x=='NON-COLLISION')|(x=='ROOF TOP')) else x for x in tst_data['Vehicle Second Impact Location']]\n"
      ]
    },
    {
      "cell_type": "code",
      "execution_count": null,
      "metadata": {
        "id": "0uKbVB73HZ2N"
      },
      "outputs": [],
      "source": [
        "\n",
        "\n",
        "\n",
        "df,new,tst_data,new_test =onehot(df,'Vehicle Second Impact Location',tst_data)\n",
        "df=pd.concat([df,new],axis=1)\n",
        "tst_data=pd.concat([tst_data,new_test],axis=1)"
      ]
    },
    {
      "cell_type": "code",
      "execution_count": null,
      "metadata": {
        "id": "PwSML-nDHZ2N"
      },
      "outputs": [],
      "source": []
    },
    {
      "cell_type": "code",
      "execution_count": null,
      "metadata": {
        "id": "dfver1FXHZ2N"
      },
      "outputs": [],
      "source": [
        "\n",
        "\n"
      ]
    },
    {
      "cell_type": "code",
      "execution_count": null,
      "metadata": {
        "id": "XZ1YsaAvHZ2N",
        "outputId": "be268f9b-6976-4a78-d79f-d2e4dd2d1343"
      },
      "outputs": [
        {
          "data": {
            "text/html": [
              "<div>\n",
              "<style scoped>\n",
              "    .dataframe tbody tr th:only-of-type {\n",
              "        vertical-align: middle;\n",
              "    }\n",
              "\n",
              "    .dataframe tbody tr th {\n",
              "        vertical-align: top;\n",
              "    }\n",
              "\n",
              "    .dataframe thead th {\n",
              "        text-align: right;\n",
              "    }\n",
              "</style>\n",
              "<table border=\"1\" class=\"dataframe\">\n",
              "  <thead>\n",
              "    <tr style=\"text-align: right;\">\n",
              "      <th></th>\n",
              "      <th>Longitude</th>\n",
              "      <th>Latitude</th>\n",
              "    </tr>\n",
              "  </thead>\n",
              "  <tbody>\n",
              "    <tr>\n",
              "      <th>0</th>\n",
              "      <td>-77.127668</td>\n",
              "      <td>38.988440</td>\n",
              "    </tr>\n",
              "    <tr>\n",
              "      <th>1</th>\n",
              "      <td>-77.205783</td>\n",
              "      <td>39.094075</td>\n",
              "    </tr>\n",
              "    <tr>\n",
              "      <th>2</th>\n",
              "      <td>-77.052688</td>\n",
              "      <td>39.047180</td>\n",
              "    </tr>\n",
              "    <tr>\n",
              "      <th>3</th>\n",
              "      <td>-77.238475</td>\n",
              "      <td>39.178007</td>\n",
              "    </tr>\n",
              "    <tr>\n",
              "      <th>4</th>\n",
              "      <td>-77.154043</td>\n",
              "      <td>39.056134</td>\n",
              "    </tr>\n",
              "    <tr>\n",
              "      <th>...</th>\n",
              "      <td>...</td>\n",
              "      <td>...</td>\n",
              "    </tr>\n",
              "    <tr>\n",
              "      <th>77230</th>\n",
              "      <td>-76.963613</td>\n",
              "      <td>39.116285</td>\n",
              "    </tr>\n",
              "    <tr>\n",
              "      <th>77231</th>\n",
              "      <td>-76.925858</td>\n",
              "      <td>39.108410</td>\n",
              "    </tr>\n",
              "    <tr>\n",
              "      <th>77232</th>\n",
              "      <td>-77.177598</td>\n",
              "      <td>39.122352</td>\n",
              "    </tr>\n",
              "    <tr>\n",
              "      <th>77233</th>\n",
              "      <td>-77.093128</td>\n",
              "      <td>38.983770</td>\n",
              "    </tr>\n",
              "    <tr>\n",
              "      <th>77234</th>\n",
              "      <td>-77.041102</td>\n",
              "      <td>39.010772</td>\n",
              "    </tr>\n",
              "  </tbody>\n",
              "</table>\n",
              "<p>77235 rows × 2 columns</p>\n",
              "</div>"
            ],
            "text/plain": [
              "       Longitude   Latitude\n",
              "0     -77.127668  38.988440\n",
              "1     -77.205783  39.094075\n",
              "2     -77.052688  39.047180\n",
              "3     -77.238475  39.178007\n",
              "4     -77.154043  39.056134\n",
              "...          ...        ...\n",
              "77230 -76.963613  39.116285\n",
              "77231 -76.925858  39.108410\n",
              "77232 -77.177598  39.122352\n",
              "77233 -77.093128  38.983770\n",
              "77234 -77.041102  39.010772\n",
              "\n",
              "[77235 rows x 2 columns]"
            ]
          },
          "execution_count": 109,
          "metadata": {},
          "output_type": "execute_result"
        }
      ],
      "source": [
        "tst_data[['Longitude','Latitude']]\n"
      ]
    },
    {
      "cell_type": "code",
      "execution_count": null,
      "metadata": {
        "id": "CDX8QAqGHZ2N",
        "outputId": "30d6155f-cd93-46b0-a3b4-bbaea72360c5"
      },
      "outputs": [
        {
          "data": {
            "text/html": [
              "<div>\n",
              "<style scoped>\n",
              "    .dataframe tbody tr th:only-of-type {\n",
              "        vertical-align: middle;\n",
              "    }\n",
              "\n",
              "    .dataframe tbody tr th {\n",
              "        vertical-align: top;\n",
              "    }\n",
              "\n",
              "    .dataframe thead th {\n",
              "        text-align: right;\n",
              "    }\n",
              "</style>\n",
              "<table border=\"1\" class=\"dataframe\">\n",
              "  <thead>\n",
              "    <tr style=\"text-align: right;\">\n",
              "      <th></th>\n",
              "      <th>Longitude</th>\n",
              "      <th>Latitude</th>\n",
              "    </tr>\n",
              "  </thead>\n",
              "  <tbody>\n",
              "    <tr>\n",
              "      <th>0</th>\n",
              "      <td>-77.344203</td>\n",
              "      <td>39.263378</td>\n",
              "    </tr>\n",
              "    <tr>\n",
              "      <th>1</th>\n",
              "      <td>-77.063227</td>\n",
              "      <td>39.068913</td>\n",
              "    </tr>\n",
              "    <tr>\n",
              "      <th>2</th>\n",
              "      <td>-77.032718</td>\n",
              "      <td>38.993578</td>\n",
              "    </tr>\n",
              "    <tr>\n",
              "      <th>3</th>\n",
              "      <td>-77.086933</td>\n",
              "      <td>39.083480</td>\n",
              "    </tr>\n",
              "    <tr>\n",
              "      <th>4</th>\n",
              "      <td>-77.109168</td>\n",
              "      <td>38.996942</td>\n",
              "    </tr>\n",
              "    <tr>\n",
              "      <th>...</th>\n",
              "      <td>...</td>\n",
              "      <td>...</td>\n",
              "    </tr>\n",
              "    <tr>\n",
              "      <th>51485</th>\n",
              "      <td>-77.058543</td>\n",
              "      <td>39.175678</td>\n",
              "    </tr>\n",
              "    <tr>\n",
              "      <th>51486</th>\n",
              "      <td>-77.157818</td>\n",
              "      <td>39.105883</td>\n",
              "    </tr>\n",
              "    <tr>\n",
              "      <th>51487</th>\n",
              "      <td>-77.266897</td>\n",
              "      <td>39.191402</td>\n",
              "    </tr>\n",
              "    <tr>\n",
              "      <th>51488</th>\n",
              "      <td>-77.153778</td>\n",
              "      <td>39.066993</td>\n",
              "    </tr>\n",
              "    <tr>\n",
              "      <th>51489</th>\n",
              "      <td>-77.044988</td>\n",
              "      <td>39.060417</td>\n",
              "    </tr>\n",
              "  </tbody>\n",
              "</table>\n",
              "<p>51490 rows × 2 columns</p>\n",
              "</div>"
            ],
            "text/plain": [
              "       Longitude   Latitude\n",
              "0     -77.344203  39.263378\n",
              "1     -77.063227  39.068913\n",
              "2     -77.032718  38.993578\n",
              "3     -77.086933  39.083480\n",
              "4     -77.109168  38.996942\n",
              "...          ...        ...\n",
              "51485 -77.058543  39.175678\n",
              "51486 -77.157818  39.105883\n",
              "51487 -77.266897  39.191402\n",
              "51488 -77.153778  39.066993\n",
              "51489 -77.044988  39.060417\n",
              "\n",
              "[51490 rows x 2 columns]"
            ]
          },
          "execution_count": 110,
          "metadata": {},
          "output_type": "execute_result"
        }
      ],
      "source": [
        "df[['Longitude','Latitude']]"
      ]
    },
    {
      "cell_type": "code",
      "execution_count": null,
      "metadata": {
        "id": "-XuAoN7MHZ2O"
      },
      "outputs": [],
      "source": [
        "df.drop(['Location'],axis=1,inplace=True)"
      ]
    },
    {
      "cell_type": "code",
      "execution_count": null,
      "metadata": {
        "id": "GKtwVBYAHZ2O"
      },
      "outputs": [],
      "source": [
        "tst_data.drop(['Location'],axis=1,inplace=True)"
      ]
    },
    {
      "cell_type": "code",
      "execution_count": null,
      "metadata": {
        "id": "vn_dJ4uYHZ2P",
        "outputId": "74616805-9e2c-4771-bbf0-d7a9ff68eca9"
      },
      "outputs": [
        {
          "data": {
            "text/plain": [
              "NO APPARENT INJURY          40511\n",
              "POSSIBLE INJURY              5545\n",
              "SUSPECTED MINOR INJURY       3993\n",
              "SUSPECTED SERIOUS INJURY      914\n",
              "FATAL INJURY                  527\n",
              "Name: Injury Severity, dtype: int64"
            ]
          },
          "execution_count": 113,
          "metadata": {},
          "output_type": "execute_result"
        }
      ],
      "source": [
        "df['Injury Severity'].value_counts()"
      ]
    },
    {
      "cell_type": "code",
      "execution_count": null,
      "metadata": {
        "id": "vAsyYB2kHZ2P"
      },
      "outputs": [],
      "source": [
        "df['Injury Severity'].replace({'NO APPARENT INJURY':0, 'POSSIBLE INJURY':1, 'SUSPECTED MINOR INJURY':2, 'SUSPECTED SERIOUS INJURY':3, 'FATAL INJURY':4},inplace=True)\n"
      ]
    },
    {
      "cell_type": "code",
      "execution_count": null,
      "metadata": {
        "id": "jf_1sj93HZ2P"
      },
      "outputs": [],
      "source": [
        "tst_data['Injury Severity'].replace({'NO APPARENT INJURY':0, 'POSSIBLE INJURY':1, 'SUSPECTED MINOR INJURY':2, 'SUSPECTED SERIOUS INJURY':3, 'FATAL INJURY':4},inplace=True)\n"
      ]
    },
    {
      "cell_type": "code",
      "execution_count": null,
      "metadata": {
        "id": "WxAfk7O1HZ2P",
        "outputId": "b64b300d-721b-484a-90e4-a5f44a40a36f"
      },
      "outputs": [
        {
          "data": {
            "text/plain": [
              "MD     40978\n",
              "nan     2528\n",
              "VA      1569\n",
              "DC      1461\n",
              "XX       463\n",
              "       ...  \n",
              "AS        36\n",
              "AK        35\n",
              "ID        33\n",
              "NL        31\n",
              "MH        30\n",
              "Name: Drivers License State, Length: 66, dtype: int64"
            ]
          },
          "execution_count": 116,
          "metadata": {},
          "output_type": "execute_result"
        }
      ],
      "source": [
        "df['Drivers License State'].value_counts()"
      ]
    },
    {
      "cell_type": "code",
      "execution_count": null,
      "metadata": {
        "id": "Ml3KLavOHZ2Q"
      },
      "outputs": [],
      "source": [
        "df['Drivers License State'] = [x if ((x=='MD') | (x=='VA') |( x=='DC')|(x=='PA')|(x=='XX')|(x=='FL')) else 'OTHER' for x in df['Drivers License State']]\n",
        "tst_data['Drivers License State'] = [x if ((x=='MD') | (x=='VA') |( x=='DC')|(x=='PA')|(x=='XX')|(x=='FL')) else 'OTHER' for x in tst_data['Drivers License State']]\n"
      ]
    },
    {
      "cell_type": "code",
      "execution_count": null,
      "metadata": {
        "id": "JFaDn0uCHZ2Q"
      },
      "outputs": [],
      "source": [
        "\n",
        "\n",
        "df,new,tst_data,new_test =onehot(df,'Drivers License State',tst_data)\n",
        "df=pd.concat([df,new],axis=1)\n",
        "tst_data=pd.concat([tst_data,new_test],axis=1)"
      ]
    },
    {
      "cell_type": "code",
      "execution_count": null,
      "metadata": {
        "id": "-c57JiqkHZ2Q"
      },
      "outputs": [],
      "source": []
    },
    {
      "cell_type": "code",
      "execution_count": null,
      "metadata": {
        "id": "Tv8nGAeKHZ2Q"
      },
      "outputs": [],
      "source": []
    },
    {
      "cell_type": "code",
      "execution_count": null,
      "metadata": {
        "id": "gtnyAYjCHZ2Q",
        "outputId": "7c3c0ab3-953d-4aa7-8820-e9ecb36009c1"
      },
      "outputs": [
        {
          "data": {
            "text/plain": [
              "49209"
            ]
          },
          "execution_count": 119,
          "metadata": {},
          "output_type": "execute_result"
        }
      ],
      "source": [
        "np.count_nonzero(df['Person ID'].unique())"
      ]
    },
    {
      "cell_type": "code",
      "execution_count": null,
      "metadata": {
        "id": "RK63Xd6hHZ2R"
      },
      "outputs": [],
      "source": [
        "df.drop(['Person ID'],axis=1,inplace=True)"
      ]
    },
    {
      "cell_type": "code",
      "execution_count": null,
      "metadata": {
        "id": "y8yFSHanHZ2R"
      },
      "outputs": [],
      "source": [
        "tst_data.drop(['Person ID'],axis=1,inplace=True)"
      ]
    },
    {
      "cell_type": "code",
      "execution_count": null,
      "metadata": {
        "id": "1ctqalB-HZ2R"
      },
      "outputs": [],
      "source": []
    },
    {
      "cell_type": "code",
      "execution_count": null,
      "metadata": {
        "id": "0rSpq-XeHZ2R",
        "outputId": "c9f85007-9016-4973-dd71-5c1f193d790b"
      },
      "outputs": [
        {
          "data": {
            "text/plain": [
              "NONE DETECTED                 35324\n",
              "nan                            9095\n",
              "UNKNOWN                        3381\n",
              "ALCOHOL PRESENT                1403\n",
              "ALCOHOL CONTRIBUTED             610\n",
              "ILLEGAL DRUG PRESENT            293\n",
              "MEDICATION PRESENT              261\n",
              "ILLEGAL DRUG CONTRIBUTED        231\n",
              "MEDICATION CONTRIBUTED          231\n",
              "OTHER                           224\n",
              "COMBINATION CONTRIBUTED         224\n",
              "COMBINED SUBSTANCE PRESENT      213\n",
              "Name: Driver Substance Abuse, dtype: int64"
            ]
          },
          "execution_count": 122,
          "metadata": {},
          "output_type": "execute_result"
        }
      ],
      "source": [
        "df['Driver Substance Abuse'].value_counts()"
      ]
    },
    {
      "cell_type": "code",
      "execution_count": null,
      "metadata": {
        "id": "WxMEE2HnHZ2R"
      },
      "outputs": [],
      "source": [
        "\n",
        "\n",
        "df,new,tst_data,new_test =onehot(df,'Driver Substance Abuse',tst_data)\n",
        "df=pd.concat([df,new],axis=1)\n",
        "tst_data=pd.concat([tst_data,new_test],axis=1)"
      ]
    },
    {
      "cell_type": "code",
      "execution_count": null,
      "metadata": {
        "id": "qVUZSgS5HZ2S"
      },
      "outputs": [],
      "source": []
    },
    {
      "cell_type": "code",
      "execution_count": null,
      "metadata": {
        "id": "MQZDXtcxHZ2S",
        "outputId": "d3eab3e7-5451-476a-ec6f-72f7671d5537"
      },
      "outputs": [
        {
          "data": {
            "text/plain": [
              "NO CONTROLS                19627\n",
              "TRAFFIC SIGNAL             16746\n",
              "nan                         7774\n",
              "STOP SIGN                   3771\n",
              "OTHER                        793\n",
              "FLASHING TRAFFIC SIGNAL      779\n",
              "YIELD SIGN                   762\n",
              "PERSON                       290\n",
              "UNKNOWN                      272\n",
              "WARNING SIGN                 259\n",
              "RAILWAY CROSSING DEVICE      212\n",
              "SCHOOL ZONE SIGN DEVICE      205\n",
              "Name: Traffic Control, dtype: int64"
            ]
          },
          "execution_count": 124,
          "metadata": {},
          "output_type": "execute_result"
        }
      ],
      "source": [
        "df['Traffic Control'].value_counts()"
      ]
    },
    {
      "cell_type": "code",
      "execution_count": null,
      "metadata": {
        "id": "doKQVCvtHZ2S"
      },
      "outputs": [],
      "source": [
        "df['Traffic Control'] = [x if ((x=='NO CONTROLS') | (x=='TRAFFIC SIGNAL') |( x=='STOP SIGN')) else 'OTHER' for x in df['Traffic Control']]\n",
        "tst_data['Traffic Control'] = [x if ((x=='NO CONTROLS') | (x=='TRAFFIC SIGNAL') |( x=='STOP SIGN')) else 'OTHER' for x in tst_data['Traffic Control']]\n"
      ]
    },
    {
      "cell_type": "code",
      "execution_count": null,
      "metadata": {
        "id": "e-jBcWSvHZ2T"
      },
      "outputs": [],
      "source": [
        "\n",
        "\n",
        "df,new,tst_data,new_test =onehot(df,'Traffic Control',tst_data)\n",
        "df=pd.concat([df,new],axis=1)\n",
        "tst_data=pd.concat([tst_data,new_test],axis=1)"
      ]
    },
    {
      "cell_type": "code",
      "execution_count": null,
      "metadata": {
        "id": "EQAgcuP3HZ2T"
      },
      "outputs": [],
      "source": []
    },
    {
      "cell_type": "code",
      "execution_count": null,
      "metadata": {
        "id": "Mv2bI5zwHZ2T"
      },
      "outputs": [],
      "source": []
    },
    {
      "cell_type": "code",
      "execution_count": null,
      "metadata": {
        "id": "g7XLIU8pHZ2T",
        "outputId": "de156ac8-bbad-47fe-fc15-f7f1208c2e6e"
      },
      "outputs": [
        {
          "data": {
            "text/plain": [
              "DAYLIGHT                    33617\n",
              "DARK LIGHTS ON              11224\n",
              "DARK NO LIGHTS               1716\n",
              "DUSK                         1425\n",
              "DAWN                         1222\n",
              "DARK -- UNKNOWN LIGHTING      727\n",
              "nan                           704\n",
              "UNKNOWN                       480\n",
              "OTHER                         375\n",
              "Name: Light, dtype: int64"
            ]
          },
          "execution_count": 127,
          "metadata": {},
          "output_type": "execute_result"
        }
      ],
      "source": [
        "df['Light'].value_counts()"
      ]
    },
    {
      "cell_type": "code",
      "execution_count": null,
      "metadata": {
        "id": "hExrxFasHZ2U"
      },
      "outputs": [],
      "source": [
        "\n",
        "\n",
        "\n",
        "df,new,tst_data,new_test =onehot(df,'Light',tst_data)\n",
        "df=pd.concat([df,new],axis=1)\n",
        "tst_data=pd.concat([tst_data,new_test],axis=1)"
      ]
    },
    {
      "cell_type": "code",
      "execution_count": null,
      "metadata": {
        "id": "O8c720XTHZ2U"
      },
      "outputs": [],
      "source": []
    },
    {
      "cell_type": "code",
      "execution_count": null,
      "metadata": {
        "id": "ohnwo0kTHZ2V"
      },
      "outputs": [],
      "source": []
    },
    {
      "cell_type": "code",
      "execution_count": null,
      "metadata": {
        "id": "Isjv5tA6HZ2V",
        "outputId": "31e7ab67-b55d-4883-f80d-92505ab323dc"
      },
      "outputs": [
        {
          "data": {
            "text/plain": [
              "DRY                       34197\n",
              "WET                        8593\n",
              "nan                        5879\n",
              "ICE                         530\n",
              "SNOW                        528\n",
              "UNKNOWN                     342\n",
              "SLUSH                       281\n",
              "WATER(STANDING/MOVING)      252\n",
              "OTHER                       242\n",
              "MUD, DIRT, GRAVEL           226\n",
              "OIL                         222\n",
              "SAND                        198\n",
              "Name: Surface Condition, dtype: int64"
            ]
          },
          "execution_count": 129,
          "metadata": {},
          "output_type": "execute_result"
        }
      ],
      "source": [
        "df['Surface Condition'].value_counts()"
      ]
    },
    {
      "cell_type": "code",
      "execution_count": null,
      "metadata": {
        "id": "YznHkDgTHZ2V"
      },
      "outputs": [],
      "source": [
        "df['Surface Condition'] = [x if ((x=='DRY') | (x=='WET')) else 'OTHER' for x in df['Surface Condition']]\n"
      ]
    },
    {
      "cell_type": "code",
      "execution_count": null,
      "metadata": {
        "id": "W0fLfrVhHZ2W"
      },
      "outputs": [],
      "source": [
        "tst_data['Surface Condition'] = [x if ((x=='DRY') | (x=='WET')) else 'OTHER' for x in tst_data['Surface Condition']]\n"
      ]
    },
    {
      "cell_type": "code",
      "execution_count": null,
      "metadata": {
        "id": "R6POo3WBHZ2W"
      },
      "outputs": [],
      "source": [
        "\n",
        "\n",
        "\n",
        "df,new,tst_data,new_test =onehot(df,'Surface Condition',tst_data)\n",
        "df=pd.concat([df,new],axis=1)\n",
        "tst_data=pd.concat([tst_data,new_test],axis=1)"
      ]
    },
    {
      "cell_type": "code",
      "execution_count": null,
      "metadata": {
        "id": "yV-Io6TGHZ2W"
      },
      "outputs": [],
      "source": []
    },
    {
      "cell_type": "code",
      "execution_count": null,
      "metadata": {
        "id": "eYHoRnsCHZ2X",
        "outputId": "0c46cb2f-4505-42b2-a8f3-ecf55273b328"
      },
      "outputs": [
        {
          "data": {
            "text/plain": [
              "CLEAR                       33114\n",
              "RAINING                      6173\n",
              "CLOUDY                       5293\n",
              "nan                          4029\n",
              "SNOW                          680\n",
              "FOGGY                         377\n",
              "UNKNOWN                       361\n",
              "WINTRY MIX                    304\n",
              "OTHER                         291\n",
              "SLEET                         231\n",
              "SEVERE WINDS                  220\n",
              "BLOWING SNOW                  216\n",
              "BLOWING SAND, SOIL, DIRT      201\n",
              "Name: Weather, dtype: int64"
            ]
          },
          "execution_count": 133,
          "metadata": {},
          "output_type": "execute_result"
        }
      ],
      "source": [
        "df['Weather'].value_counts()"
      ]
    },
    {
      "cell_type": "code",
      "execution_count": null,
      "metadata": {
        "id": "mrJ7B_V_HZ2X"
      },
      "outputs": [],
      "source": [
        "df['Weather'] = [x if ((x=='CLEAR') | (x=='RAINING')|(x=='CLOUDY')) else 'OTHER' for x in df['Weather']]\n",
        "tst_data['Weather'] = [x if ((x=='CLEAR') | (x=='RAINING')|(x=='CLOUDY')) else 'OTHER' for x in tst_data['Weather']]\n"
      ]
    },
    {
      "cell_type": "code",
      "execution_count": null,
      "metadata": {
        "id": "mTiDIpRCHZ2Y"
      },
      "outputs": [],
      "source": [
        "\n",
        "\n",
        "df,new,tst_data,new_test =onehot(df,'Weather',tst_data)\n",
        "df=pd.concat([df,new],axis=1)\n",
        "tst_data=pd.concat([tst_data,new_test],axis=1)"
      ]
    },
    {
      "cell_type": "code",
      "execution_count": null,
      "metadata": {
        "id": "1vxZ2HR7HZ2Y"
      },
      "outputs": [],
      "source": []
    },
    {
      "cell_type": "code",
      "execution_count": null,
      "metadata": {
        "id": "UuQy5O3QHZ2Y"
      },
      "outputs": [],
      "source": []
    },
    {
      "cell_type": "code",
      "execution_count": null,
      "metadata": {
        "id": "iix741y6HZ2Z",
        "outputId": "12fcbff2-ebd6-4d8e-d605-da8579f43a97"
      },
      "outputs": [
        {
          "data": {
            "text/plain": [
              "SAME DIR REAR END               16731\n",
              "STRAIGHT MOVEMENT ANGLE          8556\n",
              "OTHER                            5469\n",
              "SINGLE VEHICLE                   4717\n",
              "SAME DIRECTION SIDESWIPE         4419\n",
              "HEAD ON LEFT TURN                3855\n",
              "HEAD ON                          1195\n",
              "SAME DIRECTION LEFT TURN         1156\n",
              "SAME DIRECTION RIGHT TURN        1151\n",
              "OPPOSITE DIRECTION SIDESWIPE      889\n",
              "ANGLE MEETS LEFT TURN             750\n",
              "ANGLE MEETS RIGHT TURN            479\n",
              "SAME DIR REND LEFT TURN           360\n",
              "ANGLE MEETS LEFT HEAD ON          341\n",
              "SAME DIR REND RIGHT TURN          338\n",
              "UNKNOWN                           304\n",
              "nan                               299\n",
              "SAME DIR BOTH LEFT TURN           273\n",
              "OPPOSITE DIR BOTH LEFT TURN       208\n",
              "Name: Collision Type, dtype: int64"
            ]
          },
          "execution_count": 136,
          "metadata": {},
          "output_type": "execute_result"
        }
      ],
      "source": [
        "df['Collision Type'].value_counts()"
      ]
    },
    {
      "cell_type": "code",
      "execution_count": null,
      "metadata": {
        "id": "K_dXgG7eHZ2Z"
      },
      "outputs": [],
      "source": [
        "df['Collision Type'] = [x if ((x=='SAME DIR REAR END') | (x=='STRAIGHT MOVEMENT ANGLE')|(x=='HEAD ON LEFT TURN')| (x=='SAME DIRECTION SIDESWIPE')|(x=='SINGLE VEHICLE') | (x=='SAME DIRECTION LEFT TURN ')|(x=='HEAD ON') ) else 'OTHER' for x in df['Collision Type']]\n",
        "tst_data['Collision Type'] = [x if ((x=='SAME DIR REAR END') | (x=='STRAIGHT MOVEMENT ANGLE')|(x=='HEAD ON LEFT TURN')| (x=='SAME DIRECTION SIDESWIPE')|(x=='SINGLE VEHICLE') | (x=='SAME DIRECTION LEFT TURN ')|(x=='HEAD ON') ) else 'OTHER' for x in tst_data['Collision Type']]\n"
      ]
    },
    {
      "cell_type": "code",
      "execution_count": null,
      "metadata": {
        "id": "qlB0zm-1HZ2a"
      },
      "outputs": [],
      "source": [
        "\n",
        "\n",
        "\n",
        "df,new,tst_data,new_test =onehot(df,'Collision Type',tst_data)\n",
        "df=pd.concat([df,new],axis=1)\n",
        "tst_data=pd.concat([tst_data,new_test],axis=1)"
      ]
    },
    {
      "cell_type": "code",
      "execution_count": null,
      "metadata": {
        "id": "RbnA38vsHZ2a"
      },
      "outputs": [],
      "source": []
    },
    {
      "cell_type": "code",
      "execution_count": null,
      "metadata": {
        "id": "Mm78E_OZHZ2a"
      },
      "outputs": [],
      "source": []
    },
    {
      "cell_type": "code",
      "execution_count": null,
      "metadata": {
        "id": "SQ6OG-oOHZ2a",
        "outputId": "46735231-4c29-4273-a592-bd5f318d6e78"
      },
      "outputs": [
        {
          "data": {
            "text/plain": [
              "0            THURSTON RD\n",
              "1               FLACK ST\n",
              "2           STRUC #15082\n",
              "3           FRANKFORT DR\n",
              "4            MCKINLEY ST\n",
              "              ...       \n",
              "51485       GOLD MINE RD\n",
              "51486          E GUDE DR\n",
              "51487           BRINK RD\n",
              "51488    TOWER OAKS BLVD\n",
              "51489      GLENALLAN AVE\n",
              "Name: Cross-Street Name, Length: 51490, dtype: object"
            ]
          },
          "execution_count": 139,
          "metadata": {},
          "output_type": "execute_result"
        }
      ],
      "source": [
        "df['Cross-Street Name']"
      ]
    },
    {
      "cell_type": "code",
      "execution_count": null,
      "metadata": {
        "id": "Vk4Okk7uHZ2b"
      },
      "outputs": [],
      "source": [
        "df.drop(['Cross-Street Name'],axis=1,inplace=True)\n",
        "tst_data.drop(['Cross-Street Name'],axis=1,inplace=True)"
      ]
    },
    {
      "cell_type": "code",
      "execution_count": null,
      "metadata": {
        "id": "OgFcdryNHZ2b",
        "outputId": "2f2021b6-6055-47a0-9737-fab14b936c05"
      },
      "outputs": [
        {
          "data": {
            "text/plain": [
              "County                  24694\n",
              "Maryland (State)         7157\n",
              "Municipality             5555\n",
              "nan                      5019\n",
              "Unknown                  3958\n",
              "Ramp                     1946\n",
              "Other Public Roadway     1268\n",
              "US (State)                650\n",
              "Government                574\n",
              "Interstate (State)        421\n",
              "Service Road              248\n",
              "Name: Cross-Street Type, dtype: int64"
            ]
          },
          "execution_count": 141,
          "metadata": {},
          "output_type": "execute_result"
        }
      ],
      "source": [
        "df['Cross-Street Type'].value_counts()"
      ]
    },
    {
      "cell_type": "code",
      "execution_count": null,
      "metadata": {
        "id": "4ifF9In6HZ2c"
      },
      "outputs": [],
      "source": [
        "df['Cross-Street Type'] = [x if ((x=='County') | (x=='Maryland (State)')|(x=='Municipality')) else 'OTHER' for x in df['Cross-Street Type']]\n",
        "tst_data['Cross-Street Type'] = [x if ((x=='County') | (x=='Maryland (State)')|(x=='Municipality')) else 'OTHER' for x in tst_data['Cross-Street Type']]\n"
      ]
    },
    {
      "cell_type": "code",
      "execution_count": null,
      "metadata": {
        "id": "Mh6Cd_qYHZ2c"
      },
      "outputs": [],
      "source": [
        "\n",
        "\n",
        "df,new,tst_data,new_test =onehot(df,'Cross-Street Type',tst_data)\n",
        "df=pd.concat([df,new],axis=1)\n",
        "tst_data=pd.concat([tst_data,new_test],axis=1)"
      ]
    },
    {
      "cell_type": "code",
      "execution_count": null,
      "metadata": {
        "id": "urLGURFJHZ2c"
      },
      "outputs": [],
      "source": []
    },
    {
      "cell_type": "code",
      "execution_count": null,
      "metadata": {
        "id": "UkzlrYhuHZ2d"
      },
      "outputs": [],
      "source": []
    },
    {
      "cell_type": "code",
      "execution_count": null,
      "metadata": {
        "id": "0sPTQEjjHZ2d",
        "outputId": "3392138c-eff4-41e2-fcdc-de16df36a76d"
      },
      "outputs": [
        {
          "data": {
            "text/plain": [
              "0           OLD HUNDRED RD\n",
              "1                 JANET RD\n",
              "2            COLESVILLE RD\n",
              "3              PARKLAND DR\n",
              "4        OLD GEORGETOWN RD\n",
              "               ...        \n",
              "51485          GEORGIA AVE\n",
              "51486         FREDERICK RD\n",
              "51487         FREDERICK RD\n",
              "51488         WOOTTON PKWY\n",
              "51489          RANDOLPH RD\n",
              "Name: Road Name, Length: 51490, dtype: object"
            ]
          },
          "execution_count": 144,
          "metadata": {},
          "output_type": "execute_result"
        }
      ],
      "source": [
        "df['Road Name']"
      ]
    },
    {
      "cell_type": "code",
      "execution_count": null,
      "metadata": {
        "id": "t4-PAaHkHZ2d",
        "outputId": "9a095f7d-53fd-403e-9900-b819ba1ef175"
      },
      "outputs": [
        {
          "data": {
            "text/plain": [
              "nan                    4502\n",
              "GEORGIA AVE            3122\n",
              "NEW HAMPSHIRE AVE      2020\n",
              "FREDERICK RD           1624\n",
              "ROCKVILLE PIKE         1345\n",
              "                       ... \n",
              "BACALL LA                 1\n",
              "TWIN BRANCHES DRIVE       1\n",
              "WEDGE WAY                 1\n",
              "OAKRIDGE LA               1\n",
              "KENBROOK DR               1\n",
              "Name: Road Name, Length: 2227, dtype: int64"
            ]
          },
          "execution_count": 145,
          "metadata": {},
          "output_type": "execute_result"
        }
      ],
      "source": [
        "df['Road Name'].value_counts()"
      ]
    },
    {
      "cell_type": "code",
      "execution_count": null,
      "metadata": {
        "id": "Prhp58DuHZ2e"
      },
      "outputs": [],
      "source": [
        "df.drop(['Road Name'],axis=1,inplace=True)\n",
        "tst_data.drop(['Road Name'],axis=1,inplace=True)"
      ]
    },
    {
      "cell_type": "code",
      "execution_count": null,
      "metadata": {
        "id": "UHfTj2YoHZ2e",
        "outputId": "ff67cb57-7f80-4594-92c5-86c29eeb68bf"
      },
      "outputs": [
        {
          "data": {
            "text/plain": [
              "Maryland (State)        22482\n",
              "County                  16059\n",
              "nan                      4968\n",
              "Municipality             2840\n",
              "US (State)               2291\n",
              "Interstate (State)       1145\n",
              "Other Public Roadway      489\n",
              "Ramp                      398\n",
              "Government                390\n",
              "Service Road              218\n",
              "Unknown                   210\n",
              "Name: Route Type, dtype: int64"
            ]
          },
          "execution_count": 147,
          "metadata": {},
          "output_type": "execute_result"
        }
      ],
      "source": [
        "df['Route Type'].value_counts()"
      ]
    },
    {
      "cell_type": "code",
      "execution_count": null,
      "metadata": {
        "id": "4PFuTsL-HZ2f"
      },
      "outputs": [],
      "source": [
        "df.drop(['Route Type'],axis=1,inplace=True)\n",
        "tst_data.drop(['Route Type'],axis=1,inplace=True)"
      ]
    },
    {
      "cell_type": "code",
      "execution_count": null,
      "metadata": {
        "id": "YF4QIFMRHZ2f",
        "outputId": "61559eb2-78ad-4b1a-9a3e-33cce84f09e9"
      },
      "outputs": [
        {
          "data": {
            "text/plain": [
              "0                 Injury Crash\n",
              "1                 Injury Crash\n",
              "2        Property Damage Crash\n",
              "3                 Injury Crash\n",
              "4                 Injury Crash\n",
              "                 ...          \n",
              "51485             Injury Crash\n",
              "51486             Injury Crash\n",
              "51487             Injury Crash\n",
              "51488             Injury Crash\n",
              "51489    Property Damage Crash\n",
              "Name: ACRS Report Type, Length: 51490, dtype: object"
            ]
          },
          "execution_count": 149,
          "metadata": {},
          "output_type": "execute_result"
        }
      ],
      "source": [
        "df['ACRS Report Type']"
      ]
    },
    {
      "cell_type": "code",
      "execution_count": null,
      "metadata": {
        "id": "Zg90ewJpHZ2g",
        "outputId": "6a7e67dd-dd64-4155-f4e1-20f4d992957c"
      },
      "outputs": [
        {
          "data": {
            "text/plain": [
              "Property Damage Crash    31660\n",
              "Injury Crash             18978\n",
              "Fatal Crash                852\n",
              "Name: ACRS Report Type, dtype: int64"
            ]
          },
          "execution_count": 150,
          "metadata": {},
          "output_type": "execute_result"
        }
      ],
      "source": [
        "df['ACRS Report Type'].value_counts()"
      ]
    },
    {
      "cell_type": "code",
      "execution_count": null,
      "metadata": {
        "id": "j9aYF30uHZ2g"
      },
      "outputs": [],
      "source": [
        "df['ACRS Report Type'].replace({'Property Damage Crash':0, 'Injury Crash':1, 'Fatal Crash':2},inplace=True)\n",
        "tst_data['ACRS Report Type'].replace({'Property Damage Crash':0, 'Injury Crash':1, 'Fatal Crash':2},inplace=True)\n"
      ]
    },
    {
      "cell_type": "code",
      "execution_count": null,
      "metadata": {
        "id": "3gpp6lnSHZ2g",
        "outputId": "4f5ba4ef-1fa8-4245-eb42-2cd2fbc828af"
      },
      "outputs": [
        {
          "data": {
            "text/plain": [
              "0        10196\n",
              "1        20080\n",
              "2        10103\n",
              "3        10208\n",
              "4         1091\n",
              "         ...  \n",
              "51485    10034\n",
              "51486    20221\n",
              "51487     1007\n",
              "51488     1034\n",
              "51489    10006\n",
              "Name: Local Case Number, Length: 51490, dtype: object"
            ]
          },
          "execution_count": 152,
          "metadata": {},
          "output_type": "execute_result"
        }
      ],
      "source": [
        "df['Local Case Number']"
      ]
    },
    {
      "cell_type": "code",
      "execution_count": null,
      "metadata": {
        "id": "IZ_7bTBmHZ2h",
        "outputId": "99bbfa46-e408-4f41-e152-844bea97c512"
      },
      "outputs": [
        {
          "data": {
            "text/plain": [
              "nan      6453\n",
              "1005      236\n",
              "1004      229\n",
              "1013      215\n",
              "1000      213\n",
              "         ... \n",
              "1505        1\n",
              "1100        1\n",
              "20556       1\n",
              "10903       1\n",
              "20531       1\n",
              "Name: Local Case Number, Length: 1430, dtype: int64"
            ]
          },
          "execution_count": 153,
          "metadata": {},
          "output_type": "execute_result"
        }
      ],
      "source": [
        "df['Local Case Number'].value_counts()"
      ]
    },
    {
      "cell_type": "code",
      "execution_count": null,
      "metadata": {
        "id": "mnm6MotpHZ2h"
      },
      "outputs": [],
      "source": [
        "df.drop(['Local Case Number'],axis=1,inplace=True)\n",
        "tst_data.drop(['Local Case Number'],axis=1,inplace=True)"
      ]
    },
    {
      "cell_type": "code",
      "execution_count": null,
      "metadata": {
        "id": "LBheJuwMHZ2i",
        "outputId": "46906bb9-4866-49b7-c3d4-055f724d1e89"
      },
      "outputs": [
        {
          "data": {
            "text/plain": [
              "(51490, 135)"
            ]
          },
          "execution_count": 155,
          "metadata": {},
          "output_type": "execute_result"
        }
      ],
      "source": [
        "df.shape"
      ]
    },
    {
      "cell_type": "code",
      "execution_count": null,
      "metadata": {
        "id": "T2PcomGWHZ2i",
        "outputId": "a4f9560e-9785-48fc-a90f-d2c302a89100"
      },
      "outputs": [
        {
          "data": {
            "text/plain": [
              "(77235, 135)"
            ]
          },
          "execution_count": 156,
          "metadata": {},
          "output_type": "execute_result"
        }
      ],
      "source": [
        "tst_data.shape"
      ]
    },
    {
      "cell_type": "code",
      "execution_count": null,
      "metadata": {
        "id": "11xXm2ydHZ2j",
        "outputId": "77389f97-6ba5-45b7-e045-20904346193f"
      },
      "outputs": [
        {
          "data": {
            "text/plain": [
              "0         Montgomery County Police\n",
              "1         Montgomery County Police\n",
              "2         Montgomery County Police\n",
              "3         Montgomery County Police\n",
              "4         Montgomery County Police\n",
              "                   ...            \n",
              "51485     Montgomery County Police\n",
              "51486     Montgomery County Police\n",
              "51487     Montgomery County Police\n",
              "51488    Rockville Police Departme\n",
              "51489     Montgomery County Police\n",
              "Name: Agency Name, Length: 51490, dtype: object"
            ]
          },
          "execution_count": 157,
          "metadata": {},
          "output_type": "execute_result"
        }
      ],
      "source": [
        "df['Agency Name']"
      ]
    },
    {
      "cell_type": "code",
      "execution_count": null,
      "metadata": {
        "id": "bHPoFIBnHZ2j",
        "outputId": "de98945d-5226-453e-8eb2-0ae1f29a19eb"
      },
      "outputs": [
        {
          "data": {
            "text/plain": [
              "Montgomery County Police     39084\n",
              "MONTGOMERY                    4246\n",
              "Rockville Police Departme     2888\n",
              "Gaithersburg Police Depar     2241\n",
              "Takoma Park Police Depart     1052\n",
              "Maryland-National Capital      525\n",
              "ROCKVILLE                      502\n",
              "GAITHERSBURG                   404\n",
              "MCPARK                         277\n",
              "TAKOMA                         271\n",
              "Name: Agency Name, dtype: int64"
            ]
          },
          "execution_count": 158,
          "metadata": {},
          "output_type": "execute_result"
        }
      ],
      "source": [
        "df['Agency Name'].value_counts()"
      ]
    },
    {
      "cell_type": "code",
      "execution_count": null,
      "metadata": {
        "id": "x9AfzB99HZ2k"
      },
      "outputs": [],
      "source": [
        "def split_lower(x):\n",
        "    split_list = x.split(' ')\n",
        "    mean = split_list[0].lower()\n",
        "    return mean\n",
        "df['Agency Name'] = df['Agency Name'].apply(lambda x: split_lower(x))\n",
        "tst_data['Agency Name'] = tst_data['Agency Name'].apply(lambda x: split_lower(x))"
      ]
    },
    {
      "cell_type": "code",
      "execution_count": null,
      "metadata": {
        "id": "-ddHGFnZHZ2k",
        "outputId": "19c5cd64-6af4-4cf1-cee8-86dbea39f3fb"
      },
      "outputs": [
        {
          "data": {
            "text/plain": [
              "montgomery           43330\n",
              "rockville             3390\n",
              "gaithersburg          2645\n",
              "takoma                1323\n",
              "maryland-national      525\n",
              "mcpark                 277\n",
              "Name: Agency Name, dtype: int64"
            ]
          },
          "execution_count": 160,
          "metadata": {},
          "output_type": "execute_result"
        }
      ],
      "source": [
        "df['Agency Name'].value_counts()"
      ]
    },
    {
      "cell_type": "code",
      "execution_count": null,
      "metadata": {
        "id": "gDJinWL6HZ2l"
      },
      "outputs": [],
      "source": [
        "df['Agency Name'] = [x if ((x=='montgomery') | (x=='rockville')) else 'OTHER' for x in df['Agency Name']]\n"
      ]
    },
    {
      "cell_type": "code",
      "execution_count": null,
      "metadata": {
        "id": "CKhtUAbEHZ2l"
      },
      "outputs": [],
      "source": [
        "tst_data['Agency Name'] = [x if ((x=='montgomery') | (x=='rockville')) else 'OTHER' for x in tst_data['Agency Name']]"
      ]
    },
    {
      "cell_type": "code",
      "execution_count": null,
      "metadata": {
        "id": "Z5218uvwHZ2l"
      },
      "outputs": [],
      "source": [
        "\n",
        "df,new,tst_data,new_test =onehot(df,'Agency Name',tst_data)\n",
        "df=pd.concat([df,new],axis=1)\n",
        "tst_data=pd.concat([tst_data,new_test],axis=1)"
      ]
    },
    {
      "cell_type": "code",
      "execution_count": null,
      "metadata": {
        "id": "lHvb1rdFHZ2m"
      },
      "outputs": [],
      "source": []
    },
    {
      "cell_type": "code",
      "execution_count": null,
      "metadata": {
        "id": "rLds2vCIHZ2m"
      },
      "outputs": [],
      "source": [
        "def add_dateparts(df, col):\n",
        "    df[col + '_year'] = df[col].dt.year\n",
        "    df[col + '_month'] = df[col].dt.month\n",
        "    df[col + '_day'] = df[col].dt.day\n",
        "    df[col + '_weekday'] = df[col].dt.weekday\n",
        "    df[col + '_hour'] = df[col].dt.hour\n",
        "add_dateparts(df,'Crash Date/Time')\n",
        "add_dateparts(tst_data,'Crash Date/Time')"
      ]
    },
    {
      "cell_type": "code",
      "execution_count": null,
      "metadata": {
        "id": "zFWkfwQZHZ2m"
      },
      "outputs": [],
      "source": [
        "df.drop(['Crash Date/Time'],axis=1, inplace=True)\n",
        "tst_data.drop(['Crash Date/Time'],axis=1, inplace=True)\n"
      ]
    },
    {
      "cell_type": "code",
      "execution_count": null,
      "metadata": {
        "id": "IXRKW-WgHZ2m",
        "outputId": "be09274d-dc79-4bdb-b5a9-b45fdf717d24"
      },
      "outputs": [
        {
          "data": {
            "text/plain": [
              "0"
            ]
          },
          "execution_count": 166,
          "metadata": {},
          "output_type": "execute_result"
        }
      ],
      "source": [
        "s = (df.dtypes == 'object')\n",
        "\n",
        "object_cols = list(s[s].index)\n",
        "len(object_cols)"
      ]
    },
    {
      "cell_type": "code",
      "execution_count": null,
      "metadata": {
        "id": "jt4luddWHZ2n",
        "outputId": "15b8404b-bb61-48c3-cf9a-eb203c5e1e8b"
      },
      "outputs": [
        {
          "data": {
            "text/plain": [
              "0"
            ]
          },
          "execution_count": 167,
          "metadata": {},
          "output_type": "execute_result"
        }
      ],
      "source": [
        "s = (tst_data.dtypes == 'object')\n",
        "\n",
        "object_cols = list(s[s].index)\n",
        "len(object_cols)"
      ]
    },
    {
      "cell_type": "code",
      "execution_count": null,
      "metadata": {
        "id": "aJTA4wT5HZ2n",
        "outputId": "1f9516aa-a848-479f-ad69-a1ad699f294c"
      },
      "outputs": [
        {
          "data": {
            "text/plain": [
              "0    31660\n",
              "1    18978\n",
              "2      852\n",
              "Name: ACRS Report Type, dtype: int64"
            ]
          },
          "execution_count": 168,
          "metadata": {},
          "output_type": "execute_result"
        }
      ],
      "source": [
        "df['ACRS Report Type'].value_counts()"
      ]
    },
    {
      "cell_type": "code",
      "execution_count": null,
      "metadata": {
        "id": "3N4zO5UhHZ2o",
        "outputId": "c636e957-959e-492b-8e08-34d2842faabd"
      },
      "outputs": [
        {
          "data": {
            "text/plain": [
              "141"
            ]
          },
          "execution_count": 169,
          "metadata": {},
          "output_type": "execute_result"
        }
      ],
      "source": [
        "n = ((df.dtypes == \"int64\" ) | (df.dtypes == \"float64\"))\n",
        "numerical_cols = list(n[n].index)\n",
        "len(numerical_cols)"
      ]
    },
    {
      "cell_type": "code",
      "execution_count": null,
      "metadata": {
        "id": "W1gKEwb-HZ2o",
        "outputId": "9af0fafc-861c-4eba-9149-c905e23de00d"
      },
      "outputs": [
        {
          "data": {
            "text/plain": [
              "141"
            ]
          },
          "execution_count": 170,
          "metadata": {},
          "output_type": "execute_result"
        }
      ],
      "source": [
        "n = ((tst_data.dtypes == \"int64\" ) | (tst_data.dtypes == \"float64\"))\n",
        "numerical_cols = list(n[n].index)\n",
        "len(numerical_cols)"
      ]
    },
    {
      "cell_type": "code",
      "execution_count": null,
      "metadata": {
        "scrolled": true,
        "id": "tlE6jdBXHZ2o",
        "outputId": "89dce9a9-4182-4c42-daec-33d8001c1118"
      },
      "outputs": [
        {
          "data": {
            "text/plain": [
              "(51490, 141)"
            ]
          },
          "execution_count": 171,
          "metadata": {},
          "output_type": "execute_result"
        }
      ],
      "source": [
        "df.shape"
      ]
    },
    {
      "cell_type": "code",
      "execution_count": null,
      "metadata": {
        "id": "zF9ggtV8HZ2p",
        "outputId": "7b1227f2-c17e-446b-83a9-0b436a76998a"
      },
      "outputs": [
        {
          "data": {
            "text/plain": [
              "(77235, 141)"
            ]
          },
          "execution_count": 172,
          "metadata": {},
          "output_type": "execute_result"
        }
      ],
      "source": [
        "tst_data.shape"
      ]
    },
    {
      "cell_type": "code",
      "execution_count": null,
      "metadata": {
        "id": "UYZy74xXHZ2p",
        "outputId": "76aefbef-f28c-49de-c8e9-63f061f507b5"
      },
      "outputs": [
        {
          "name": "stdout",
          "output_type": "stream",
          "text": [
            "<class 'pandas.core.frame.DataFrame'>\n",
            "RangeIndex: 77235 entries, 0 to 77234\n",
            "Columns: 141 entries, Id to Crash Date/Time_hour\n",
            "dtypes: float64(129), int64(12)\n",
            "memory usage: 83.1 MB\n"
          ]
        }
      ],
      "source": [
        "tst_data.info()"
      ]
    },
    {
      "cell_type": "code",
      "execution_count": null,
      "metadata": {
        "id": "K_uKzSW7HZ2p"
      },
      "outputs": [],
      "source": [
        "df_train = df\n",
        "df_test = tst_data"
      ]
    },
    {
      "cell_type": "code",
      "execution_count": null,
      "metadata": {
        "id": "aesh6JacHZ2p",
        "outputId": "ac9d1b4c-bf28-44ee-c1ae-ac15aae15696"
      },
      "outputs": [
        {
          "data": {
            "text/plain": [
              "{'Id': 0,\n",
              " 'ACRS Report Type': 0,\n",
              " 'Injury Severity': 0,\n",
              " 'Speed Limit': 0,\n",
              " 'Driverless Vehicle': 0,\n",
              " 'Parked Vehicle': 0,\n",
              " 'Vehicle Year': 0,\n",
              " 'Latitude': 0,\n",
              " 'Longitude': 0,\n",
              " 'Vehicle Damage ExtentDESTROYED': 0,\n",
              " 'Vehicle Damage ExtentDISABLING': 0,\n",
              " 'Vehicle Damage ExtentFUNCTIONAL': 0,\n",
              " 'Vehicle Damage ExtentNO DAMAGE': 0,\n",
              " 'Vehicle Damage ExtentOTHER': 0,\n",
              " 'Vehicle Damage ExtentSUPERFICIAL': 0,\n",
              " 'Vehicle Damage ExtentUNKNOWN': 0,\n",
              " 'Vehicle Damage Extentnan': 0,\n",
              " 'Equipment ProblemsAIR BAG FAILED': 0,\n",
              " 'Equipment ProblemsBELT(S) MISUSED': 0,\n",
              " 'Equipment ProblemsBELTS/ANCHORS BROKE': 0,\n",
              " 'Equipment ProblemsFACING WRONG WAY': 0,\n",
              " 'Equipment ProblemsNO MISUSE': 0,\n",
              " 'Equipment ProblemsOTHER': 0,\n",
              " 'Equipment ProblemsSTRAP/TETHER LOOSE': 0,\n",
              " 'Equipment ProblemsUNKNOWN': 0,\n",
              " 'Equipment Problemsnan': 0,\n",
              " 'Vehicle Going DirEast': 0,\n",
              " 'Vehicle Going DirNorth': 0,\n",
              " 'Vehicle Going DirSouth': 0,\n",
              " 'Vehicle Going DirUnknown': 0,\n",
              " 'Vehicle Going DirWest': 0,\n",
              " 'Vehicle Going Dirnan': 0,\n",
              " 'Vehicle Continuing DirEast': 0,\n",
              " 'Vehicle Continuing DirNorth': 0,\n",
              " 'Vehicle Continuing DirSouth': 0,\n",
              " 'Vehicle Continuing DirUnknown': 0,\n",
              " 'Vehicle Continuing DirWest': 0,\n",
              " 'Vehicle Continuing Dirnan': 0,\n",
              " 'Vehicle MovementACCELERATING': 0,\n",
              " 'Vehicle MovementCHANGING LANES': 0,\n",
              " 'Vehicle MovementMAKING LEFT TURN': 0,\n",
              " 'Vehicle MovementMAKING RIGHT TURN': 0,\n",
              " 'Vehicle MovementMOVING CONSTANT SPEED': 0,\n",
              " 'Vehicle MovementOTHER': 0,\n",
              " 'Vehicle MovementSLOWING OR STOPPING': 0,\n",
              " 'Vehicle MovementSTARTING FROM LANE': 0,\n",
              " 'Vehicle MovementSTOPPED IN TRAFFIC LANE': 0,\n",
              " 'Vehicle Body Type(SPORT) UTILITY VEHICLE': 0,\n",
              " 'Vehicle Body TypeCARGO VAN/LIGHT TRUCK 2 AXLES (OVER 10,000LBS (4,536 KG))': 0,\n",
              " 'Vehicle Body TypeOTHER': 0,\n",
              " 'Vehicle Body TypePASSENGER CAR': 0,\n",
              " 'Vehicle Body TypePICKUP TRUCK': 0,\n",
              " 'Vehicle Body TypeSCHOOL BUS': 0,\n",
              " 'Vehicle Body TypeTRANSIT BUS': 0,\n",
              " 'Vehicle Body TypeVAN': 0,\n",
              " 'Vehicle First Impact LocationEIGHT OCLOCK': 0,\n",
              " 'Vehicle First Impact LocationELEVEN OCLOCK': 0,\n",
              " 'Vehicle First Impact LocationFIVE OCLOCK': 0,\n",
              " 'Vehicle First Impact LocationFOUR OCLOCK': 0,\n",
              " 'Vehicle First Impact LocationNINE OCLOCK': 0,\n",
              " 'Vehicle First Impact LocationONE OCLOCK': 0,\n",
              " 'Vehicle First Impact LocationOTHER': 0,\n",
              " 'Vehicle First Impact LocationSEVEN OCLOCK': 0,\n",
              " 'Vehicle First Impact LocationSIX OCLOCK': 0,\n",
              " 'Vehicle First Impact LocationTEN OCLOCK': 0,\n",
              " 'Vehicle First Impact LocationTHREE OCLOCK': 0,\n",
              " 'Vehicle First Impact LocationTWELVE OCLOCK': 0,\n",
              " 'Vehicle First Impact LocationTWO OCLOCK': 0,\n",
              " 'Vehicle First Impact Locationnan': 0,\n",
              " 'Vehicle Second Impact LocationEIGHT OCLOCK': 0,\n",
              " 'Vehicle Second Impact LocationELEVEN OCLOCK': 0,\n",
              " 'Vehicle Second Impact LocationFIVE OCLOCK': 0,\n",
              " 'Vehicle Second Impact LocationFOUR OCLOCK': 0,\n",
              " 'Vehicle Second Impact LocationNINE OCLOCK': 0,\n",
              " 'Vehicle Second Impact LocationONE OCLOCK': 0,\n",
              " 'Vehicle Second Impact LocationOTHER': 0,\n",
              " 'Vehicle Second Impact LocationSEVEN OCLOCK': 0,\n",
              " 'Vehicle Second Impact LocationSIX OCLOCK': 0,\n",
              " 'Vehicle Second Impact LocationTEN OCLOCK': 0,\n",
              " 'Vehicle Second Impact LocationTHREE OCLOCK': 0,\n",
              " 'Vehicle Second Impact LocationTWELVE OCLOCK': 0,\n",
              " 'Vehicle Second Impact LocationTWO OCLOCK': 0,\n",
              " 'Vehicle Second Impact Locationnan': 0,\n",
              " 'Drivers License StateDC': 0,\n",
              " 'Drivers License StateFL': 0,\n",
              " 'Drivers License StateMD': 0,\n",
              " 'Drivers License StateOTHER': 0,\n",
              " 'Drivers License StatePA': 0,\n",
              " 'Drivers License StateVA': 0,\n",
              " 'Drivers License StateXX': 0,\n",
              " 'Driver Substance AbuseALCOHOL CONTRIBUTED': 0,\n",
              " 'Driver Substance AbuseALCOHOL PRESENT': 0,\n",
              " 'Driver Substance AbuseCOMBINATION CONTRIBUTED': 0,\n",
              " 'Driver Substance AbuseCOMBINED SUBSTANCE PRESENT': 0,\n",
              " 'Driver Substance AbuseILLEGAL DRUG CONTRIBUTED': 0,\n",
              " 'Driver Substance AbuseILLEGAL DRUG PRESENT': 0,\n",
              " 'Driver Substance AbuseMEDICATION CONTRIBUTED': 0,\n",
              " 'Driver Substance AbuseMEDICATION PRESENT': 0,\n",
              " 'Driver Substance AbuseNONE DETECTED': 0,\n",
              " 'Driver Substance AbuseOTHER': 0,\n",
              " 'Driver Substance AbuseUNKNOWN': 0,\n",
              " 'Driver Substance Abusenan': 0,\n",
              " 'Traffic ControlNO CONTROLS': 0,\n",
              " 'Traffic ControlOTHER': 0,\n",
              " 'Traffic ControlSTOP SIGN': 0,\n",
              " 'Traffic ControlTRAFFIC SIGNAL': 0,\n",
              " 'LightDARK -- UNKNOWN LIGHTING': 0,\n",
              " 'LightDARK LIGHTS ON': 0,\n",
              " 'LightDARK NO LIGHTS': 0,\n",
              " 'LightDAWN': 0,\n",
              " 'LightDAYLIGHT': 0,\n",
              " 'LightDUSK': 0,\n",
              " 'LightOTHER': 0,\n",
              " 'LightUNKNOWN': 0,\n",
              " 'Lightnan': 0,\n",
              " 'Surface ConditionDRY': 0,\n",
              " 'Surface ConditionOTHER': 0,\n",
              " 'Surface ConditionWET': 0,\n",
              " 'WeatherCLEAR': 0,\n",
              " 'WeatherCLOUDY': 0,\n",
              " 'WeatherOTHER': 0,\n",
              " 'WeatherRAINING': 0,\n",
              " 'Collision TypeHEAD ON': 0,\n",
              " 'Collision TypeHEAD ON LEFT TURN': 0,\n",
              " 'Collision TypeOTHER': 0,\n",
              " 'Collision TypeSAME DIR REAR END': 0,\n",
              " 'Collision TypeSAME DIRECTION SIDESWIPE': 0,\n",
              " 'Collision TypeSINGLE VEHICLE': 0,\n",
              " 'Collision TypeSTRAIGHT MOVEMENT ANGLE': 0,\n",
              " 'Cross-Street TypeCounty': 0,\n",
              " 'Cross-Street TypeMaryland (State)': 0,\n",
              " 'Cross-Street TypeMunicipality': 0,\n",
              " 'Cross-Street TypeOTHER': 0,\n",
              " 'Agency NameOTHER': 0,\n",
              " 'Agency Namemontgomery': 0,\n",
              " 'Agency Namerockville': 0,\n",
              " 'Crash Date/Time_year': 0,\n",
              " 'Crash Date/Time_month': 0,\n",
              " 'Crash Date/Time_day': 0,\n",
              " 'Crash Date/Time_weekday': 0,\n",
              " 'Crash Date/Time_hour': 0}"
            ]
          },
          "execution_count": 175,
          "metadata": {},
          "output_type": "execute_result"
        }
      ],
      "source": [
        "Colns_null_count_tst = dict(df_test.isnull().sum())\n",
        "Colns_null_count_tst"
      ]
    },
    {
      "cell_type": "code",
      "execution_count": null,
      "metadata": {
        "scrolled": true,
        "id": "jbWExxZ3HZ2q",
        "outputId": "9375a309-1d81-4c79-b807-b6b3edfc3fe1"
      },
      "outputs": [
        {
          "data": {
            "text/plain": [
              "Id                         0\n",
              "ACRS Report Type           0\n",
              "Injury Severity            0\n",
              "Speed Limit                0\n",
              "Driverless Vehicle         0\n",
              "                          ..\n",
              "Crash Date/Time_year       0\n",
              "Crash Date/Time_month      0\n",
              "Crash Date/Time_day        0\n",
              "Crash Date/Time_weekday    0\n",
              "Crash Date/Time_hour       0\n",
              "Length: 141, dtype: int64"
            ]
          },
          "execution_count": 176,
          "metadata": {},
          "output_type": "execute_result"
        }
      ],
      "source": [
        "df_test.isnull().sum()"
      ]
    },
    {
      "cell_type": "code",
      "execution_count": null,
      "metadata": {
        "id": "vFKtjpPyHZ2q",
        "outputId": "ed64b00c-7ddd-4269-9ff0-00a6a97b2275"
      },
      "outputs": [
        {
          "data": {
            "text/plain": [
              "0"
            ]
          },
          "execution_count": 177,
          "metadata": {},
          "output_type": "execute_result"
        }
      ],
      "source": [
        "s = (df_test.dtypes == 'object')\n",
        "\n",
        "object_cols = list(s[s].index)\n",
        "len(object_cols)"
      ]
    },
    {
      "cell_type": "code",
      "execution_count": null,
      "metadata": {
        "id": "RqsTk3sZHZ2q",
        "outputId": "7864a423-97e5-4175-b783-5338cb834544"
      },
      "outputs": [
        {
          "data": {
            "text/plain": [
              "Id                         int64\n",
              "ACRS Report Type           int64\n",
              "Injury Severity            int64\n",
              "Speed Limit                int64\n",
              "Driverless Vehicle         int64\n",
              "                           ...  \n",
              "Crash Date/Time_year       int64\n",
              "Crash Date/Time_month      int64\n",
              "Crash Date/Time_day        int64\n",
              "Crash Date/Time_weekday    int64\n",
              "Crash Date/Time_hour       int64\n",
              "Length: 141, dtype: object"
            ]
          },
          "execution_count": 178,
          "metadata": {},
          "output_type": "execute_result"
        }
      ],
      "source": [
        "df_test.dtypes"
      ]
    },
    {
      "cell_type": "code",
      "execution_count": null,
      "metadata": {
        "id": "Lwwhzp74HZ2r"
      },
      "outputs": [],
      "source": [
        "df_train_x = df_train.drop('Fault', axis=1)"
      ]
    },
    {
      "cell_type": "code",
      "execution_count": null,
      "metadata": {
        "id": "Ldv3vGUcHZ2r"
      },
      "outputs": [],
      "source": [
        "df_train_y = df['Fault']"
      ]
    },
    {
      "cell_type": "code",
      "execution_count": null,
      "metadata": {
        "id": "m1CnNpbQHZ2r",
        "outputId": "bf990bf0-96b6-48a3-897b-9229eb5540aa"
      },
      "outputs": [
        {
          "data": {
            "text/plain": [
              "0            0\n",
              "1            1\n",
              "2            2\n",
              "3            3\n",
              "4            4\n",
              "         ...  \n",
              "77230    77230\n",
              "77231    77231\n",
              "77232    77232\n",
              "77233    77233\n",
              "77234    77234\n",
              "Name: Id, Length: 77235, dtype: int64"
            ]
          },
          "execution_count": 181,
          "metadata": {},
          "output_type": "execute_result"
        }
      ],
      "source": [
        "tst_data['Id']"
      ]
    },
    {
      "cell_type": "code",
      "execution_count": null,
      "metadata": {
        "id": "sN9qqK5qHZ2s"
      },
      "outputs": [],
      "source": [
        "df_test_x=tst_data.drop(\"Id\",axis=1)"
      ]
    },
    {
      "cell_type": "code",
      "execution_count": null,
      "metadata": {
        "id": "91b6aEvzHZ2s",
        "outputId": "a0061fb4-d905-466b-e2e6-6d92a8d4534d"
      },
      "outputs": [
        {
          "data": {
            "text/plain": [
              "(51490, 140)"
            ]
          },
          "execution_count": 183,
          "metadata": {},
          "output_type": "execute_result"
        }
      ],
      "source": [
        "df_train_x.shape"
      ]
    },
    {
      "cell_type": "code",
      "execution_count": null,
      "metadata": {
        "id": "p-PWSjuIHZ2s",
        "outputId": "112c15da-a7ae-40ce-804b-b777e6fd3f63"
      },
      "outputs": [
        {
          "data": {
            "text/plain": [
              "(77235, 140)"
            ]
          },
          "execution_count": 184,
          "metadata": {},
          "output_type": "execute_result"
        }
      ],
      "source": [
        "df_test_x.shape"
      ]
    },
    {
      "cell_type": "code",
      "execution_count": null,
      "metadata": {
        "id": "a7PCtFLAHZ2s"
      },
      "outputs": [],
      "source": [
        "from sklearn.ensemble import GradientBoostingClassifier\n",
        "from sklearn.metrics import accuracy_score\n",
        "from sklearn.linear_model import LogisticRegression\n",
        "from sklearn.feature_selection import RFE\n",
        "from sklearn.svm import SVC"
      ]
    },
    {
      "cell_type": "code",
      "execution_count": null,
      "metadata": {
        "id": "rSWKX4eGHZ2t"
      },
      "outputs": [],
      "source": []
    },
    {
      "cell_type": "code",
      "execution_count": null,
      "metadata": {
        "id": "bPR4ZM9OHZ2t"
      },
      "outputs": [],
      "source": []
    },
    {
      "cell_type": "code",
      "execution_count": null,
      "metadata": {
        "id": "eQnp7pgeHZ2t"
      },
      "outputs": [],
      "source": []
    },
    {
      "cell_type": "code",
      "execution_count": null,
      "metadata": {
        "id": "Ubq30PQ3HZ2t"
      },
      "outputs": [],
      "source": []
    },
    {
      "cell_type": "code",
      "execution_count": null,
      "metadata": {
        "id": "89NQ8p0OHZ2t"
      },
      "outputs": [],
      "source": []
    },
    {
      "cell_type": "code",
      "execution_count": null,
      "metadata": {
        "id": "lykAOG71HZ2t"
      },
      "outputs": [],
      "source": []
    },
    {
      "cell_type": "code",
      "execution_count": null,
      "metadata": {
        "id": "XsF7_AqNHZ2t"
      },
      "outputs": [],
      "source": []
    },
    {
      "cell_type": "code",
      "execution_count": null,
      "metadata": {
        "id": "5ic4eUYMHZ2u"
      },
      "outputs": [],
      "source": []
    },
    {
      "cell_type": "code",
      "execution_count": null,
      "metadata": {
        "id": "llSP3f20HZ2u"
      },
      "outputs": [],
      "source": []
    },
    {
      "cell_type": "code",
      "execution_count": null,
      "metadata": {
        "id": "FWGcsXqKHZ2u"
      },
      "outputs": [],
      "source": []
    },
    {
      "cell_type": "code",
      "execution_count": null,
      "metadata": {
        "id": "d496pVm5HZ2u"
      },
      "outputs": [],
      "source": []
    },
    {
      "cell_type": "code",
      "execution_count": null,
      "metadata": {
        "id": "JO747XaFHZ2u"
      },
      "outputs": [],
      "source": []
    },
    {
      "cell_type": "code",
      "execution_count": null,
      "metadata": {
        "id": "ZC7UNGrCHZ2u"
      },
      "outputs": [],
      "source": []
    },
    {
      "cell_type": "code",
      "execution_count": null,
      "metadata": {
        "id": "OFyxQ-feHZ2u"
      },
      "outputs": [],
      "source": []
    },
    {
      "cell_type": "code",
      "execution_count": null,
      "metadata": {
        "id": "_q60CToCHZ2v"
      },
      "outputs": [],
      "source": []
    },
    {
      "cell_type": "code",
      "execution_count": null,
      "metadata": {
        "id": "jjnvuSpBHZ2v"
      },
      "outputs": [],
      "source": []
    },
    {
      "cell_type": "code",
      "execution_count": null,
      "metadata": {
        "id": "xxMmI8ybHZ2v"
      },
      "outputs": [],
      "source": []
    },
    {
      "cell_type": "code",
      "execution_count": null,
      "metadata": {
        "id": "ALQWtMvMHZ2v"
      },
      "outputs": [],
      "source": []
    },
    {
      "cell_type": "code",
      "execution_count": null,
      "metadata": {
        "id": "hYpZohlXHZ2v"
      },
      "outputs": [],
      "source": []
    },
    {
      "cell_type": "code",
      "execution_count": null,
      "metadata": {
        "id": "tRU4Y2dkHZ2v"
      },
      "outputs": [],
      "source": []
    },
    {
      "cell_type": "code",
      "execution_count": null,
      "metadata": {
        "id": "dQE3MqjYHZ2v"
      },
      "outputs": [],
      "source": []
    },
    {
      "cell_type": "code",
      "execution_count": null,
      "metadata": {
        "id": "W6nKtKU7HZ2w",
        "outputId": "04b2a02a-07fd-4b7a-8259-5d6de1ff6c30"
      },
      "outputs": [
        {
          "name": "stdout",
          "output_type": "stream",
          "text": [
            "Requirement already satisfied: xgboost in e:\\anaconda3\\lib\\site-packages (1.5.0)Note: you may need to restart the kernel to use updated packages.\n",
            "\n",
            "Requirement already satisfied: scipy in e:\\anaconda3\\lib\\site-packages (from xgboost) (1.6.2)\n",
            "Requirement already satisfied: numpy in e:\\anaconda3\\lib\\site-packages (from xgboost) (1.20.1)\n"
          ]
        }
      ],
      "source": [
        "pip install xgboost"
      ]
    },
    {
      "cell_type": "code",
      "execution_count": null,
      "metadata": {
        "id": "ophfxqpaHZ2w"
      },
      "outputs": [],
      "source": [
        "from sklearn.model_selection import RandomizedSearchCV, GridSearchCV\n",
        "import xgboost\n"
      ]
    },
    {
      "cell_type": "code",
      "execution_count": null,
      "metadata": {
        "id": "mNn5qC-NHZ2w"
      },
      "outputs": [],
      "source": []
    },
    {
      "cell_type": "code",
      "execution_count": null,
      "metadata": {
        "id": "NKC_UaOFHZ2w"
      },
      "outputs": [],
      "source": []
    },
    {
      "cell_type": "code",
      "execution_count": null,
      "metadata": {
        "id": "dsvU02khHZ2w"
      },
      "outputs": [],
      "source": []
    },
    {
      "cell_type": "code",
      "execution_count": null,
      "metadata": {
        "id": "-51nhmE8HZ2w"
      },
      "outputs": [],
      "source": []
    },
    {
      "cell_type": "code",
      "execution_count": null,
      "metadata": {
        "id": "9q3SIoxZHZ2x"
      },
      "outputs": [],
      "source": []
    },
    {
      "cell_type": "code",
      "execution_count": null,
      "metadata": {
        "id": "LxJrrJ2zHZ2x"
      },
      "outputs": [],
      "source": []
    },
    {
      "cell_type": "code",
      "execution_count": null,
      "metadata": {
        "id": "aVvaKCCNHZ2x"
      },
      "outputs": [],
      "source": []
    },
    {
      "cell_type": "code",
      "execution_count": null,
      "metadata": {
        "id": "X2GR5Gb7HZ2x",
        "outputId": "861d2997-c1ef-4131-a5fc-6b6c666eb941"
      },
      "outputs": [
        {
          "name": "stdout",
          "output_type": "stream",
          "text": [
            "Fitting 5 folds for each of 5 candidates, totalling 25 fits\n"
          ]
        },
        {
          "name": "stderr",
          "output_type": "stream",
          "text": [
            "[Parallel(n_jobs=-1)]: Using backend LokyBackend with 8 concurrent workers.\n",
            "[Parallel(n_jobs=-1)]: Done  19 out of  25 | elapsed:  1.7min remaining:   31.7s\n",
            "[Parallel(n_jobs=-1)]: Done  25 out of  25 | elapsed:  2.4min finished\n"
          ]
        },
        {
          "name": "stdout",
          "output_type": "stream",
          "text": [
            "[17:55:19] WARNING: C:/Users/Administrator/workspace/xgboost-win64_release_1.5.0/src/learner.cc:1115: Starting in XGBoost 1.3.0, the default evaluation metric used with the objective 'binary:logistic' was changed from 'error' to 'logloss'. Explicitly set eval_metric if you'd like to restore the old behavior.\n"
          ]
        },
        {
          "data": {
            "text/plain": [
              "RandomizedSearchCV(cv=5, error_score=0,\n",
              "                   estimator=XGBClassifier(base_score=None, booster=None,\n",
              "                                           colsample_bylevel=None,\n",
              "                                           colsample_bynode=None,\n",
              "                                           colsample_bytree=None,\n",
              "                                           enable_categorical=False, gamma=None,\n",
              "                                           gpu_id=None, importance_type=None,\n",
              "                                           interaction_constraints=None,\n",
              "                                           learning_rate=None,\n",
              "                                           max_delta_step=None, max_depth=None,\n",
              "                                           min_child_weight=None, missing=nan,\n",
              "                                           monoto...\n",
              "                                           validate_parameters=None,\n",
              "                                           verbosity=None),\n",
              "                   iid='warn', n_iter=5, n_jobs=-1,\n",
              "                   param_distributions={'colsample_bytree': [0.3, 0.4, 0.5,\n",
              "                                                             0.7],\n",
              "                                        'gamma': [0.0, 0.1, 0.2, 0.3, 0.4],\n",
              "                                        'learning_rate': [0.05, 0.1, 0.15, 0.2,\n",
              "                                                          0.25, 0.3],\n",
              "                                        'max_depth': [3, 4, 5, 6, 8, 10, 12,\n",
              "                                                      15],\n",
              "                                        'min_child_weight': [1, 3, 5, 7]},\n",
              "                   pre_dispatch='2*n_jobs', random_state=None, refit=True,\n",
              "                   return_train_score=False, scoring='roc_auc', verbose=3)"
            ]
          },
          "execution_count": 216,
          "metadata": {},
          "output_type": "execute_result"
        }
      ],
      "source": [
        "#from sklearn import cross_validation\n",
        "clf_xgb = xgboost.XGBClassifier(objective = 'binary:logistic')\n",
        "param_dist = {\"learning_rate\"    : [0.05, 0.10, 0.15, 0.20, 0.25, 0.30 ] ,\n",
        " \"max_depth\"        : [ 3, 4, 5, 6, 8, 10, 12, 15],\n",
        " \"min_child_weight\" : [ 1, 3, 5, 7 ],\n",
        " \"gamma\"            : [ 0.0, 0.1, 0.2 , 0.3, 0.4 ],\n",
        " \"colsample_bytree\" : [ 0.3, 0.4, 0.5 , 0.7 ]\n",
        "             }\n",
        "\n",
        "numFolds = 5\n",
        "#kfold_5 = cross_validation.KFold(n = len(X), shuffle = True, n_folds = numFolds)\n",
        "\n",
        "clf = RandomizedSearchCV(clf_xgb, \n",
        "                         param_distributions = param_dist,\n",
        "                         cv = 5,  \n",
        "                         n_iter = 5, # you want 5 here not 25 if I understand you correctly \n",
        "                         scoring = 'roc_auc', \n",
        "                         error_score = 0, \n",
        "                         verbose = 3, \n",
        "                         n_jobs = -1)\n",
        "clf.fit(df_train_x,df_train_y)"
      ]
    },
    {
      "cell_type": "code",
      "execution_count": null,
      "metadata": {
        "id": "asAOYKzfHZ2x",
        "outputId": "8bb0ccd3-5d7f-4518-f0ea-e05fbf441eed"
      },
      "outputs": [
        {
          "data": {
            "text/plain": [
              "{'min_child_weight': 1,\n",
              " 'max_depth': 8,\n",
              " 'learning_rate': 0.15,\n",
              " 'gamma': 0.2,\n",
              " 'colsample_bytree': 0.5}"
            ]
          },
          "execution_count": 193,
          "metadata": {},
          "output_type": "execute_result"
        }
      ],
      "source": [
        "clf.best_params_"
      ]
    },
    {
      "cell_type": "code",
      "execution_count": null,
      "metadata": {
        "id": "RT_JltJIHZ2y"
      },
      "outputs": [],
      "source": []
    },
    {
      "cell_type": "code",
      "execution_count": null,
      "metadata": {
        "id": "y7Ayez19HZ2y",
        "outputId": "cf9d4efb-cbc2-47e8-bfdb-cbd659eb9cea"
      },
      "outputs": [
        {
          "data": {
            "text/plain": [
              "XGBClassifier(base_score=0.5, booster='gbtree', colsample_bylevel=1,\n",
              "              colsample_bynode=1, colsample_bytree=0.5,\n",
              "              enable_categorical=False, gamma=0.2, gpu_id=-1,\n",
              "              importance_type=None, interaction_constraints='',\n",
              "              learning_rate=0.15, max_delta_step=0, max_depth=8,\n",
              "              min_child_weight=1, missing=nan, monotone_constraints='()',\n",
              "              n_estimators=100, n_jobs=8, num_parallel_tree=1,\n",
              "              objective='binary:logistic', predictor='auto', random_state=0,\n",
              "              reg_alpha=0, reg_lambda=1, scale_pos_weight=1, subsample=1,\n",
              "              tree_method='exact', use_label_encoder=True,\n",
              "              validate_parameters=1, verbosity=None)"
            ]
          },
          "execution_count": 195,
          "metadata": {},
          "output_type": "execute_result"
        }
      ],
      "source": [
        "clf.best_estimator_\n"
      ]
    },
    {
      "cell_type": "code",
      "execution_count": null,
      "metadata": {
        "id": "-UAikHv4HZ2y"
      },
      "outputs": [],
      "source": [
        "\n",
        "classifier=xgboost.XGBClassifier(base_score=0.5, booster='gbtree', colsample_bylevel=1,\n",
        "              colsample_bynode=1, colsample_bytree=0.5,\n",
        "              enable_categorical=False, gamma=0.2, gpu_id=-1,\n",
        "              importance_type=None, interaction_constraints='',\n",
        "              learning_rate=0.15, max_delta_step=0, max_depth=8,\n",
        "              min_child_weight=1,  monotone_constraints='()',\n",
        "              n_estimators=50, n_jobs=8, num_parallel_tree=1,\n",
        "              objective='binary:logistic', predictor='auto', random_state=0,\n",
        "              reg_alpha=0, reg_lambda=1, scale_pos_weight=1, subsample=1,\n",
        "              tree_method='exact', use_label_encoder=True,\n",
        "              validate_parameters=1, verbosity=None)"
      ]
    },
    {
      "cell_type": "code",
      "execution_count": null,
      "metadata": {
        "id": "9D0rqUevHZ2y",
        "outputId": "a059a716-5d10-4390-9b46-aa6b0d051c55"
      },
      "outputs": [
        {
          "name": "stdout",
          "output_type": "stream",
          "text": [
            "[19:04:48] WARNING: C:/Users/Administrator/workspace/xgboost-win64_release_1.5.0/src/learner.cc:1115: Starting in XGBoost 1.3.0, the default evaluation metric used with the objective 'binary:logistic' was changed from 'error' to 'logloss'. Explicitly set eval_metric if you'd like to restore the old behavior.\n"
          ]
        },
        {
          "data": {
            "text/plain": [
              "XGBClassifier(base_score=0.5, booster='gbtree', colsample_bylevel=1,\n",
              "              colsample_bynode=1, colsample_bytree=0.5,\n",
              "              enable_categorical=False, gamma=0.2, gpu_id=-1,\n",
              "              importance_type=None, interaction_constraints='',\n",
              "              learning_rate=0.15, max_delta_step=0, max_depth=8,\n",
              "              min_child_weight=1, missing=nan, monotone_constraints='()',\n",
              "              n_estimators=50, n_jobs=8, num_parallel_tree=1, predictor='auto',\n",
              "              random_state=0, reg_alpha=0, reg_lambda=1, scale_pos_weight=1,\n",
              "              subsample=1, tree_method='exact', validate_parameters=1,\n",
              "              verbosity=None)"
            ]
          },
          "execution_count": 210,
          "metadata": {},
          "output_type": "execute_result"
        }
      ],
      "source": [
        "classifier.fit(df_train_x,df_train_y)"
      ]
    },
    {
      "cell_type": "code",
      "execution_count": null,
      "metadata": {
        "id": "GtEVp9bgHZ2y",
        "outputId": "c02e0b6d-c17d-40c6-fa5c-5c6e3aedc05c"
      },
      "outputs": [
        {
          "data": {
            "text/plain": [
              "0.871334239658186"
            ]
          },
          "execution_count": 211,
          "metadata": {},
          "output_type": "execute_result"
        }
      ],
      "source": [
        "y_pred=classifier.predict(df_train_x)\n",
        "y_pred_test=classifier.predict(df_test_x)\n",
        "from sklearn.metrics import accuracy_score\n",
        "accuracy_score(df_train_y, y_pred)"
      ]
    },
    {
      "cell_type": "code",
      "execution_count": null,
      "metadata": {
        "id": "p5QWMPmgHZ2z",
        "outputId": "16dcef6b-715d-418b-a0c4-c1a919216b1c"
      },
      "outputs": [
        {
          "name": "stderr",
          "output_type": "stream",
          "text": [
            "E:\\anaconda3\\lib\\site-packages\\IPython\\core\\interactiveshell.py:3165: DtypeWarning: Columns (2) have mixed types.Specify dtype option on import or set low_memory=False.\n",
            "  has_raised = await self.run_ast_nodes(code_ast.body, cell_name,\n"
          ]
        }
      ],
      "source": [
        "test=pd.read_csv(r'test (1).csv',parse_dates=['Crash Date/Time'])\n",
        "OUTPUT =pd.DataFrame( { 'Id' : list(test['Id']), 'Fault':list(y_pred_test) })"
      ]
    },
    {
      "cell_type": "code",
      "execution_count": null,
      "metadata": {
        "id": "vKfpjVRSHZ2z"
      },
      "outputs": [],
      "source": [
        "OUTPUT.to_csv(r\"KaGGle_submission_FINALE_xgboost_1.csv\")"
      ]
    },
    {
      "cell_type": "code",
      "execution_count": null,
      "metadata": {
        "id": "PRP01p0LHZ2z"
      },
      "outputs": [],
      "source": []
    }
  ],
  "metadata": {
    "kernelspec": {
      "display_name": "Python 3",
      "language": "python",
      "name": "python3"
    },
    "language_info": {
      "codemirror_mode": {
        "name": "ipython",
        "version": 3
      },
      "file_extension": ".py",
      "mimetype": "text/x-python",
      "name": "python",
      "nbconvert_exporter": "python",
      "pygments_lexer": "ipython3",
      "version": "3.7.3"
    },
    "colab": {
      "provenance": []
    }
  },
  "nbformat": 4,
  "nbformat_minor": 0
}